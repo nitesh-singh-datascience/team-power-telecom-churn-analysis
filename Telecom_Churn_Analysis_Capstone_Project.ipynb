{
  "nbformat": 4,
  "nbformat_minor": 0,
  "metadata": {
    "kernelspec": {
      "display_name": "Python 3",
      "language": "python",
      "name": "python3"
    },
    "language_info": {
      "codemirror_mode": {
        "name": "ipython",
        "version": 3
      },
      "file_extension": ".py",
      "mimetype": "text/x-python",
      "name": "python",
      "nbconvert_exporter": "python",
      "pygments_lexer": "ipython3",
      "version": "3.6.6"
    },
    "colab": {
      "name": "Telecom Churn Analysis - Capstone Project.ipynb",
      "provenance": [],
      "collapsed_sections": [],
      "include_colab_link": true
    }
  },
  "cells": [
    {
      "cell_type": "markdown",
      "metadata": {
        "id": "view-in-github",
        "colab_type": "text"
      },
      "source": [
        "<a href=\"https://colab.research.google.com/github/nitesh-singh-datascience/team-power-telecom-churn-analysis/blob/Nitesh/Telecom_Churn_Analysis_Capstone_Project.ipynb\" target=\"_parent\"><img src=\"https://colab.research.google.com/assets/colab-badge.svg\" alt=\"Open In Colab\"/></a>"
      ]
    },
    {
      "cell_type": "markdown",
      "metadata": {
        "id": "Y06xIdG26kRF"
      },
      "source": [
        "## <b> Orange S.A., formerly France Télécom S.A., is a French multinational telecommunications corporation. The Orange Telecom's Churn Dataset, consists of cleaned customer activity data (features), along with a churn label specifying whether a customer canceled the subscription.\n",
        "\n",
        "## <b> Explore and analyze the data to discover key factors responsible for customer churn and come up with ways/recommendations to ensure customer retention. </b>"
      ]
    },
    {
      "cell_type": "markdown",
      "metadata": {
        "id": "n-_Drz8f03qr"
      },
      "source": [
        "# **“If I had an hour to solve a problem I'd spend 55 minutes thinking about the problem and 5 minutes thinking about solutions.”**\n",
        "# ― **Albert Einstein**"
      ]
    },
    {
      "cell_type": "code",
      "metadata": {
        "colab": {
          "base_uri": "https://localhost:8080/"
        },
        "id": "HuSikUthmGDY",
        "outputId": "3d471a98-aa8c-4df5-a910-e3eb0586760f"
      },
      "source": [
        "# Importing Drive into colab\n",
        "from google.colab import drive\n",
        "drive.mount('/content/drive')"
      ],
      "execution_count": 1,
      "outputs": [
        {
          "output_type": "stream",
          "text": [
            "Mounted at /content/drive\n"
          ],
          "name": "stdout"
        }
      ]
    },
    {
      "cell_type": "code",
      "metadata": {
        "id": "dByMsuzT8Tnw"
      },
      "source": [
        "# Importing the required modules\n",
        "import pandas as pd\n",
        "import numpy as np\n",
        "import matplotlib.pyplot as plt\n",
        "%matplotlib inline\n",
        "import seaborn as sb"
      ],
      "execution_count": 2,
      "outputs": []
    },
    {
      "cell_type": "code",
      "metadata": {
        "id": "WTE7S7R8mprS"
      },
      "source": [
        "# Importing data from csv_file to python pandas\n",
        "csv_data = pd.read_csv(\"/content/drive/MyDrive/AlmaBetter/Capstone Project - EDA/Telecom Churn.csv\")"
      ],
      "execution_count": 3,
      "outputs": []
    },
    {
      "cell_type": "code",
      "metadata": {
        "colab": {
          "base_uri": "https://localhost:8080/"
        },
        "id": "ZQWGbSesm8Qr",
        "outputId": "a5a5a4ea-3b07-48fd-8fe2-80a946c2aed7"
      },
      "source": [
        "type(csv_data)"
      ],
      "execution_count": 4,
      "outputs": [
        {
          "output_type": "execute_result",
          "data": {
            "text/plain": [
              "pandas.core.frame.DataFrame"
            ]
          },
          "metadata": {
            "tags": []
          },
          "execution_count": 4
        }
      ]
    },
    {
      "cell_type": "code",
      "metadata": {
        "colab": {
          "base_uri": "https://localhost:8080/",
          "height": 258
        },
        "id": "46smGLuPn1V4",
        "outputId": "65c9a3b5-a318-4d9b-c587-7c0a6f44e2d0"
      },
      "source": [
        "# Checking data\n",
        "csv_data.head()"
      ],
      "execution_count": 5,
      "outputs": [
        {
          "output_type": "execute_result",
          "data": {
            "text/html": [
              "<div>\n",
              "<style scoped>\n",
              "    .dataframe tbody tr th:only-of-type {\n",
              "        vertical-align: middle;\n",
              "    }\n",
              "\n",
              "    .dataframe tbody tr th {\n",
              "        vertical-align: top;\n",
              "    }\n",
              "\n",
              "    .dataframe thead th {\n",
              "        text-align: right;\n",
              "    }\n",
              "</style>\n",
              "<table border=\"1\" class=\"dataframe\">\n",
              "  <thead>\n",
              "    <tr style=\"text-align: right;\">\n",
              "      <th></th>\n",
              "      <th>State</th>\n",
              "      <th>Account length</th>\n",
              "      <th>Area code</th>\n",
              "      <th>International plan</th>\n",
              "      <th>Voice mail plan</th>\n",
              "      <th>Number vmail messages</th>\n",
              "      <th>Total day minutes</th>\n",
              "      <th>Total day calls</th>\n",
              "      <th>Total day charge</th>\n",
              "      <th>Total eve minutes</th>\n",
              "      <th>Total eve calls</th>\n",
              "      <th>Total eve charge</th>\n",
              "      <th>Total night minutes</th>\n",
              "      <th>Total night calls</th>\n",
              "      <th>Total night charge</th>\n",
              "      <th>Total intl minutes</th>\n",
              "      <th>Total intl calls</th>\n",
              "      <th>Total intl charge</th>\n",
              "      <th>Customer service calls</th>\n",
              "      <th>Churn</th>\n",
              "    </tr>\n",
              "  </thead>\n",
              "  <tbody>\n",
              "    <tr>\n",
              "      <th>0</th>\n",
              "      <td>KS</td>\n",
              "      <td>128</td>\n",
              "      <td>415</td>\n",
              "      <td>No</td>\n",
              "      <td>Yes</td>\n",
              "      <td>25</td>\n",
              "      <td>265.1</td>\n",
              "      <td>110</td>\n",
              "      <td>45.07</td>\n",
              "      <td>197.4</td>\n",
              "      <td>99</td>\n",
              "      <td>16.78</td>\n",
              "      <td>244.7</td>\n",
              "      <td>91</td>\n",
              "      <td>11.01</td>\n",
              "      <td>10.0</td>\n",
              "      <td>3</td>\n",
              "      <td>2.70</td>\n",
              "      <td>1</td>\n",
              "      <td>False</td>\n",
              "    </tr>\n",
              "    <tr>\n",
              "      <th>1</th>\n",
              "      <td>OH</td>\n",
              "      <td>107</td>\n",
              "      <td>415</td>\n",
              "      <td>No</td>\n",
              "      <td>Yes</td>\n",
              "      <td>26</td>\n",
              "      <td>161.6</td>\n",
              "      <td>123</td>\n",
              "      <td>27.47</td>\n",
              "      <td>195.5</td>\n",
              "      <td>103</td>\n",
              "      <td>16.62</td>\n",
              "      <td>254.4</td>\n",
              "      <td>103</td>\n",
              "      <td>11.45</td>\n",
              "      <td>13.7</td>\n",
              "      <td>3</td>\n",
              "      <td>3.70</td>\n",
              "      <td>1</td>\n",
              "      <td>False</td>\n",
              "    </tr>\n",
              "    <tr>\n",
              "      <th>2</th>\n",
              "      <td>NJ</td>\n",
              "      <td>137</td>\n",
              "      <td>415</td>\n",
              "      <td>No</td>\n",
              "      <td>No</td>\n",
              "      <td>0</td>\n",
              "      <td>243.4</td>\n",
              "      <td>114</td>\n",
              "      <td>41.38</td>\n",
              "      <td>121.2</td>\n",
              "      <td>110</td>\n",
              "      <td>10.30</td>\n",
              "      <td>162.6</td>\n",
              "      <td>104</td>\n",
              "      <td>7.32</td>\n",
              "      <td>12.2</td>\n",
              "      <td>5</td>\n",
              "      <td>3.29</td>\n",
              "      <td>0</td>\n",
              "      <td>False</td>\n",
              "    </tr>\n",
              "    <tr>\n",
              "      <th>3</th>\n",
              "      <td>OH</td>\n",
              "      <td>84</td>\n",
              "      <td>408</td>\n",
              "      <td>Yes</td>\n",
              "      <td>No</td>\n",
              "      <td>0</td>\n",
              "      <td>299.4</td>\n",
              "      <td>71</td>\n",
              "      <td>50.90</td>\n",
              "      <td>61.9</td>\n",
              "      <td>88</td>\n",
              "      <td>5.26</td>\n",
              "      <td>196.9</td>\n",
              "      <td>89</td>\n",
              "      <td>8.86</td>\n",
              "      <td>6.6</td>\n",
              "      <td>7</td>\n",
              "      <td>1.78</td>\n",
              "      <td>2</td>\n",
              "      <td>False</td>\n",
              "    </tr>\n",
              "    <tr>\n",
              "      <th>4</th>\n",
              "      <td>OK</td>\n",
              "      <td>75</td>\n",
              "      <td>415</td>\n",
              "      <td>Yes</td>\n",
              "      <td>No</td>\n",
              "      <td>0</td>\n",
              "      <td>166.7</td>\n",
              "      <td>113</td>\n",
              "      <td>28.34</td>\n",
              "      <td>148.3</td>\n",
              "      <td>122</td>\n",
              "      <td>12.61</td>\n",
              "      <td>186.9</td>\n",
              "      <td>121</td>\n",
              "      <td>8.41</td>\n",
              "      <td>10.1</td>\n",
              "      <td>3</td>\n",
              "      <td>2.73</td>\n",
              "      <td>3</td>\n",
              "      <td>False</td>\n",
              "    </tr>\n",
              "  </tbody>\n",
              "</table>\n",
              "</div>"
            ],
            "text/plain": [
              "  State  Account length  ...  Customer service calls  Churn\n",
              "0    KS             128  ...                       1  False\n",
              "1    OH             107  ...                       1  False\n",
              "2    NJ             137  ...                       0  False\n",
              "3    OH              84  ...                       2  False\n",
              "4    OK              75  ...                       3  False\n",
              "\n",
              "[5 rows x 20 columns]"
            ]
          },
          "metadata": {
            "tags": []
          },
          "execution_count": 5
        }
      ]
    },
    {
      "cell_type": "code",
      "metadata": {
        "colab": {
          "base_uri": "https://localhost:8080/"
        },
        "id": "sgjOl8SToYID",
        "outputId": "d70f44e6-f4f9-4c17-a1ab-bff20538832f"
      },
      "source": [
        "# This function helps in having a look at data columns, null values in columns\n",
        "csv_data.info()"
      ],
      "execution_count": 6,
      "outputs": [
        {
          "output_type": "stream",
          "text": [
            "<class 'pandas.core.frame.DataFrame'>\n",
            "RangeIndex: 3333 entries, 0 to 3332\n",
            "Data columns (total 20 columns):\n",
            " #   Column                  Non-Null Count  Dtype  \n",
            "---  ------                  --------------  -----  \n",
            " 0   State                   3333 non-null   object \n",
            " 1   Account length          3333 non-null   int64  \n",
            " 2   Area code               3333 non-null   int64  \n",
            " 3   International plan      3333 non-null   object \n",
            " 4   Voice mail plan         3333 non-null   object \n",
            " 5   Number vmail messages   3333 non-null   int64  \n",
            " 6   Total day minutes       3333 non-null   float64\n",
            " 7   Total day calls         3333 non-null   int64  \n",
            " 8   Total day charge        3333 non-null   float64\n",
            " 9   Total eve minutes       3333 non-null   float64\n",
            " 10  Total eve calls         3333 non-null   int64  \n",
            " 11  Total eve charge        3333 non-null   float64\n",
            " 12  Total night minutes     3333 non-null   float64\n",
            " 13  Total night calls       3333 non-null   int64  \n",
            " 14  Total night charge      3333 non-null   float64\n",
            " 15  Total intl minutes      3333 non-null   float64\n",
            " 16  Total intl calls        3333 non-null   int64  \n",
            " 17  Total intl charge       3333 non-null   float64\n",
            " 18  Customer service calls  3333 non-null   int64  \n",
            " 19  Churn                   3333 non-null   bool   \n",
            "dtypes: bool(1), float64(8), int64(8), object(3)\n",
            "memory usage: 498.1+ KB\n"
          ],
          "name": "stdout"
        }
      ]
    },
    {
      "cell_type": "code",
      "metadata": {
        "colab": {
          "base_uri": "https://localhost:8080/",
          "height": 351
        },
        "id": "7UPNiCDVoe4s",
        "outputId": "a333aea9-2130-438a-f237-755bb84699e1"
      },
      "source": [
        "# Describe function helps in applying aggregating function on every column\n",
        "csv_data.describe()"
      ],
      "execution_count": 7,
      "outputs": [
        {
          "output_type": "execute_result",
          "data": {
            "text/html": [
              "<div>\n",
              "<style scoped>\n",
              "    .dataframe tbody tr th:only-of-type {\n",
              "        vertical-align: middle;\n",
              "    }\n",
              "\n",
              "    .dataframe tbody tr th {\n",
              "        vertical-align: top;\n",
              "    }\n",
              "\n",
              "    .dataframe thead th {\n",
              "        text-align: right;\n",
              "    }\n",
              "</style>\n",
              "<table border=\"1\" class=\"dataframe\">\n",
              "  <thead>\n",
              "    <tr style=\"text-align: right;\">\n",
              "      <th></th>\n",
              "      <th>Account length</th>\n",
              "      <th>Area code</th>\n",
              "      <th>Number vmail messages</th>\n",
              "      <th>Total day minutes</th>\n",
              "      <th>Total day calls</th>\n",
              "      <th>Total day charge</th>\n",
              "      <th>Total eve minutes</th>\n",
              "      <th>Total eve calls</th>\n",
              "      <th>Total eve charge</th>\n",
              "      <th>Total night minutes</th>\n",
              "      <th>Total night calls</th>\n",
              "      <th>Total night charge</th>\n",
              "      <th>Total intl minutes</th>\n",
              "      <th>Total intl calls</th>\n",
              "      <th>Total intl charge</th>\n",
              "      <th>Customer service calls</th>\n",
              "    </tr>\n",
              "  </thead>\n",
              "  <tbody>\n",
              "    <tr>\n",
              "      <th>count</th>\n",
              "      <td>3333.000000</td>\n",
              "      <td>3333.000000</td>\n",
              "      <td>3333.000000</td>\n",
              "      <td>3333.000000</td>\n",
              "      <td>3333.000000</td>\n",
              "      <td>3333.000000</td>\n",
              "      <td>3333.000000</td>\n",
              "      <td>3333.000000</td>\n",
              "      <td>3333.000000</td>\n",
              "      <td>3333.000000</td>\n",
              "      <td>3333.000000</td>\n",
              "      <td>3333.000000</td>\n",
              "      <td>3333.000000</td>\n",
              "      <td>3333.000000</td>\n",
              "      <td>3333.000000</td>\n",
              "      <td>3333.000000</td>\n",
              "    </tr>\n",
              "    <tr>\n",
              "      <th>mean</th>\n",
              "      <td>101.064806</td>\n",
              "      <td>437.182418</td>\n",
              "      <td>8.099010</td>\n",
              "      <td>179.775098</td>\n",
              "      <td>100.435644</td>\n",
              "      <td>30.562307</td>\n",
              "      <td>200.980348</td>\n",
              "      <td>100.114311</td>\n",
              "      <td>17.083540</td>\n",
              "      <td>200.872037</td>\n",
              "      <td>100.107711</td>\n",
              "      <td>9.039325</td>\n",
              "      <td>10.237294</td>\n",
              "      <td>4.479448</td>\n",
              "      <td>2.764581</td>\n",
              "      <td>1.562856</td>\n",
              "    </tr>\n",
              "    <tr>\n",
              "      <th>std</th>\n",
              "      <td>39.822106</td>\n",
              "      <td>42.371290</td>\n",
              "      <td>13.688365</td>\n",
              "      <td>54.467389</td>\n",
              "      <td>20.069084</td>\n",
              "      <td>9.259435</td>\n",
              "      <td>50.713844</td>\n",
              "      <td>19.922625</td>\n",
              "      <td>4.310668</td>\n",
              "      <td>50.573847</td>\n",
              "      <td>19.568609</td>\n",
              "      <td>2.275873</td>\n",
              "      <td>2.791840</td>\n",
              "      <td>2.461214</td>\n",
              "      <td>0.753773</td>\n",
              "      <td>1.315491</td>\n",
              "    </tr>\n",
              "    <tr>\n",
              "      <th>min</th>\n",
              "      <td>1.000000</td>\n",
              "      <td>408.000000</td>\n",
              "      <td>0.000000</td>\n",
              "      <td>0.000000</td>\n",
              "      <td>0.000000</td>\n",
              "      <td>0.000000</td>\n",
              "      <td>0.000000</td>\n",
              "      <td>0.000000</td>\n",
              "      <td>0.000000</td>\n",
              "      <td>23.200000</td>\n",
              "      <td>33.000000</td>\n",
              "      <td>1.040000</td>\n",
              "      <td>0.000000</td>\n",
              "      <td>0.000000</td>\n",
              "      <td>0.000000</td>\n",
              "      <td>0.000000</td>\n",
              "    </tr>\n",
              "    <tr>\n",
              "      <th>25%</th>\n",
              "      <td>74.000000</td>\n",
              "      <td>408.000000</td>\n",
              "      <td>0.000000</td>\n",
              "      <td>143.700000</td>\n",
              "      <td>87.000000</td>\n",
              "      <td>24.430000</td>\n",
              "      <td>166.600000</td>\n",
              "      <td>87.000000</td>\n",
              "      <td>14.160000</td>\n",
              "      <td>167.000000</td>\n",
              "      <td>87.000000</td>\n",
              "      <td>7.520000</td>\n",
              "      <td>8.500000</td>\n",
              "      <td>3.000000</td>\n",
              "      <td>2.300000</td>\n",
              "      <td>1.000000</td>\n",
              "    </tr>\n",
              "    <tr>\n",
              "      <th>50%</th>\n",
              "      <td>101.000000</td>\n",
              "      <td>415.000000</td>\n",
              "      <td>0.000000</td>\n",
              "      <td>179.400000</td>\n",
              "      <td>101.000000</td>\n",
              "      <td>30.500000</td>\n",
              "      <td>201.400000</td>\n",
              "      <td>100.000000</td>\n",
              "      <td>17.120000</td>\n",
              "      <td>201.200000</td>\n",
              "      <td>100.000000</td>\n",
              "      <td>9.050000</td>\n",
              "      <td>10.300000</td>\n",
              "      <td>4.000000</td>\n",
              "      <td>2.780000</td>\n",
              "      <td>1.000000</td>\n",
              "    </tr>\n",
              "    <tr>\n",
              "      <th>75%</th>\n",
              "      <td>127.000000</td>\n",
              "      <td>510.000000</td>\n",
              "      <td>20.000000</td>\n",
              "      <td>216.400000</td>\n",
              "      <td>114.000000</td>\n",
              "      <td>36.790000</td>\n",
              "      <td>235.300000</td>\n",
              "      <td>114.000000</td>\n",
              "      <td>20.000000</td>\n",
              "      <td>235.300000</td>\n",
              "      <td>113.000000</td>\n",
              "      <td>10.590000</td>\n",
              "      <td>12.100000</td>\n",
              "      <td>6.000000</td>\n",
              "      <td>3.270000</td>\n",
              "      <td>2.000000</td>\n",
              "    </tr>\n",
              "    <tr>\n",
              "      <th>max</th>\n",
              "      <td>243.000000</td>\n",
              "      <td>510.000000</td>\n",
              "      <td>51.000000</td>\n",
              "      <td>350.800000</td>\n",
              "      <td>165.000000</td>\n",
              "      <td>59.640000</td>\n",
              "      <td>363.700000</td>\n",
              "      <td>170.000000</td>\n",
              "      <td>30.910000</td>\n",
              "      <td>395.000000</td>\n",
              "      <td>175.000000</td>\n",
              "      <td>17.770000</td>\n",
              "      <td>20.000000</td>\n",
              "      <td>20.000000</td>\n",
              "      <td>5.400000</td>\n",
              "      <td>9.000000</td>\n",
              "    </tr>\n",
              "  </tbody>\n",
              "</table>\n",
              "</div>"
            ],
            "text/plain": [
              "       Account length    Area code  ...  Total intl charge  Customer service calls\n",
              "count     3333.000000  3333.000000  ...        3333.000000             3333.000000\n",
              "mean       101.064806   437.182418  ...           2.764581                1.562856\n",
              "std         39.822106    42.371290  ...           0.753773                1.315491\n",
              "min          1.000000   408.000000  ...           0.000000                0.000000\n",
              "25%         74.000000   408.000000  ...           2.300000                1.000000\n",
              "50%        101.000000   415.000000  ...           2.780000                1.000000\n",
              "75%        127.000000   510.000000  ...           3.270000                2.000000\n",
              "max        243.000000   510.000000  ...           5.400000                9.000000\n",
              "\n",
              "[8 rows x 16 columns]"
            ]
          },
          "metadata": {
            "tags": []
          },
          "execution_count": 7
        }
      ]
    },
    {
      "cell_type": "markdown",
      "metadata": {
        "id": "btstvQOKQHWu"
      },
      "source": [
        "#Creating a column total_charges which has sum of night + day + eve charges\n",
        "\n",
        "\n"
      ]
    },
    {
      "cell_type": "code",
      "metadata": {
        "colab": {
          "base_uri": "https://localhost:8080/",
          "height": 258
        },
        "id": "xd_cDZLenk16",
        "outputId": "b1dade86-806f-4651-b470-96281a436d31"
      },
      "source": [
        "# This new column helps us to analyzed as per total charges a customer paid\n",
        "csv_data['total_charges'] = csv_data['Total night charge'] + csv_data['Total day charge'] + csv_data['Total eve charge']\n",
        "csv_data.head()"
      ],
      "execution_count": 8,
      "outputs": [
        {
          "output_type": "execute_result",
          "data": {
            "text/html": [
              "<div>\n",
              "<style scoped>\n",
              "    .dataframe tbody tr th:only-of-type {\n",
              "        vertical-align: middle;\n",
              "    }\n",
              "\n",
              "    .dataframe tbody tr th {\n",
              "        vertical-align: top;\n",
              "    }\n",
              "\n",
              "    .dataframe thead th {\n",
              "        text-align: right;\n",
              "    }\n",
              "</style>\n",
              "<table border=\"1\" class=\"dataframe\">\n",
              "  <thead>\n",
              "    <tr style=\"text-align: right;\">\n",
              "      <th></th>\n",
              "      <th>State</th>\n",
              "      <th>Account length</th>\n",
              "      <th>Area code</th>\n",
              "      <th>International plan</th>\n",
              "      <th>Voice mail plan</th>\n",
              "      <th>Number vmail messages</th>\n",
              "      <th>Total day minutes</th>\n",
              "      <th>Total day calls</th>\n",
              "      <th>Total day charge</th>\n",
              "      <th>Total eve minutes</th>\n",
              "      <th>Total eve calls</th>\n",
              "      <th>Total eve charge</th>\n",
              "      <th>Total night minutes</th>\n",
              "      <th>Total night calls</th>\n",
              "      <th>Total night charge</th>\n",
              "      <th>Total intl minutes</th>\n",
              "      <th>Total intl calls</th>\n",
              "      <th>Total intl charge</th>\n",
              "      <th>Customer service calls</th>\n",
              "      <th>Churn</th>\n",
              "      <th>total_charges</th>\n",
              "    </tr>\n",
              "  </thead>\n",
              "  <tbody>\n",
              "    <tr>\n",
              "      <th>0</th>\n",
              "      <td>KS</td>\n",
              "      <td>128</td>\n",
              "      <td>415</td>\n",
              "      <td>No</td>\n",
              "      <td>Yes</td>\n",
              "      <td>25</td>\n",
              "      <td>265.1</td>\n",
              "      <td>110</td>\n",
              "      <td>45.07</td>\n",
              "      <td>197.4</td>\n",
              "      <td>99</td>\n",
              "      <td>16.78</td>\n",
              "      <td>244.7</td>\n",
              "      <td>91</td>\n",
              "      <td>11.01</td>\n",
              "      <td>10.0</td>\n",
              "      <td>3</td>\n",
              "      <td>2.70</td>\n",
              "      <td>1</td>\n",
              "      <td>False</td>\n",
              "      <td>72.86</td>\n",
              "    </tr>\n",
              "    <tr>\n",
              "      <th>1</th>\n",
              "      <td>OH</td>\n",
              "      <td>107</td>\n",
              "      <td>415</td>\n",
              "      <td>No</td>\n",
              "      <td>Yes</td>\n",
              "      <td>26</td>\n",
              "      <td>161.6</td>\n",
              "      <td>123</td>\n",
              "      <td>27.47</td>\n",
              "      <td>195.5</td>\n",
              "      <td>103</td>\n",
              "      <td>16.62</td>\n",
              "      <td>254.4</td>\n",
              "      <td>103</td>\n",
              "      <td>11.45</td>\n",
              "      <td>13.7</td>\n",
              "      <td>3</td>\n",
              "      <td>3.70</td>\n",
              "      <td>1</td>\n",
              "      <td>False</td>\n",
              "      <td>55.54</td>\n",
              "    </tr>\n",
              "    <tr>\n",
              "      <th>2</th>\n",
              "      <td>NJ</td>\n",
              "      <td>137</td>\n",
              "      <td>415</td>\n",
              "      <td>No</td>\n",
              "      <td>No</td>\n",
              "      <td>0</td>\n",
              "      <td>243.4</td>\n",
              "      <td>114</td>\n",
              "      <td>41.38</td>\n",
              "      <td>121.2</td>\n",
              "      <td>110</td>\n",
              "      <td>10.30</td>\n",
              "      <td>162.6</td>\n",
              "      <td>104</td>\n",
              "      <td>7.32</td>\n",
              "      <td>12.2</td>\n",
              "      <td>5</td>\n",
              "      <td>3.29</td>\n",
              "      <td>0</td>\n",
              "      <td>False</td>\n",
              "      <td>59.00</td>\n",
              "    </tr>\n",
              "    <tr>\n",
              "      <th>3</th>\n",
              "      <td>OH</td>\n",
              "      <td>84</td>\n",
              "      <td>408</td>\n",
              "      <td>Yes</td>\n",
              "      <td>No</td>\n",
              "      <td>0</td>\n",
              "      <td>299.4</td>\n",
              "      <td>71</td>\n",
              "      <td>50.90</td>\n",
              "      <td>61.9</td>\n",
              "      <td>88</td>\n",
              "      <td>5.26</td>\n",
              "      <td>196.9</td>\n",
              "      <td>89</td>\n",
              "      <td>8.86</td>\n",
              "      <td>6.6</td>\n",
              "      <td>7</td>\n",
              "      <td>1.78</td>\n",
              "      <td>2</td>\n",
              "      <td>False</td>\n",
              "      <td>65.02</td>\n",
              "    </tr>\n",
              "    <tr>\n",
              "      <th>4</th>\n",
              "      <td>OK</td>\n",
              "      <td>75</td>\n",
              "      <td>415</td>\n",
              "      <td>Yes</td>\n",
              "      <td>No</td>\n",
              "      <td>0</td>\n",
              "      <td>166.7</td>\n",
              "      <td>113</td>\n",
              "      <td>28.34</td>\n",
              "      <td>148.3</td>\n",
              "      <td>122</td>\n",
              "      <td>12.61</td>\n",
              "      <td>186.9</td>\n",
              "      <td>121</td>\n",
              "      <td>8.41</td>\n",
              "      <td>10.1</td>\n",
              "      <td>3</td>\n",
              "      <td>2.73</td>\n",
              "      <td>3</td>\n",
              "      <td>False</td>\n",
              "      <td>49.36</td>\n",
              "    </tr>\n",
              "  </tbody>\n",
              "</table>\n",
              "</div>"
            ],
            "text/plain": [
              "  State  Account length  ...  Churn total_charges\n",
              "0    KS             128  ...  False         72.86\n",
              "1    OH             107  ...  False         55.54\n",
              "2    NJ             137  ...  False         59.00\n",
              "3    OH              84  ...  False         65.02\n",
              "4    OK              75  ...  False         49.36\n",
              "\n",
              "[5 rows x 21 columns]"
            ]
          },
          "metadata": {
            "tags": []
          },
          "execution_count": 8
        }
      ]
    },
    {
      "cell_type": "markdown",
      "metadata": {
        "id": "SiDDGOa1QTnR"
      },
      "source": [
        "#Column total_minutes have sum of day + eve + night minutes"
      ]
    },
    {
      "cell_type": "code",
      "metadata": {
        "colab": {
          "base_uri": "https://localhost:8080/",
          "height": 258
        },
        "id": "WF89BpLPnmJo",
        "outputId": "008c9da7-346d-4c8d-8e91-2778adcb201e"
      },
      "source": [
        "# Total Minutes columns shows us how much a customer is engaged per day\n",
        "csv_data['total_minutes'] = csv_data['Total day minutes'] + csv_data['Total eve minutes'] + csv_data['Total night minutes']\n",
        "csv_data.head()"
      ],
      "execution_count": 9,
      "outputs": [
        {
          "output_type": "execute_result",
          "data": {
            "text/html": [
              "<div>\n",
              "<style scoped>\n",
              "    .dataframe tbody tr th:only-of-type {\n",
              "        vertical-align: middle;\n",
              "    }\n",
              "\n",
              "    .dataframe tbody tr th {\n",
              "        vertical-align: top;\n",
              "    }\n",
              "\n",
              "    .dataframe thead th {\n",
              "        text-align: right;\n",
              "    }\n",
              "</style>\n",
              "<table border=\"1\" class=\"dataframe\">\n",
              "  <thead>\n",
              "    <tr style=\"text-align: right;\">\n",
              "      <th></th>\n",
              "      <th>State</th>\n",
              "      <th>Account length</th>\n",
              "      <th>Area code</th>\n",
              "      <th>International plan</th>\n",
              "      <th>Voice mail plan</th>\n",
              "      <th>Number vmail messages</th>\n",
              "      <th>Total day minutes</th>\n",
              "      <th>Total day calls</th>\n",
              "      <th>Total day charge</th>\n",
              "      <th>Total eve minutes</th>\n",
              "      <th>Total eve calls</th>\n",
              "      <th>Total eve charge</th>\n",
              "      <th>Total night minutes</th>\n",
              "      <th>Total night calls</th>\n",
              "      <th>Total night charge</th>\n",
              "      <th>Total intl minutes</th>\n",
              "      <th>Total intl calls</th>\n",
              "      <th>Total intl charge</th>\n",
              "      <th>Customer service calls</th>\n",
              "      <th>Churn</th>\n",
              "      <th>total_charges</th>\n",
              "      <th>total_minutes</th>\n",
              "    </tr>\n",
              "  </thead>\n",
              "  <tbody>\n",
              "    <tr>\n",
              "      <th>0</th>\n",
              "      <td>KS</td>\n",
              "      <td>128</td>\n",
              "      <td>415</td>\n",
              "      <td>No</td>\n",
              "      <td>Yes</td>\n",
              "      <td>25</td>\n",
              "      <td>265.1</td>\n",
              "      <td>110</td>\n",
              "      <td>45.07</td>\n",
              "      <td>197.4</td>\n",
              "      <td>99</td>\n",
              "      <td>16.78</td>\n",
              "      <td>244.7</td>\n",
              "      <td>91</td>\n",
              "      <td>11.01</td>\n",
              "      <td>10.0</td>\n",
              "      <td>3</td>\n",
              "      <td>2.70</td>\n",
              "      <td>1</td>\n",
              "      <td>False</td>\n",
              "      <td>72.86</td>\n",
              "      <td>707.2</td>\n",
              "    </tr>\n",
              "    <tr>\n",
              "      <th>1</th>\n",
              "      <td>OH</td>\n",
              "      <td>107</td>\n",
              "      <td>415</td>\n",
              "      <td>No</td>\n",
              "      <td>Yes</td>\n",
              "      <td>26</td>\n",
              "      <td>161.6</td>\n",
              "      <td>123</td>\n",
              "      <td>27.47</td>\n",
              "      <td>195.5</td>\n",
              "      <td>103</td>\n",
              "      <td>16.62</td>\n",
              "      <td>254.4</td>\n",
              "      <td>103</td>\n",
              "      <td>11.45</td>\n",
              "      <td>13.7</td>\n",
              "      <td>3</td>\n",
              "      <td>3.70</td>\n",
              "      <td>1</td>\n",
              "      <td>False</td>\n",
              "      <td>55.54</td>\n",
              "      <td>611.5</td>\n",
              "    </tr>\n",
              "    <tr>\n",
              "      <th>2</th>\n",
              "      <td>NJ</td>\n",
              "      <td>137</td>\n",
              "      <td>415</td>\n",
              "      <td>No</td>\n",
              "      <td>No</td>\n",
              "      <td>0</td>\n",
              "      <td>243.4</td>\n",
              "      <td>114</td>\n",
              "      <td>41.38</td>\n",
              "      <td>121.2</td>\n",
              "      <td>110</td>\n",
              "      <td>10.30</td>\n",
              "      <td>162.6</td>\n",
              "      <td>104</td>\n",
              "      <td>7.32</td>\n",
              "      <td>12.2</td>\n",
              "      <td>5</td>\n",
              "      <td>3.29</td>\n",
              "      <td>0</td>\n",
              "      <td>False</td>\n",
              "      <td>59.00</td>\n",
              "      <td>527.2</td>\n",
              "    </tr>\n",
              "    <tr>\n",
              "      <th>3</th>\n",
              "      <td>OH</td>\n",
              "      <td>84</td>\n",
              "      <td>408</td>\n",
              "      <td>Yes</td>\n",
              "      <td>No</td>\n",
              "      <td>0</td>\n",
              "      <td>299.4</td>\n",
              "      <td>71</td>\n",
              "      <td>50.90</td>\n",
              "      <td>61.9</td>\n",
              "      <td>88</td>\n",
              "      <td>5.26</td>\n",
              "      <td>196.9</td>\n",
              "      <td>89</td>\n",
              "      <td>8.86</td>\n",
              "      <td>6.6</td>\n",
              "      <td>7</td>\n",
              "      <td>1.78</td>\n",
              "      <td>2</td>\n",
              "      <td>False</td>\n",
              "      <td>65.02</td>\n",
              "      <td>558.2</td>\n",
              "    </tr>\n",
              "    <tr>\n",
              "      <th>4</th>\n",
              "      <td>OK</td>\n",
              "      <td>75</td>\n",
              "      <td>415</td>\n",
              "      <td>Yes</td>\n",
              "      <td>No</td>\n",
              "      <td>0</td>\n",
              "      <td>166.7</td>\n",
              "      <td>113</td>\n",
              "      <td>28.34</td>\n",
              "      <td>148.3</td>\n",
              "      <td>122</td>\n",
              "      <td>12.61</td>\n",
              "      <td>186.9</td>\n",
              "      <td>121</td>\n",
              "      <td>8.41</td>\n",
              "      <td>10.1</td>\n",
              "      <td>3</td>\n",
              "      <td>2.73</td>\n",
              "      <td>3</td>\n",
              "      <td>False</td>\n",
              "      <td>49.36</td>\n",
              "      <td>501.9</td>\n",
              "    </tr>\n",
              "  </tbody>\n",
              "</table>\n",
              "</div>"
            ],
            "text/plain": [
              "  State  Account length  Area code  ...  Churn total_charges  total_minutes\n",
              "0    KS             128        415  ...  False         72.86          707.2\n",
              "1    OH             107        415  ...  False         55.54          611.5\n",
              "2    NJ             137        415  ...  False         59.00          527.2\n",
              "3    OH              84        408  ...  False         65.02          558.2\n",
              "4    OK              75        415  ...  False         49.36          501.9\n",
              "\n",
              "[5 rows x 22 columns]"
            ]
          },
          "metadata": {
            "tags": []
          },
          "execution_count": 9
        }
      ]
    },
    {
      "cell_type": "code",
      "metadata": {
        "id": "xjG7KNj3U7t8"
      },
      "source": [
        "# To analyze all columns we have converted churn grouped data to df\n",
        "tmp = csv_data.groupby('Churn')\n",
        "temp_df = pd.DataFrame(tmp.describe())"
      ],
      "execution_count": 82,
      "outputs": []
    },
    {
      "cell_type": "code",
      "metadata": {
        "colab": {
          "base_uri": "https://localhost:8080/"
        },
        "id": "WwPkseXIvoDA",
        "outputId": "d509add6-6144-420b-c6ac-163de840c55b"
      },
      "source": [
        "# Having description of all columns indiviually\n",
        "for col in csv_data.columns:\n",
        "  if col in temp_df:\n",
        "    print(col)\n",
        "    print(a[col].describe(),'\\n\\n')"
      ],
      "execution_count": 11,
      "outputs": [
        {
          "output_type": "stream",
          "text": [
            "Account length\n",
            "        count        mean       std  min   25%    50%    75%    max\n",
            "Churn                                                              \n",
            "False  2850.0  100.793684  39.88235  1.0  73.0  100.0  127.0  243.0\n",
            "True    483.0  102.664596  39.46782  1.0  76.0  103.0  127.0  225.0 \n",
            "\n",
            "\n",
            "Area code\n",
            "        count        mean        std    min    25%    50%    75%    max\n",
            "Churn                                                                  \n",
            "False  2850.0  437.074737  42.306156  408.0  408.0  415.0  510.0  510.0\n",
            "True    483.0  437.817805  42.792270  408.0  408.0  415.0  510.0  510.0 \n",
            "\n",
            "\n",
            "Number vmail messages\n",
            "        count      mean        std  min  25%  50%   75%   max\n",
            "Churn                                                        \n",
            "False  2850.0  8.604561  13.913125  0.0  0.0  0.0  22.0  51.0\n",
            "True    483.0  5.115942  11.860138  0.0  0.0  0.0   0.0  48.0 \n",
            "\n",
            "\n",
            "Total day minutes\n",
            "        count        mean        std  min      25%    50%     75%    max\n",
            "Churn                                                                   \n",
            "False  2850.0  175.175754  50.181655  0.0  142.825  177.2  210.30  315.6\n",
            "True    483.0  206.914079  68.997792  0.0  153.250  217.6  265.95  350.8 \n",
            "\n",
            "\n",
            "Total day calls\n",
            "        count        mean        std  min   25%    50%    75%    max\n",
            "Churn                                                               \n",
            "False  2850.0  100.283158  19.801157  0.0  87.0  100.0  114.0  163.0\n",
            "True    483.0  101.335404  21.582307  0.0  87.5  103.0  116.5  165.0 \n",
            "\n",
            "\n",
            "Total day charge\n",
            "        count       mean        std  min      25%    50%    75%    max\n",
            "Churn                                                                 \n",
            "False  2850.0  29.780421   8.530835  0.0  24.2825  30.12  35.75  53.65\n",
            "True    483.0  35.175921  11.729710  0.0  26.0550  36.99  45.21  59.64 \n",
            "\n",
            "\n",
            "Total eve minutes\n",
            "        count        mean        std   min    25%    50%     75%    max\n",
            "Churn                                                                  \n",
            "False  2850.0  199.043298  50.292175   0.0  164.5  199.6  233.20  361.8\n",
            "True    483.0  212.410145  51.728910  70.9  177.1  211.3  249.45  363.7 \n",
            "\n",
            "\n",
            "Total eve calls\n",
            "        count        mean        std   min   25%    50%    75%    max\n",
            "Churn                                                                \n",
            "False  2850.0  100.038596  19.958414   0.0  87.0  100.0  114.0  170.0\n",
            "True    483.0  100.561077  19.724711  48.0  87.0  101.0  114.0  168.0 \n",
            "\n",
            "\n",
            "Total eve charge\n",
            "        count       mean       std   min     25%    50%     75%    max\n",
            "Churn                                                                 \n",
            "False  2850.0  16.918909  4.274863  0.00  13.980  16.97  19.820  30.75\n",
            "True    483.0  18.054969  4.396762  6.03  15.055  17.96  21.205  30.91 \n",
            "\n",
            "\n",
            "Total night minutes\n",
            "        count        mean        std   min     25%     50%     75%    max\n",
            "Churn                                                                    \n",
            "False  2850.0  200.133193  51.105032  23.2  165.90  200.25  234.90  395.0\n",
            "True    483.0  205.231677  47.132825  47.4  171.25  204.80  239.85  354.9 \n",
            "\n",
            "\n",
            "Total night calls\n",
            "        count        mean        std   min   25%    50%    75%    max\n",
            "Churn                                                                \n",
            "False  2850.0  100.058246  19.506246  33.0  87.0  100.0  113.0  175.0\n",
            "True    483.0  100.399586  19.950659  49.0  85.0  100.0  115.0  158.0 \n",
            "\n",
            "\n",
            "Total night charge\n",
            "        count      mean       std   min    25%   50%     75%    max\n",
            "Churn                                                              \n",
            "False  2850.0  9.006074  2.299768  1.04  7.470  9.01  10.570  17.77\n",
            "True    483.0  9.235528  2.121081  2.13  7.705  9.22  10.795  15.97 \n",
            "\n",
            "\n",
            "Total intl minutes\n",
            "        count       mean       std  min  25%   50%   75%   max\n",
            "Churn                                                         \n",
            "False  2850.0  10.158877  2.784489  0.0  8.4  10.2  12.0  18.9\n",
            "True    483.0  10.700000  2.793190  2.0  8.8  10.6  12.8  20.0 \n",
            "\n",
            "\n",
            "Total intl calls\n",
            "        count      mean       std  min  25%  50%  75%   max\n",
            "Churn                                                      \n",
            "False  2850.0  4.532982  2.441984  0.0  3.0  4.0  6.0  19.0\n",
            "True    483.0  4.163561  2.551575  1.0  2.0  4.0  5.0  20.0 \n",
            "\n",
            "\n",
            "Total intl charge\n",
            "        count      mean       std   min   25%   50%   75%  max\n",
            "Churn                                                         \n",
            "False  2850.0  2.743404  0.751784  0.00  2.27  2.75  3.24  5.1\n",
            "True    483.0  2.889545  0.754152  0.54  2.38  2.86  3.46  5.4 \n",
            "\n",
            "\n",
            "Customer service calls\n",
            "        count      mean       std  min  25%  50%  75%  max\n",
            "Churn                                                     \n",
            "False  2850.0  1.449825  1.163883  0.0  1.0  1.0  2.0  8.0\n",
            "True    483.0  2.229814  1.853275  0.0  1.0  2.0  4.0  9.0 \n",
            "\n",
            "\n",
            "total_charges\n",
            "        count       mean        std    min      25%    50%      75%    max\n",
            "Churn                                                                     \n",
            "False  2850.0  55.705404   9.454475  19.98  49.4625  56.25  62.4175  84.68\n",
            "True    483.0  62.466418  13.887371  21.09  50.1900  63.96  73.8250  92.56 \n",
            "\n",
            "\n",
            "total_minutes\n",
            "        count        mean         std    min      25%    50%      75%    max\n",
            "Churn                                                                       \n",
            "False  2850.0  574.352246   83.804845  275.2  519.425  579.3  631.475  831.0\n",
            "True    483.0  624.555901  110.830694  311.7  535.400  635.8  714.750  876.9 \n",
            "\n",
            "\n"
          ],
          "name": "stdout"
        }
      ]
    },
    {
      "cell_type": "code",
      "metadata": {
        "colab": {
          "base_uri": "https://localhost:8080/"
        },
        "id": "FysRQaRahld8",
        "outputId": "8e852751-fdfb-4ecd-d76d-456897be62d9"
      },
      "source": [
        "print(csv_data.columns)"
      ],
      "execution_count": 12,
      "outputs": [
        {
          "output_type": "stream",
          "text": [
            "Index(['State', 'Account length', 'Area code', 'International plan',\n",
            "       'Voice mail plan', 'Number vmail messages', 'Total day minutes',\n",
            "       'Total day calls', 'Total day charge', 'Total eve minutes',\n",
            "       'Total eve calls', 'Total eve charge', 'Total night minutes',\n",
            "       'Total night calls', 'Total night charge', 'Total intl minutes',\n",
            "       'Total intl calls', 'Total intl charge', 'Customer service calls',\n",
            "       'Churn', 'total_charges', 'total_minutes'],\n",
            "      dtype='object')\n"
          ],
          "name": "stdout"
        }
      ]
    },
    {
      "cell_type": "markdown",
      "metadata": {
        "id": "XbI-8XW9QzCM"
      },
      "source": [
        "# Doing Univariate Analysis of all columns by box plots and groupby"
      ]
    },
    {
      "cell_type": "markdown",
      "metadata": {
        "id": "9UwhqUzNQ-eo"
      },
      "source": [
        "**For Account Length**"
      ]
    },
    {
      "cell_type": "code",
      "metadata": {
        "colab": {
          "base_uri": "https://localhost:8080/",
          "height": 296
        },
        "id": "tRpT2KhYhEIY",
        "outputId": "bfb25ea9-08a9-4c2a-dc4d-a6ec48d65730"
      },
      "source": [
        "# Doing Univariate Analysis for all numeric data wrt Churn\n",
        "sb.boxplot(x=\"Churn\", y=\"Account length\", data=csv_data)"
      ],
      "execution_count": 13,
      "outputs": [
        {
          "output_type": "execute_result",
          "data": {
            "text/plain": [
              "<matplotlib.axes._subplots.AxesSubplot at 0x7fe48bedb710>"
            ]
          },
          "metadata": {
            "tags": []
          },
          "execution_count": 13
        },
        {
          "output_type": "display_data",
          "data": {
            "image/png": "[encoded data removed]",
            "text/plain": [
              "<Figure size 432x288 with 1 Axes>"
            ]
          },
          "metadata": {
            "tags": [],
            "needs_background": "light"
          }
        }
      ]
    },
    {
      "cell_type": "markdown",
      "metadata": {
        "id": "R-lCicFZRCYY"
      },
      "source": [
        "**For Area Code**"
      ]
    },
    {
      "cell_type": "code",
      "metadata": {
        "colab": {
          "base_uri": "https://localhost:8080/",
          "height": 296
        },
        "id": "pNbjcWL1joot",
        "outputId": "61718dc3-3757-40f0-d929-b428cb1a9b12"
      },
      "source": [
        "sb.boxplot(x=\"Churn\", y=\"Area code\", data=csv_data)"
      ],
      "execution_count": 14,
      "outputs": [
        {
          "output_type": "execute_result",
          "data": {
            "text/plain": [
              "<matplotlib.axes._subplots.AxesSubplot at 0x7fe48a6d1ed0>"
            ]
          },
          "metadata": {
            "tags": []
          },
          "execution_count": 14
        },
        {
          "output_type": "display_data",
          "data": {
            "image/png": "[encoded data removed]",
            "text/plain": [
              "<Figure size 432x288 with 1 Axes>"
            ]
          },
          "metadata": {
            "tags": [],
            "needs_background": "light"
          }
        }
      ]
    },
    {
      "cell_type": "markdown",
      "metadata": {
        "id": "qIlu8W0aRE8R"
      },
      "source": [
        "**For Number of Vmail messages**"
      ]
    },
    {
      "cell_type": "code",
      "metadata": {
        "colab": {
          "base_uri": "https://localhost:8080/",
          "height": 296
        },
        "id": "L9xwy9w0j7Fj",
        "outputId": "c175e3a0-6a6a-45eb-9804-1fdf056fbb07"
      },
      "source": [
        "sb.boxplot(x=\"Churn\", y=\"Number vmail messages\", data=csv_data)"
      ],
      "execution_count": 15,
      "outputs": [
        {
          "output_type": "execute_result",
          "data": {
            "text/plain": [
              "<matplotlib.axes._subplots.AxesSubplot at 0x7fe48a651e90>"
            ]
          },
          "metadata": {
            "tags": []
          },
          "execution_count": 15
        },
        {
          "output_type": "display_data",
          "data": {
            "image/png": "[encoded data removed]",
            "text/plain": [
              "<Figure size 432x288 with 1 Axes>"
            ]
          },
          "metadata": {
            "tags": [],
            "needs_background": "light"
          }
        }
      ]
    },
    {
      "cell_type": "markdown",
      "metadata": {
        "id": "XmSlbEPmRIvP"
      },
      "source": [
        "**For Total day minutes**"
      ]
    },
    {
      "cell_type": "code",
      "metadata": {
        "colab": {
          "base_uri": "https://localhost:8080/",
          "height": 296
        },
        "id": "lG5CBoo0kXj_",
        "outputId": "8d3627f9-1d06-4069-a9b8-3c26f7ffd73e"
      },
      "source": [
        "sb.boxplot(x=\"Churn\", y=\"Total day minutes\", data=csv_data)"
      ],
      "execution_count": 16,
      "outputs": [
        {
          "output_type": "execute_result",
          "data": {
            "text/plain": [
              "<matplotlib.axes._subplots.AxesSubplot at 0x7fe48a5d9910>"
            ]
          },
          "metadata": {
            "tags": []
          },
          "execution_count": 16
        },
        {
          "output_type": "display_data",
          "data": {
            "image/png": "[encoded data removed]",
            "text/plain": [
              "<Figure size 432x288 with 1 Axes>"
            ]
          },
          "metadata": {
            "tags": [],
            "needs_background": "light"
          }
        }
      ]
    },
    {
      "cell_type": "markdown",
      "metadata": {
        "id": "Bz2UMyHORZAD"
      },
      "source": [
        "**For Total day calls**"
      ]
    },
    {
      "cell_type": "code",
      "metadata": {
        "colab": {
          "base_uri": "https://localhost:8080/",
          "height": 296
        },
        "id": "2LmHVEI5kgcn",
        "outputId": "0b7b1184-e0d3-4848-9185-56747be8e4c1"
      },
      "source": [
        "sb.boxplot(x=\"Churn\", y=\"Total day calls\", data=csv_data)"
      ],
      "execution_count": 17,
      "outputs": [
        {
          "output_type": "execute_result",
          "data": {
            "text/plain": [
              "<matplotlib.axes._subplots.AxesSubplot at 0x7fe48a5a4410>"
            ]
          },
          "metadata": {
            "tags": []
          },
          "execution_count": 17
        },
        {
          "output_type": "display_data",
          "data": {
            "image/png": "[encoded data removed]",
            "text/plain": [
              "<Figure size 432x288 with 1 Axes>"
            ]
          },
          "metadata": {
            "tags": [],
            "needs_background": "light"
          }
        }
      ]
    },
    {
      "cell_type": "markdown",
      "metadata": {
        "id": "Us6BZHm2RfJh"
      },
      "source": [
        "**For Total Day Charges**"
      ]
    },
    {
      "cell_type": "code",
      "metadata": {
        "colab": {
          "base_uri": "https://localhost:8080/",
          "height": 296
        },
        "id": "QkY9gjgalMOa",
        "outputId": "a4348651-b230-4839-de89-801696768e38"
      },
      "source": [
        "sb.boxplot(x=\"Churn\", y=\"Total day charge\", data=csv_data)"
      ],
      "execution_count": 18,
      "outputs": [
        {
          "output_type": "execute_result",
          "data": {
            "text/plain": [
              "<matplotlib.axes._subplots.AxesSubplot at 0x7fe48a554410>"
            ]
          },
          "metadata": {
            "tags": []
          },
          "execution_count": 18
        },
        {
          "output_type": "display_data",
          "data": {
            "image/png": "[encoded data removed]",
            "text/plain": [
              "<Figure size 432x288 with 1 Axes>"
            ]
          },
          "metadata": {
            "tags": [],
            "needs_background": "light"
          }
        }
      ]
    },
    {
      "cell_type": "markdown",
      "metadata": {
        "id": "AoNFcyMaRjk8"
      },
      "source": [
        "**For Total Evening Minutes**"
      ]
    },
    {
      "cell_type": "code",
      "metadata": {
        "colab": {
          "base_uri": "https://localhost:8080/",
          "height": 296
        },
        "id": "iErPGOzSlRKY",
        "outputId": "d83e77f4-e47e-42cf-b3a4-65fe63fccf83"
      },
      "source": [
        "sb.boxplot(x=\"Churn\", y=\"Total eve minutes\", data=csv_data)"
      ],
      "execution_count": 19,
      "outputs": [
        {
          "output_type": "execute_result",
          "data": {
            "text/plain": [
              "<matplotlib.axes._subplots.AxesSubplot at 0x7fe48a457d90>"
            ]
          },
          "metadata": {
            "tags": []
          },
          "execution_count": 19
        },
        {
          "output_type": "display_data",
          "data": {
            "image/png": "[encoded data removed]",
            "text/plain": [
              "<Figure size 432x288 with 1 Axes>"
            ]
          },
          "metadata": {
            "tags": [],
            "needs_background": "light"
          }
        }
      ]
    },
    {
      "cell_type": "markdown",
      "metadata": {
        "id": "nSl5wlI7RrMk"
      },
      "source": [
        "**For Total Eve Calls**"
      ]
    },
    {
      "cell_type": "code",
      "metadata": {
        "colab": {
          "base_uri": "https://localhost:8080/",
          "height": 296
        },
        "id": "wOfGyQSIlTq4",
        "outputId": "d83a3635-47e3-4443-ae08-e774a6c51d8b"
      },
      "source": [
        "sb.boxplot(x=\"Churn\", y=\"Total eve calls\", data=csv_data)"
      ],
      "execution_count": 20,
      "outputs": [
        {
          "output_type": "execute_result",
          "data": {
            "text/plain": [
              "<matplotlib.axes._subplots.AxesSubplot at 0x7fe48a3db8d0>"
            ]
          },
          "metadata": {
            "tags": []
          },
          "execution_count": 20
        },
        {
          "output_type": "display_data",
          "data": {
            "image/png": "[encoded data removed]",
            "text/plain": [
              "<Figure size 432x288 with 1 Axes>"
            ]
          },
          "metadata": {
            "tags": [],
            "needs_background": "light"
          }
        }
      ]
    },
    {
      "cell_type": "markdown",
      "metadata": {
        "id": "zetXWHZPRvqG"
      },
      "source": [
        "**For Total Eve Charges**"
      ]
    },
    {
      "cell_type": "code",
      "metadata": {
        "colab": {
          "base_uri": "https://localhost:8080/",
          "height": 296
        },
        "id": "zwmXaypSlUXl",
        "outputId": "1034dc3b-874b-4fc9-d815-a6de0f7aff6f"
      },
      "source": [
        "sb.boxplot(x=\"Churn\", y=\"Total eve charge\", data=csv_data)"
      ],
      "execution_count": 21,
      "outputs": [
        {
          "output_type": "execute_result",
          "data": {
            "text/plain": [
              "<matplotlib.axes._subplots.AxesSubplot at 0x7fe48a370250>"
            ]
          },
          "metadata": {
            "tags": []
          },
          "execution_count": 21
        },
        {
          "output_type": "display_data",
          "data": {
            "image/png": "[encoded data removed]",
            "text/plain": [
              "<Figure size 432x288 with 1 Axes>"
            ]
          },
          "metadata": {
            "tags": [],
            "needs_background": "light"
          }
        }
      ]
    },
    {
      "cell_type": "markdown",
      "metadata": {
        "id": "sPBd_RNsRzc7"
      },
      "source": [
        "**For Total Night Minutes**"
      ]
    },
    {
      "cell_type": "code",
      "metadata": {
        "colab": {
          "base_uri": "https://localhost:8080/",
          "height": 296
        },
        "id": "wHUQN1q5lVQZ",
        "outputId": "27a73f57-bbf9-4f7b-a646-0b95d742fc20"
      },
      "source": [
        "sb.boxplot(x=\"Churn\", y=\"Total night minutes\", data=csv_data)"
      ],
      "execution_count": 22,
      "outputs": [
        {
          "output_type": "execute_result",
          "data": {
            "text/plain": [
              "<matplotlib.axes._subplots.AxesSubplot at 0x7fe48a2ef890>"
            ]
          },
          "metadata": {
            "tags": []
          },
          "execution_count": 22
        },
        {
          "output_type": "display_data",
          "data": {
            "image/png": "[encoded data removed]",
            "text/plain": [
              "<Figure size 432x288 with 1 Axes>"
            ]
          },
          "metadata": {
            "tags": [],
            "needs_background": "light"
          }
        }
      ]
    },
    {
      "cell_type": "markdown",
      "metadata": {
        "id": "ACpQoe9jR4Wm"
      },
      "source": [
        "**For Total Night Calls**"
      ]
    },
    {
      "cell_type": "code",
      "metadata": {
        "colab": {
          "base_uri": "https://localhost:8080/",
          "height": 297
        },
        "id": "MYFX_FGolV5i",
        "outputId": "b4571213-b485-45eb-bccc-a6817f7ea3cd"
      },
      "source": [
        "sb.boxplot(x=\"Churn\", y=\"Total night calls\", data=csv_data)"
      ],
      "execution_count": 23,
      "outputs": [
        {
          "output_type": "execute_result",
          "data": {
            "text/plain": [
              "<matplotlib.axes._subplots.AxesSubplot at 0x7fe48a281c50>"
            ]
          },
          "metadata": {
            "tags": []
          },
          "execution_count": 23
        },
        {
          "output_type": "display_data",
          "data": {
            "image/png": "[encoded data removed]",
            "text/plain": [
              "<Figure size 432x288 with 1 Axes>"
            ]
          },
          "metadata": {
            "tags": [],
            "needs_background": "light"
          }
        }
      ]
    },
    {
      "cell_type": "markdown",
      "metadata": {
        "id": "Nl8DQs_jR8bA"
      },
      "source": [
        "**For Total Night Charges**"
      ]
    },
    {
      "cell_type": "code",
      "metadata": {
        "colab": {
          "base_uri": "https://localhost:8080/",
          "height": 296
        },
        "id": "0dVN1MBAlWlA",
        "outputId": "bb4e7ce0-7a84-43be-b541-4411cf8ccb18"
      },
      "source": [
        "sb.boxplot(x=\"Churn\", y=\"Total night charge\", data=csv_data)"
      ],
      "execution_count": 24,
      "outputs": [
        {
          "output_type": "execute_result",
          "data": {
            "text/plain": [
              "<matplotlib.axes._subplots.AxesSubplot at 0x7fe48a205e50>"
            ]
          },
          "metadata": {
            "tags": []
          },
          "execution_count": 24
        },
        {
          "output_type": "display_data",
          "data": {
            "image/png": "[encoded data removed]",
            "text/plain": [
              "<Figure size 432x288 with 1 Axes>"
            ]
          },
          "metadata": {
            "tags": [],
            "needs_background": "light"
          }
        }
      ]
    },
    {
      "cell_type": "markdown",
      "metadata": {
        "id": "NAKDRXyHSAEe"
      },
      "source": [
        "**For Total International Minutes**"
      ]
    },
    {
      "cell_type": "code",
      "metadata": {
        "colab": {
          "base_uri": "https://localhost:8080/",
          "height": 296
        },
        "id": "JkRPe80LlXW1",
        "outputId": "a473edb7-3281-4a83-f2b8-6c5e5ab2a6b4"
      },
      "source": [
        "sb.boxplot(x=\"Churn\", y=\"Total intl minutes\", data=csv_data)"
      ],
      "execution_count": 25,
      "outputs": [
        {
          "output_type": "execute_result",
          "data": {
            "text/plain": [
              "<matplotlib.axes._subplots.AxesSubplot at 0x7fe48a186750>"
            ]
          },
          "metadata": {
            "tags": []
          },
          "execution_count": 25
        },
        {
          "output_type": "display_data",
          "data": {
            "image/png": "[encoded data removed]",
            "text/plain": [
              "<Figure size 432x288 with 1 Axes>"
            ]
          },
          "metadata": {
            "tags": [],
            "needs_background": "light"
          }
        }
      ]
    },
    {
      "cell_type": "markdown",
      "metadata": {
        "id": "PHJyFK0nSFuK"
      },
      "source": [
        "**For Total International Calls**"
      ]
    },
    {
      "cell_type": "code",
      "metadata": {
        "colab": {
          "base_uri": "https://localhost:8080/",
          "height": 296
        },
        "id": "Y393SH_0lYCW",
        "outputId": "f0d6b163-6865-48d3-a2fb-5b0eee5b3078"
      },
      "source": [
        "sb.boxplot(x=\"Churn\", y=\"Total intl calls\", data=csv_data)"
      ],
      "execution_count": 26,
      "outputs": [
        {
          "output_type": "execute_result",
          "data": {
            "text/plain": [
              "<matplotlib.axes._subplots.AxesSubplot at 0x7fe48a09bf90>"
            ]
          },
          "metadata": {
            "tags": []
          },
          "execution_count": 26
        },
        {
          "output_type": "display_data",
          "data": {
            "image/png": "[encoded data removed]",
            "text/plain": [
              "<Figure size 432x288 with 1 Axes>"
            ]
          },
          "metadata": {
            "tags": [],
            "needs_background": "light"
          }
        }
      ]
    },
    {
      "cell_type": "markdown",
      "metadata": {
        "id": "TpbC_7_kSJyY"
      },
      "source": [
        "**For Total International Charges**"
      ]
    },
    {
      "cell_type": "code",
      "metadata": {
        "colab": {
          "base_uri": "https://localhost:8080/",
          "height": 296
        },
        "id": "aLUhT7E6lYxG",
        "outputId": "d56540a0-71a2-4d44-d66e-15fd85e6644e"
      },
      "source": [
        "sb.boxplot(x=\"Churn\", y=\"Total intl charge\", data=csv_data)"
      ],
      "execution_count": 27,
      "outputs": [
        {
          "output_type": "execute_result",
          "data": {
            "text/plain": [
              "<matplotlib.axes._subplots.AxesSubplot at 0x7fe48a0703d0>"
            ]
          },
          "metadata": {
            "tags": []
          },
          "execution_count": 27
        },
        {
          "output_type": "display_data",
          "data": {
            "image/png": "[encoded data removed]",
            "text/plain": [
              "<Figure size 432x288 with 1 Axes>"
            ]
          },
          "metadata": {
            "tags": [],
            "needs_background": "light"
          }
        }
      ]
    },
    {
      "cell_type": "markdown",
      "metadata": {
        "id": "8qEOY6axSO2P"
      },
      "source": [
        "**For Customer Service Calls**"
      ]
    },
    {
      "cell_type": "code",
      "metadata": {
        "colab": {
          "base_uri": "https://localhost:8080/",
          "height": 296
        },
        "id": "oDcI2V9OlZer",
        "outputId": "633ff4a3-ebbe-4e2a-c1fb-142eb155f08a"
      },
      "source": [
        "sb.boxplot(x=\"Churn\", y=\"Customer service calls\", data=csv_data)"
      ],
      "execution_count": 28,
      "outputs": [
        {
          "output_type": "execute_result",
          "data": {
            "text/plain": [
              "<matplotlib.axes._subplots.AxesSubplot at 0x7fe48a004550>"
            ]
          },
          "metadata": {
            "tags": []
          },
          "execution_count": 28
        },
        {
          "output_type": "display_data",
          "data": {
            "image/png": "[encoded data removed]",
            "text/plain": [
              "<Figure size 432x288 with 1 Axes>"
            ]
          },
          "metadata": {
            "tags": [],
            "needs_background": "light"
          }
        }
      ]
    },
    {
      "cell_type": "markdown",
      "metadata": {
        "id": "VSNoHvNmSUxC"
      },
      "source": [
        "**For Total Charges**"
      ]
    },
    {
      "cell_type": "code",
      "metadata": {
        "colab": {
          "base_uri": "https://localhost:8080/",
          "height": 296
        },
        "id": "DouG-8kglaWZ",
        "outputId": "2036e81d-db06-4dde-e1cd-22f47cf8d22a"
      },
      "source": [
        "sb.boxplot(x=\"Churn\", y=\"total_charges\", data=csv_data)"
      ],
      "execution_count": 29,
      "outputs": [
        {
          "output_type": "execute_result",
          "data": {
            "text/plain": [
              "<matplotlib.axes._subplots.AxesSubplot at 0x7fe489f57350>"
            ]
          },
          "metadata": {
            "tags": []
          },
          "execution_count": 29
        },
        {
          "output_type": "display_data",
          "data": {
            "image/png": "[encoded data removed]",
            "text/plain": [
              "<Figure size 432x288 with 1 Axes>"
            ]
          },
          "metadata": {
            "tags": [],
            "needs_background": "light"
          }
        }
      ]
    },
    {
      "cell_type": "markdown",
      "metadata": {
        "id": "BfpT-gLtSZ_D"
      },
      "source": [
        "**For Total Minutes**"
      ]
    },
    {
      "cell_type": "code",
      "metadata": {
        "colab": {
          "base_uri": "https://localhost:8080/",
          "height": 298
        },
        "id": "mEWpbUp5l-c0",
        "outputId": "68dcdfae-1e97-464a-9ca0-16e3ebe97413"
      },
      "source": [
        "sb.boxplot(x=\"Churn\", y=\"total_minutes\", data=csv_data)"
      ],
      "execution_count": 30,
      "outputs": [
        {
          "output_type": "execute_result",
          "data": {
            "text/plain": [
              "<matplotlib.axes._subplots.AxesSubplot at 0x7fe48a46d090>"
            ]
          },
          "metadata": {
            "tags": []
          },
          "execution_count": 30
        },
        {
          "output_type": "display_data",
          "data": {
            "image/png": "[encoded data removed]",
            "text/plain": [
              "<Figure size 432x288 with 1 Axes>"
            ]
          },
          "metadata": {
            "tags": [],
            "needs_background": "light"
          }
        }
      ]
    },
    {
      "cell_type": "markdown",
      "metadata": {
        "id": "Ve2S7Woxm421"
      },
      "source": [
        "# **From univariate analysis we can say that total day minutes, total minutes, total charges, international calls and no of voice calls are factors on which we can perform analysis**"
      ]
    },
    {
      "cell_type": "markdown",
      "metadata": {
        "id": "4pCv65rKSdl7"
      },
      "source": [
        "# From here we have categorical data and to see their impact, we have to check their impact with respect to churn. Hence grouping them will be a good option. From here our Bivariate analysis Starts"
      ]
    },
    {
      "cell_type": "markdown",
      "metadata": {
        "id": "krXu_CN9TKNu"
      },
      "source": [
        "**Area Code w.r.t Churn**"
      ]
    },
    {
      "cell_type": "code",
      "metadata": {
        "colab": {
          "base_uri": "https://localhost:8080/"
        },
        "id": "NEofkEzJwEnA",
        "outputId": "e8a2976c-54c9-49cd-8c02-beb7f4a96676"
      },
      "source": [
        "csv_data.groupby(['Area code', 'Churn'])['Area code'].value_counts()"
      ],
      "execution_count": 31,
      "outputs": [
        {
          "output_type": "execute_result",
          "data": {
            "text/plain": [
              "Area code  Churn  Area code\n",
              "408        False  408           716\n",
              "           True   408           122\n",
              "415        False  415          1419\n",
              "           True   415           236\n",
              "510        False  510           715\n",
              "           True   510           125\n",
              "Name: Area code, dtype: int64"
            ]
          },
          "metadata": {
            "tags": []
          },
          "execution_count": 31
        }
      ]
    },
    {
      "cell_type": "markdown",
      "metadata": {
        "id": "a7vqV00nTOhP"
      },
      "source": [
        "**International plan w.r.t Churn**"
      ]
    },
    {
      "cell_type": "code",
      "metadata": {
        "colab": {
          "base_uri": "https://localhost:8080/"
        },
        "id": "spclclFOqrT6",
        "outputId": "7a32b7fc-e6d8-4e45-ce7f-52ef579e2147"
      },
      "source": [
        "csv_data.groupby(['International plan', 'Churn'])['International plan'].value_counts()"
      ],
      "execution_count": 32,
      "outputs": [
        {
          "output_type": "execute_result",
          "data": {
            "text/plain": [
              "International plan  Churn  International plan\n",
              "No                  False  No                    2664\n",
              "                    True   No                     346\n",
              "Yes                 False  Yes                    186\n",
              "                    True   Yes                    137\n",
              "Name: International plan, dtype: int64"
            ]
          },
          "metadata": {
            "tags": []
          },
          "execution_count": 32
        }
      ]
    },
    {
      "cell_type": "markdown",
      "metadata": {
        "id": "4YG6G5k8TSr1"
      },
      "source": [
        "**Voice mail plan w.r.t Churn**"
      ]
    },
    {
      "cell_type": "code",
      "metadata": {
        "colab": {
          "base_uri": "https://localhost:8080/",
          "height": 204
        },
        "id": "UpAuBw5rqyEy",
        "outputId": "0938b0ac-7362-45ea-82f6-dc18eb07d0bd"
      },
      "source": [
        "voice_mail_analysis = csv_data.groupby(['Voice mail plan', 'Churn'])['Voice mail plan'].describe()\n",
        "voice_mail_analysis"
      ],
      "execution_count": 33,
      "outputs": [
        {
          "output_type": "execute_result",
          "data": {
            "text/html": [
              "<div>\n",
              "<style scoped>\n",
              "    .dataframe tbody tr th:only-of-type {\n",
              "        vertical-align: middle;\n",
              "    }\n",
              "\n",
              "    .dataframe tbody tr th {\n",
              "        vertical-align: top;\n",
              "    }\n",
              "\n",
              "    .dataframe thead th {\n",
              "        text-align: right;\n",
              "    }\n",
              "</style>\n",
              "<table border=\"1\" class=\"dataframe\">\n",
              "  <thead>\n",
              "    <tr style=\"text-align: right;\">\n",
              "      <th></th>\n",
              "      <th></th>\n",
              "      <th>count</th>\n",
              "      <th>unique</th>\n",
              "      <th>top</th>\n",
              "      <th>freq</th>\n",
              "    </tr>\n",
              "    <tr>\n",
              "      <th>Voice mail plan</th>\n",
              "      <th>Churn</th>\n",
              "      <th></th>\n",
              "      <th></th>\n",
              "      <th></th>\n",
              "      <th></th>\n",
              "    </tr>\n",
              "  </thead>\n",
              "  <tbody>\n",
              "    <tr>\n",
              "      <th rowspan=\"2\" valign=\"top\">No</th>\n",
              "      <th>False</th>\n",
              "      <td>2008</td>\n",
              "      <td>1</td>\n",
              "      <td>No</td>\n",
              "      <td>2008</td>\n",
              "    </tr>\n",
              "    <tr>\n",
              "      <th>True</th>\n",
              "      <td>403</td>\n",
              "      <td>1</td>\n",
              "      <td>No</td>\n",
              "      <td>403</td>\n",
              "    </tr>\n",
              "    <tr>\n",
              "      <th rowspan=\"2\" valign=\"top\">Yes</th>\n",
              "      <th>False</th>\n",
              "      <td>842</td>\n",
              "      <td>1</td>\n",
              "      <td>Yes</td>\n",
              "      <td>842</td>\n",
              "    </tr>\n",
              "    <tr>\n",
              "      <th>True</th>\n",
              "      <td>80</td>\n",
              "      <td>1</td>\n",
              "      <td>Yes</td>\n",
              "      <td>80</td>\n",
              "    </tr>\n",
              "  </tbody>\n",
              "</table>\n",
              "</div>"
            ],
            "text/plain": [
              "                      count unique  top  freq\n",
              "Voice mail plan Churn                        \n",
              "No              False  2008      1   No  2008\n",
              "                True    403      1   No   403\n",
              "Yes             False   842      1  Yes   842\n",
              "                True     80      1  Yes    80"
            ]
          },
          "metadata": {
            "tags": []
          },
          "execution_count": 33
        }
      ]
    },
    {
      "cell_type": "markdown",
      "metadata": {
        "id": "153pZjn0TsFS"
      },
      "source": [
        "# After analyzing we came to a conclusion that total_day_minutes, voice mail plan, interntional calls and customer service calls are the factors which are impacting churned customers."
      ]
    },
    {
      "cell_type": "code",
      "metadata": {
        "colab": {
          "base_uri": "https://localhost:8080/",
          "height": 204
        },
        "id": "QN8ENycVoez1",
        "outputId": "fc77a029-c954-4c51-fe2a-26a7678249f0"
      },
      "source": [
        "voice_mail_analysis = voice_mail_analysis.assign(percentage_customers = lambda x: (x['count'] /sum(voice_mail_analysis['count']) * 100))\n",
        "voice_mail_analysis"
      ],
      "execution_count": 34,
      "outputs": [
        {
          "output_type": "execute_result",
          "data": {
            "text/html": [
              "<div>\n",
              "<style scoped>\n",
              "    .dataframe tbody tr th:only-of-type {\n",
              "        vertical-align: middle;\n",
              "    }\n",
              "\n",
              "    .dataframe tbody tr th {\n",
              "        vertical-align: top;\n",
              "    }\n",
              "\n",
              "    .dataframe thead th {\n",
              "        text-align: right;\n",
              "    }\n",
              "</style>\n",
              "<table border=\"1\" class=\"dataframe\">\n",
              "  <thead>\n",
              "    <tr style=\"text-align: right;\">\n",
              "      <th></th>\n",
              "      <th></th>\n",
              "      <th>count</th>\n",
              "      <th>unique</th>\n",
              "      <th>top</th>\n",
              "      <th>freq</th>\n",
              "      <th>percentage_customers</th>\n",
              "    </tr>\n",
              "    <tr>\n",
              "      <th>Voice mail plan</th>\n",
              "      <th>Churn</th>\n",
              "      <th></th>\n",
              "      <th></th>\n",
              "      <th></th>\n",
              "      <th></th>\n",
              "      <th></th>\n",
              "    </tr>\n",
              "  </thead>\n",
              "  <tbody>\n",
              "    <tr>\n",
              "      <th rowspan=\"2\" valign=\"top\">No</th>\n",
              "      <th>False</th>\n",
              "      <td>2008</td>\n",
              "      <td>1</td>\n",
              "      <td>No</td>\n",
              "      <td>2008</td>\n",
              "      <td>60.246</td>\n",
              "    </tr>\n",
              "    <tr>\n",
              "      <th>True</th>\n",
              "      <td>403</td>\n",
              "      <td>1</td>\n",
              "      <td>No</td>\n",
              "      <td>403</td>\n",
              "      <td>12.0912</td>\n",
              "    </tr>\n",
              "    <tr>\n",
              "      <th rowspan=\"2\" valign=\"top\">Yes</th>\n",
              "      <th>False</th>\n",
              "      <td>842</td>\n",
              "      <td>1</td>\n",
              "      <td>Yes</td>\n",
              "      <td>842</td>\n",
              "      <td>25.2625</td>\n",
              "    </tr>\n",
              "    <tr>\n",
              "      <th>True</th>\n",
              "      <td>80</td>\n",
              "      <td>1</td>\n",
              "      <td>Yes</td>\n",
              "      <td>80</td>\n",
              "      <td>2.40024</td>\n",
              "    </tr>\n",
              "  </tbody>\n",
              "</table>\n",
              "</div>"
            ],
            "text/plain": [
              "                      count unique  top  freq percentage_customers\n",
              "Voice mail plan Churn                                             \n",
              "No              False  2008      1   No  2008               60.246\n",
              "                True    403      1   No   403              12.0912\n",
              "Yes             False   842      1  Yes   842              25.2625\n",
              "                True     80      1  Yes    80              2.40024"
            ]
          },
          "metadata": {
            "tags": []
          },
          "execution_count": 34
        }
      ]
    },
    {
      "cell_type": "markdown",
      "metadata": {
        "id": "5oTG0z5ntZcq"
      },
      "source": [
        "# Dividing data between churned and unchurned "
      ]
    },
    {
      "cell_type": "code",
      "metadata": {
        "id": "l-_mQ93nDwUw"
      },
      "source": [
        "churn_true = csv_data[csv_data['Churn'] == True]\n",
        "churn_false = csv_data[csv_data['Churn'] == False]"
      ],
      "execution_count": 35,
      "outputs": []
    },
    {
      "cell_type": "markdown",
      "metadata": {
        "id": "W3dZUoXct8-G"
      },
      "source": [
        "# Selecting the Customers having percentile of churned more than 50"
      ]
    },
    {
      "cell_type": "code",
      "metadata": {
        "colab": {
          "base_uri": "https://localhost:8080/",
          "height": 700
        },
        "id": "m90ASVrd0oZZ",
        "outputId": "bcd47c5a-8c95-4b2f-d7b7-83ba66ffd458"
      },
      "source": [
        "# Grouping Customer calls wrt to state and taking only the states which has more than 50 percentile of calls\n",
        "customer_calls_grouped_by_state = churn_true.groupby('State')['Customer service calls'].describe()\n",
        "customer_calls_grouped_by_state.reset_index(inplace=True)\n",
        "max_calls_in_a_state = max(customer_calls_grouped_by_state['count'])\n",
        "customer_calls_grouped_by_state = customer_calls_grouped_by_state.assign(percentile_calls = lambda x: (x['count'] / max_calls_in_a_state * 100))\n",
        "customer_calls_grouped_by_state_percentile_greater_than_50 = customer_calls_grouped_by_state[customer_calls_grouped_by_state['percentile_calls'] > 50]\n",
        "customer_calls_grouped_by_state_percentile_greater_than_50"
      ],
      "execution_count": 36,
      "outputs": [
        {
          "output_type": "execute_result",
          "data": {
            "text/html": [
              "<div>\n",
              "<style scoped>\n",
              "    .dataframe tbody tr th:only-of-type {\n",
              "        vertical-align: middle;\n",
              "    }\n",
              "\n",
              "    .dataframe tbody tr th {\n",
              "        vertical-align: top;\n",
              "    }\n",
              "\n",
              "    .dataframe thead th {\n",
              "        text-align: right;\n",
              "    }\n",
              "</style>\n",
              "<table border=\"1\" class=\"dataframe\">\n",
              "  <thead>\n",
              "    <tr style=\"text-align: right;\">\n",
              "      <th></th>\n",
              "      <th>State</th>\n",
              "      <th>count</th>\n",
              "      <th>mean</th>\n",
              "      <th>std</th>\n",
              "      <th>min</th>\n",
              "      <th>25%</th>\n",
              "      <th>50%</th>\n",
              "      <th>75%</th>\n",
              "      <th>max</th>\n",
              "      <th>percentile_calls</th>\n",
              "    </tr>\n",
              "  </thead>\n",
              "  <tbody>\n",
              "    <tr>\n",
              "      <th>2</th>\n",
              "      <td>AR</td>\n",
              "      <td>11.0</td>\n",
              "      <td>3.818182</td>\n",
              "      <td>2.136267</td>\n",
              "      <td>0.0</td>\n",
              "      <td>2.50</td>\n",
              "      <td>4.0</td>\n",
              "      <td>5.00</td>\n",
              "      <td>7.0</td>\n",
              "      <td>61.111111</td>\n",
              "    </tr>\n",
              "    <tr>\n",
              "      <th>6</th>\n",
              "      <td>CT</td>\n",
              "      <td>12.0</td>\n",
              "      <td>1.416667</td>\n",
              "      <td>1.621354</td>\n",
              "      <td>0.0</td>\n",
              "      <td>0.00</td>\n",
              "      <td>1.0</td>\n",
              "      <td>2.00</td>\n",
              "      <td>5.0</td>\n",
              "      <td>66.666667</td>\n",
              "    </tr>\n",
              "    <tr>\n",
              "      <th>16</th>\n",
              "      <td>KS</td>\n",
              "      <td>13.0</td>\n",
              "      <td>1.692308</td>\n",
              "      <td>1.436698</td>\n",
              "      <td>0.0</td>\n",
              "      <td>1.00</td>\n",
              "      <td>1.0</td>\n",
              "      <td>3.00</td>\n",
              "      <td>4.0</td>\n",
              "      <td>72.222222</td>\n",
              "    </tr>\n",
              "    <tr>\n",
              "      <th>19</th>\n",
              "      <td>MA</td>\n",
              "      <td>11.0</td>\n",
              "      <td>1.363636</td>\n",
              "      <td>1.433369</td>\n",
              "      <td>0.0</td>\n",
              "      <td>0.00</td>\n",
              "      <td>1.0</td>\n",
              "      <td>2.50</td>\n",
              "      <td>4.0</td>\n",
              "      <td>61.111111</td>\n",
              "    </tr>\n",
              "    <tr>\n",
              "      <th>20</th>\n",
              "      <td>MD</td>\n",
              "      <td>17.0</td>\n",
              "      <td>2.235294</td>\n",
              "      <td>1.821037</td>\n",
              "      <td>0.0</td>\n",
              "      <td>1.00</td>\n",
              "      <td>2.0</td>\n",
              "      <td>3.00</td>\n",
              "      <td>6.0</td>\n",
              "      <td>94.444444</td>\n",
              "    </tr>\n",
              "    <tr>\n",
              "      <th>21</th>\n",
              "      <td>ME</td>\n",
              "      <td>13.0</td>\n",
              "      <td>2.000000</td>\n",
              "      <td>1.779513</td>\n",
              "      <td>0.0</td>\n",
              "      <td>0.00</td>\n",
              "      <td>2.0</td>\n",
              "      <td>4.00</td>\n",
              "      <td>4.0</td>\n",
              "      <td>72.222222</td>\n",
              "    </tr>\n",
              "    <tr>\n",
              "      <th>22</th>\n",
              "      <td>MI</td>\n",
              "      <td>16.0</td>\n",
              "      <td>2.437500</td>\n",
              "      <td>2.220173</td>\n",
              "      <td>0.0</td>\n",
              "      <td>1.00</td>\n",
              "      <td>2.0</td>\n",
              "      <td>3.50</td>\n",
              "      <td>7.0</td>\n",
              "      <td>88.888889</td>\n",
              "    </tr>\n",
              "    <tr>\n",
              "      <th>23</th>\n",
              "      <td>MN</td>\n",
              "      <td>15.0</td>\n",
              "      <td>2.733333</td>\n",
              "      <td>2.491892</td>\n",
              "      <td>0.0</td>\n",
              "      <td>1.00</td>\n",
              "      <td>2.0</td>\n",
              "      <td>4.00</td>\n",
              "      <td>9.0</td>\n",
              "      <td>83.333333</td>\n",
              "    </tr>\n",
              "    <tr>\n",
              "      <th>25</th>\n",
              "      <td>MS</td>\n",
              "      <td>14.0</td>\n",
              "      <td>2.285714</td>\n",
              "      <td>1.938619</td>\n",
              "      <td>0.0</td>\n",
              "      <td>1.00</td>\n",
              "      <td>1.5</td>\n",
              "      <td>4.00</td>\n",
              "      <td>6.0</td>\n",
              "      <td>77.777778</td>\n",
              "    </tr>\n",
              "    <tr>\n",
              "      <th>26</th>\n",
              "      <td>MT</td>\n",
              "      <td>14.0</td>\n",
              "      <td>2.571429</td>\n",
              "      <td>1.741542</td>\n",
              "      <td>0.0</td>\n",
              "      <td>1.00</td>\n",
              "      <td>2.0</td>\n",
              "      <td>4.00</td>\n",
              "      <td>6.0</td>\n",
              "      <td>77.777778</td>\n",
              "    </tr>\n",
              "    <tr>\n",
              "      <th>27</th>\n",
              "      <td>NC</td>\n",
              "      <td>11.0</td>\n",
              "      <td>2.272727</td>\n",
              "      <td>1.848833</td>\n",
              "      <td>0.0</td>\n",
              "      <td>1.50</td>\n",
              "      <td>2.0</td>\n",
              "      <td>2.50</td>\n",
              "      <td>6.0</td>\n",
              "      <td>61.111111</td>\n",
              "    </tr>\n",
              "    <tr>\n",
              "      <th>31</th>\n",
              "      <td>NJ</td>\n",
              "      <td>18.0</td>\n",
              "      <td>2.166667</td>\n",
              "      <td>2.036433</td>\n",
              "      <td>0.0</td>\n",
              "      <td>1.25</td>\n",
              "      <td>2.0</td>\n",
              "      <td>2.00</td>\n",
              "      <td>9.0</td>\n",
              "      <td>100.000000</td>\n",
              "    </tr>\n",
              "    <tr>\n",
              "      <th>33</th>\n",
              "      <td>NV</td>\n",
              "      <td>14.0</td>\n",
              "      <td>2.142857</td>\n",
              "      <td>1.406422</td>\n",
              "      <td>1.0</td>\n",
              "      <td>1.00</td>\n",
              "      <td>1.5</td>\n",
              "      <td>3.00</td>\n",
              "      <td>5.0</td>\n",
              "      <td>77.777778</td>\n",
              "    </tr>\n",
              "    <tr>\n",
              "      <th>34</th>\n",
              "      <td>NY</td>\n",
              "      <td>15.0</td>\n",
              "      <td>2.666667</td>\n",
              "      <td>1.914854</td>\n",
              "      <td>0.0</td>\n",
              "      <td>1.00</td>\n",
              "      <td>3.0</td>\n",
              "      <td>4.00</td>\n",
              "      <td>6.0</td>\n",
              "      <td>83.333333</td>\n",
              "    </tr>\n",
              "    <tr>\n",
              "      <th>35</th>\n",
              "      <td>OH</td>\n",
              "      <td>10.0</td>\n",
              "      <td>1.000000</td>\n",
              "      <td>1.414214</td>\n",
              "      <td>0.0</td>\n",
              "      <td>0.00</td>\n",
              "      <td>0.5</td>\n",
              "      <td>1.00</td>\n",
              "      <td>4.0</td>\n",
              "      <td>55.555556</td>\n",
              "    </tr>\n",
              "    <tr>\n",
              "      <th>37</th>\n",
              "      <td>OR</td>\n",
              "      <td>11.0</td>\n",
              "      <td>2.363636</td>\n",
              "      <td>1.689540</td>\n",
              "      <td>0.0</td>\n",
              "      <td>1.00</td>\n",
              "      <td>3.0</td>\n",
              "      <td>3.50</td>\n",
              "      <td>5.0</td>\n",
              "      <td>61.111111</td>\n",
              "    </tr>\n",
              "    <tr>\n",
              "      <th>40</th>\n",
              "      <td>SC</td>\n",
              "      <td>14.0</td>\n",
              "      <td>2.071429</td>\n",
              "      <td>1.542440</td>\n",
              "      <td>0.0</td>\n",
              "      <td>1.00</td>\n",
              "      <td>2.0</td>\n",
              "      <td>3.75</td>\n",
              "      <td>4.0</td>\n",
              "      <td>77.777778</td>\n",
              "    </tr>\n",
              "    <tr>\n",
              "      <th>43</th>\n",
              "      <td>TX</td>\n",
              "      <td>18.0</td>\n",
              "      <td>1.666667</td>\n",
              "      <td>1.571810</td>\n",
              "      <td>0.0</td>\n",
              "      <td>0.25</td>\n",
              "      <td>1.0</td>\n",
              "      <td>2.75</td>\n",
              "      <td>5.0</td>\n",
              "      <td>100.000000</td>\n",
              "    </tr>\n",
              "    <tr>\n",
              "      <th>44</th>\n",
              "      <td>UT</td>\n",
              "      <td>10.0</td>\n",
              "      <td>2.600000</td>\n",
              "      <td>2.221111</td>\n",
              "      <td>0.0</td>\n",
              "      <td>1.00</td>\n",
              "      <td>2.0</td>\n",
              "      <td>4.25</td>\n",
              "      <td>6.0</td>\n",
              "      <td>55.555556</td>\n",
              "    </tr>\n",
              "    <tr>\n",
              "      <th>47</th>\n",
              "      <td>WA</td>\n",
              "      <td>14.0</td>\n",
              "      <td>2.071429</td>\n",
              "      <td>1.940035</td>\n",
              "      <td>0.0</td>\n",
              "      <td>0.25</td>\n",
              "      <td>1.5</td>\n",
              "      <td>3.75</td>\n",
              "      <td>6.0</td>\n",
              "      <td>77.777778</td>\n",
              "    </tr>\n",
              "    <tr>\n",
              "      <th>49</th>\n",
              "      <td>WV</td>\n",
              "      <td>10.0</td>\n",
              "      <td>2.800000</td>\n",
              "      <td>1.988858</td>\n",
              "      <td>0.0</td>\n",
              "      <td>1.00</td>\n",
              "      <td>3.0</td>\n",
              "      <td>4.75</td>\n",
              "      <td>5.0</td>\n",
              "      <td>55.555556</td>\n",
              "    </tr>\n",
              "  </tbody>\n",
              "</table>\n",
              "</div>"
            ],
            "text/plain": [
              "   State  count      mean       std  ...  50%   75%  max  percentile_calls\n",
              "2     AR   11.0  3.818182  2.136267  ...  4.0  5.00  7.0         61.111111\n",
              "6     CT   12.0  1.416667  1.621354  ...  1.0  2.00  5.0         66.666667\n",
              "16    KS   13.0  1.692308  1.436698  ...  1.0  3.00  4.0         72.222222\n",
              "19    MA   11.0  1.363636  1.433369  ...  1.0  2.50  4.0         61.111111\n",
              "20    MD   17.0  2.235294  1.821037  ...  2.0  3.00  6.0         94.444444\n",
              "21    ME   13.0  2.000000  1.779513  ...  2.0  4.00  4.0         72.222222\n",
              "22    MI   16.0  2.437500  2.220173  ...  2.0  3.50  7.0         88.888889\n",
              "23    MN   15.0  2.733333  2.491892  ...  2.0  4.00  9.0         83.333333\n",
              "25    MS   14.0  2.285714  1.938619  ...  1.5  4.00  6.0         77.777778\n",
              "26    MT   14.0  2.571429  1.741542  ...  2.0  4.00  6.0         77.777778\n",
              "27    NC   11.0  2.272727  1.848833  ...  2.0  2.50  6.0         61.111111\n",
              "31    NJ   18.0  2.166667  2.036433  ...  2.0  2.00  9.0        100.000000\n",
              "33    NV   14.0  2.142857  1.406422  ...  1.5  3.00  5.0         77.777778\n",
              "34    NY   15.0  2.666667  1.914854  ...  3.0  4.00  6.0         83.333333\n",
              "35    OH   10.0  1.000000  1.414214  ...  0.5  1.00  4.0         55.555556\n",
              "37    OR   11.0  2.363636  1.689540  ...  3.0  3.50  5.0         61.111111\n",
              "40    SC   14.0  2.071429  1.542440  ...  2.0  3.75  4.0         77.777778\n",
              "43    TX   18.0  1.666667  1.571810  ...  1.0  2.75  5.0        100.000000\n",
              "44    UT   10.0  2.600000  2.221111  ...  2.0  4.25  6.0         55.555556\n",
              "47    WA   14.0  2.071429  1.940035  ...  1.5  3.75  6.0         77.777778\n",
              "49    WV   10.0  2.800000  1.988858  ...  3.0  4.75  5.0         55.555556\n",
              "\n",
              "[21 rows x 10 columns]"
            ]
          },
          "metadata": {
            "tags": []
          },
          "execution_count": 36
        }
      ]
    },
    {
      "cell_type": "markdown",
      "metadata": {
        "id": "PVKJOBV6uFwo"
      },
      "source": [
        "# Plotting between customer calls in different state vs their percentile"
      ]
    },
    {
      "cell_type": "code",
      "metadata": {
        "colab": {
          "base_uri": "https://localhost:8080/",
          "height": 404
        },
        "id": "sNuoP7yZolmX",
        "outputId": "3be26724-0812-45fd-d8b5-362e83389de9"
      },
      "source": [
        "# Plotting the data of states having more than 50 percentile customer calls\n",
        "plt.rcParams['figure.figsize'] = (15, 6)\n",
        "plt.bar(customer_calls_grouped_by_state_percentile_greater_than_50['State'] , customer_calls_grouped_by_state_percentile_greater_than_50['percentile_calls'])\n",
        "plt.xlabel(\"State\")\n",
        "plt.ylabel(\"Percentile Calls\")\n",
        "plt.title(\"Customer calls in different states\")\n",
        "plt.show()"
      ],
      "execution_count": 37,
      "outputs": [
        {
          "output_type": "display_data",
          "data": {
            "image/png": "[encoded data removed]",
            "text/plain": [
              "<Figure size 1080x432 with 1 Axes>"
            ]
          },
          "metadata": {
            "tags": [],
            "needs_background": "light"
          }
        }
      ]
    },
    {
      "cell_type": "code",
      "metadata": {
        "id": "_9rrDEJkqNM9"
      },
      "source": [
        ""
      ],
      "execution_count": 37,
      "outputs": []
    },
    {
      "cell_type": "markdown",
      "metadata": {
        "id": "XWvF2DovvUtd"
      },
      "source": [
        "# Plotting between International plan where churn is true"
      ]
    },
    {
      "cell_type": "code",
      "metadata": {
        "colab": {
          "base_uri": "https://localhost:8080/",
          "height": 343
        },
        "id": "Qw1VoRD3adua",
        "outputId": "aa97aa4b-ce2a-4d1b-a296-d3ae5edc758b"
      },
      "source": [
        "plt.rcParams['figure.figsize'] = (10, 5)\n",
        "churn_true['International plan'].value_counts().plot(kind = 'bar')"
      ],
      "execution_count": 38,
      "outputs": [
        {
          "output_type": "execute_result",
          "data": {
            "text/plain": [
              "<matplotlib.axes._subplots.AxesSubplot at 0x7fe489d22990>"
            ]
          },
          "metadata": {
            "tags": []
          },
          "execution_count": 38
        },
        {
          "output_type": "display_data",
          "data": {
            "image/png": "[encoded data removed]",
            "text/plain": [
              "<Figure size 720x360 with 1 Axes>"
            ]
          },
          "metadata": {
            "tags": [],
            "needs_background": "light"
          }
        }
      ]
    },
    {
      "cell_type": "markdown",
      "metadata": {
        "id": "4uVEValyvfwD"
      },
      "source": [
        "# Plotting between International plan where churn is false"
      ]
    },
    {
      "cell_type": "code",
      "metadata": {
        "colab": {
          "base_uri": "https://localhost:8080/",
          "height": 343
        },
        "id": "Ojz8du3GraPv",
        "outputId": "2f830ba2-1186-424a-dc15-364be7a89d51"
      },
      "source": [
        "churn_false['International plan'].value_counts().plot(kind = 'bar')"
      ],
      "execution_count": 39,
      "outputs": [
        {
          "output_type": "execute_result",
          "data": {
            "text/plain": [
              "<matplotlib.axes._subplots.AxesSubplot at 0x7fe489c9a690>"
            ]
          },
          "metadata": {
            "tags": []
          },
          "execution_count": 39
        },
        {
          "output_type": "display_data",
          "data": {
            "image/png": "[encoded data removed]",
            "text/plain": [
              "<Figure size 720x360 with 1 Axes>"
            ]
          },
          "metadata": {
            "tags": [],
            "needs_background": "light"
          }
        }
      ]
    },
    {
      "cell_type": "code",
      "metadata": {
        "id": "JSpFS7pXvm7X"
      },
      "source": [
        ""
      ],
      "execution_count": 39,
      "outputs": []
    },
    {
      "cell_type": "markdown",
      "metadata": {
        "id": "PbXhgk2Ovnc0"
      },
      "source": [
        "# Plotting between voice mail plan where churn is True"
      ]
    },
    {
      "cell_type": "code",
      "metadata": {
        "colab": {
          "base_uri": "https://localhost:8080/",
          "height": 343
        },
        "id": "0nXlU5R3rmgV",
        "outputId": "57902568-24c8-42bf-ecf2-33b070e4805f"
      },
      "source": [
        "churn_true['Voice mail plan'].value_counts().plot(kind = 'bar')"
      ],
      "execution_count": 40,
      "outputs": [
        {
          "output_type": "execute_result",
          "data": {
            "text/plain": [
              "<matplotlib.axes._subplots.AxesSubplot at 0x7fe489c71290>"
            ]
          },
          "metadata": {
            "tags": []
          },
          "execution_count": 40
        },
        {
          "output_type": "display_data",
          "data": {
            "image/png": "[encoded data removed]",
            "text/plain": [
              "<Figure size 720x360 with 1 Axes>"
            ]
          },
          "metadata": {
            "tags": [],
            "needs_background": "light"
          }
        }
      ]
    },
    {
      "cell_type": "code",
      "metadata": {
        "id": "5z5QRYgMvwmj"
      },
      "source": [
        ""
      ],
      "execution_count": 40,
      "outputs": []
    },
    {
      "cell_type": "markdown",
      "metadata": {
        "id": "8Kaj-RtCvxK-"
      },
      "source": [
        "# Plotting between voice mail plan where churn is false"
      ]
    },
    {
      "cell_type": "code",
      "metadata": {
        "colab": {
          "base_uri": "https://localhost:8080/",
          "height": 343
        },
        "id": "7Q2M75f0ruee",
        "outputId": "3cde6ec5-ced7-4613-96cc-4d2cc028922f"
      },
      "source": [
        "churn_false['Voice mail plan'].value_counts().plot(kind = 'bar')\n"
      ],
      "execution_count": 41,
      "outputs": [
        {
          "output_type": "execute_result",
          "data": {
            "text/plain": [
              "<matplotlib.axes._subplots.AxesSubplot at 0x7fe4a0340390>"
            ]
          },
          "metadata": {
            "tags": []
          },
          "execution_count": 41
        },
        {
          "output_type": "display_data",
          "data": {
            "image/png": "[encoded data removed]",
            "text/plain": [
              "<Figure size 720x360 with 1 Axes>"
            ]
          },
          "metadata": {
            "tags": [],
            "needs_background": "light"
          }
        }
      ]
    },
    {
      "cell_type": "markdown",
      "metadata": {
        "id": "rkgKldrRv1us"
      },
      "source": [
        "# Plotting between area code where churn is True"
      ]
    },
    {
      "cell_type": "code",
      "metadata": {
        "colab": {
          "base_uri": "https://localhost:8080/",
          "height": 346
        },
        "id": "Hea0bg0bsHnq",
        "outputId": "4ccd50b6-3bdb-405b-fba0-36e276402e24"
      },
      "source": [
        "churn_true['Area code'].value_counts().plot(kind = 'bar')"
      ],
      "execution_count": 42,
      "outputs": [
        {
          "output_type": "execute_result",
          "data": {
            "text/plain": [
              "<matplotlib.axes._subplots.AxesSubplot at 0x7fe489b82b90>"
            ]
          },
          "metadata": {
            "tags": []
          },
          "execution_count": 42
        },
        {
          "output_type": "display_data",
          "data": {
            "image/png": "[encoded data removed]",
            "text/plain": [
              "<Figure size 720x360 with 1 Axes>"
            ]
          },
          "metadata": {
            "tags": [],
            "needs_background": "light"
          }
        }
      ]
    },
    {
      "cell_type": "markdown",
      "metadata": {
        "id": "BVa4DZvGv6Ep"
      },
      "source": [
        "# Plotting between area code where churn is false"
      ]
    },
    {
      "cell_type": "code",
      "metadata": {
        "colab": {
          "base_uri": "https://localhost:8080/",
          "height": 346
        },
        "id": "7bLa37rnsmFU",
        "outputId": "52d6f003-6867-4eae-af67-070001e01121"
      },
      "source": [
        "churn_false['Area code'].value_counts().plot(kind = 'bar')"
      ],
      "execution_count": 43,
      "outputs": [
        {
          "output_type": "execute_result",
          "data": {
            "text/plain": [
              "<matplotlib.axes._subplots.AxesSubplot at 0x7fe489aeb310>"
            ]
          },
          "metadata": {
            "tags": []
          },
          "execution_count": 43
        },
        {
          "output_type": "display_data",
          "data": {
            "image/png": "[encoded data removed]",
            "text/plain": [
              "<Figure size 720x360 with 1 Axes>"
            ]
          },
          "metadata": {
            "tags": [],
            "needs_background": "light"
          }
        }
      ]
    },
    {
      "cell_type": "code",
      "metadata": {
        "colab": {
          "base_uri": "https://localhost:8080/",
          "height": 351
        },
        "id": "VW2_D-jVbCky",
        "outputId": "9167fd29-3c8c-492c-d051-f71730f18141"
      },
      "source": [
        "vc_active = churn_true[churn_true['Voice mail plan'] == 'Yes']\n",
        "vc_active.describe()"
      ],
      "execution_count": 44,
      "outputs": [
        {
          "output_type": "execute_result",
          "data": {
            "text/html": [
              "<div>\n",
              "<style scoped>\n",
              "    .dataframe tbody tr th:only-of-type {\n",
              "        vertical-align: middle;\n",
              "    }\n",
              "\n",
              "    .dataframe tbody tr th {\n",
              "        vertical-align: top;\n",
              "    }\n",
              "\n",
              "    .dataframe thead th {\n",
              "        text-align: right;\n",
              "    }\n",
              "</style>\n",
              "<table border=\"1\" class=\"dataframe\">\n",
              "  <thead>\n",
              "    <tr style=\"text-align: right;\">\n",
              "      <th></th>\n",
              "      <th>Account length</th>\n",
              "      <th>Area code</th>\n",
              "      <th>Number vmail messages</th>\n",
              "      <th>Total day minutes</th>\n",
              "      <th>Total day calls</th>\n",
              "      <th>Total day charge</th>\n",
              "      <th>Total eve minutes</th>\n",
              "      <th>Total eve calls</th>\n",
              "      <th>Total eve charge</th>\n",
              "      <th>Total night minutes</th>\n",
              "      <th>Total night calls</th>\n",
              "      <th>Total night charge</th>\n",
              "      <th>Total intl minutes</th>\n",
              "      <th>Total intl calls</th>\n",
              "      <th>Total intl charge</th>\n",
              "      <th>Customer service calls</th>\n",
              "      <th>total_charges</th>\n",
              "      <th>total_minutes</th>\n",
              "    </tr>\n",
              "  </thead>\n",
              "  <tbody>\n",
              "    <tr>\n",
              "      <th>count</th>\n",
              "      <td>80.000000</td>\n",
              "      <td>80.000000</td>\n",
              "      <td>80.000000</td>\n",
              "      <td>80.00000</td>\n",
              "      <td>80.000000</td>\n",
              "      <td>80.000000</td>\n",
              "      <td>80.000000</td>\n",
              "      <td>80.000000</td>\n",
              "      <td>80.000000</td>\n",
              "      <td>80.000000</td>\n",
              "      <td>80.000000</td>\n",
              "      <td>80.000000</td>\n",
              "      <td>80.000000</td>\n",
              "      <td>80.000000</td>\n",
              "      <td>80.000000</td>\n",
              "      <td>80.000000</td>\n",
              "      <td>80.000000</td>\n",
              "      <td>80.000000</td>\n",
              "    </tr>\n",
              "    <tr>\n",
              "      <th>mean</th>\n",
              "      <td>104.712500</td>\n",
              "      <td>441.575000</td>\n",
              "      <td>30.887500</td>\n",
              "      <td>176.58500</td>\n",
              "      <td>101.237500</td>\n",
              "      <td>30.020375</td>\n",
              "      <td>202.632500</td>\n",
              "      <td>100.962500</td>\n",
              "      <td>17.224250</td>\n",
              "      <td>193.231250</td>\n",
              "      <td>101.950000</td>\n",
              "      <td>8.695000</td>\n",
              "      <td>11.145000</td>\n",
              "      <td>4.637500</td>\n",
              "      <td>3.009625</td>\n",
              "      <td>2.587500</td>\n",
              "      <td>55.939625</td>\n",
              "      <td>572.448750</td>\n",
              "    </tr>\n",
              "    <tr>\n",
              "      <th>std</th>\n",
              "      <td>34.289975</td>\n",
              "      <td>45.169099</td>\n",
              "      <td>7.219863</td>\n",
              "      <td>50.83929</td>\n",
              "      <td>18.483139</td>\n",
              "      <td>8.643009</td>\n",
              "      <td>50.189055</td>\n",
              "      <td>19.773044</td>\n",
              "      <td>4.266139</td>\n",
              "      <td>48.078174</td>\n",
              "      <td>19.187219</td>\n",
              "      <td>2.163443</td>\n",
              "      <td>3.121339</td>\n",
              "      <td>3.040835</td>\n",
              "      <td>0.842378</td>\n",
              "      <td>2.016977</td>\n",
              "      <td>9.730624</td>\n",
              "      <td>84.614005</td>\n",
              "    </tr>\n",
              "    <tr>\n",
              "      <th>min</th>\n",
              "      <td>17.000000</td>\n",
              "      <td>408.000000</td>\n",
              "      <td>15.000000</td>\n",
              "      <td>82.30000</td>\n",
              "      <td>59.000000</td>\n",
              "      <td>13.990000</td>\n",
              "      <td>75.300000</td>\n",
              "      <td>56.000000</td>\n",
              "      <td>6.400000</td>\n",
              "      <td>82.300000</td>\n",
              "      <td>49.000000</td>\n",
              "      <td>3.700000</td>\n",
              "      <td>4.100000</td>\n",
              "      <td>1.000000</td>\n",
              "      <td>1.110000</td>\n",
              "      <td>0.000000</td>\n",
              "      <td>36.710000</td>\n",
              "      <td>406.200000</td>\n",
              "    </tr>\n",
              "    <tr>\n",
              "      <th>25%</th>\n",
              "      <td>80.000000</td>\n",
              "      <td>408.000000</td>\n",
              "      <td>27.000000</td>\n",
              "      <td>145.85000</td>\n",
              "      <td>89.000000</td>\n",
              "      <td>24.797500</td>\n",
              "      <td>166.975000</td>\n",
              "      <td>90.750000</td>\n",
              "      <td>14.197500</td>\n",
              "      <td>165.200000</td>\n",
              "      <td>85.000000</td>\n",
              "      <td>7.432500</td>\n",
              "      <td>8.950000</td>\n",
              "      <td>2.750000</td>\n",
              "      <td>2.417500</td>\n",
              "      <td>1.000000</td>\n",
              "      <td>48.612500</td>\n",
              "      <td>507.575000</td>\n",
              "    </tr>\n",
              "    <tr>\n",
              "      <th>50%</th>\n",
              "      <td>105.500000</td>\n",
              "      <td>415.000000</td>\n",
              "      <td>31.000000</td>\n",
              "      <td>171.45000</td>\n",
              "      <td>101.000000</td>\n",
              "      <td>29.150000</td>\n",
              "      <td>203.800000</td>\n",
              "      <td>102.000000</td>\n",
              "      <td>17.320000</td>\n",
              "      <td>192.450000</td>\n",
              "      <td>102.500000</td>\n",
              "      <td>8.660000</td>\n",
              "      <td>11.100000</td>\n",
              "      <td>4.000000</td>\n",
              "      <td>3.000000</td>\n",
              "      <td>2.000000</td>\n",
              "      <td>54.325000</td>\n",
              "      <td>569.550000</td>\n",
              "    </tr>\n",
              "    <tr>\n",
              "      <th>75%</th>\n",
              "      <td>128.750000</td>\n",
              "      <td>510.000000</td>\n",
              "      <td>35.000000</td>\n",
              "      <td>209.92500</td>\n",
              "      <td>114.250000</td>\n",
              "      <td>35.690000</td>\n",
              "      <td>238.650000</td>\n",
              "      <td>115.250000</td>\n",
              "      <td>20.285000</td>\n",
              "      <td>216.925000</td>\n",
              "      <td>116.000000</td>\n",
              "      <td>9.760000</td>\n",
              "      <td>13.650000</td>\n",
              "      <td>6.000000</td>\n",
              "      <td>3.685000</td>\n",
              "      <td>4.000000</td>\n",
              "      <td>61.260000</td>\n",
              "      <td>616.525000</td>\n",
              "    </tr>\n",
              "    <tr>\n",
              "      <th>max</th>\n",
              "      <td>188.000000</td>\n",
              "      <td>510.000000</td>\n",
              "      <td>48.000000</td>\n",
              "      <td>322.40000</td>\n",
              "      <td>147.000000</td>\n",
              "      <td>54.810000</td>\n",
              "      <td>315.400000</td>\n",
              "      <td>136.000000</td>\n",
              "      <td>26.810000</td>\n",
              "      <td>321.200000</td>\n",
              "      <td>145.000000</td>\n",
              "      <td>14.450000</td>\n",
              "      <td>20.000000</td>\n",
              "      <td>20.000000</td>\n",
              "      <td>5.400000</td>\n",
              "      <td>9.000000</td>\n",
              "      <td>88.310000</td>\n",
              "      <td>815.100000</td>\n",
              "    </tr>\n",
              "  </tbody>\n",
              "</table>\n",
              "</div>"
            ],
            "text/plain": [
              "       Account length   Area code  ...  total_charges  total_minutes\n",
              "count       80.000000   80.000000  ...      80.000000      80.000000\n",
              "mean       104.712500  441.575000  ...      55.939625     572.448750\n",
              "std         34.289975   45.169099  ...       9.730624      84.614005\n",
              "min         17.000000  408.000000  ...      36.710000     406.200000\n",
              "25%         80.000000  408.000000  ...      48.612500     507.575000\n",
              "50%        105.500000  415.000000  ...      54.325000     569.550000\n",
              "75%        128.750000  510.000000  ...      61.260000     616.525000\n",
              "max        188.000000  510.000000  ...      88.310000     815.100000\n",
              "\n",
              "[8 rows x 18 columns]"
            ]
          },
          "metadata": {
            "tags": []
          },
          "execution_count": 44
        }
      ]
    },
    {
      "cell_type": "code",
      "metadata": {
        "colab": {
          "base_uri": "https://localhost:8080/",
          "height": 334
        },
        "id": "RJXU1YKwjobB",
        "outputId": "1dc784ad-1ebd-44c1-d6b8-7f554ce9be90"
      },
      "source": [
        "plt.figure(figsize=(10,5))\n",
        "sb.countplot(x='International plan', hue='Churn', data=churn_true);"
      ],
      "execution_count": 45,
      "outputs": [
        {
          "output_type": "display_data",
          "data": {
            "image/png": "[encoded data removed]",
            "text/plain": [
              "<Figure size 720x360 with 1 Axes>"
            ]
          },
          "metadata": {
            "tags": [],
            "needs_background": "light"
          }
        }
      ]
    },
    {
      "cell_type": "code",
      "metadata": {
        "colab": {
          "base_uri": "https://localhost:8080/"
        },
        "id": "oFQSKHISDrXL",
        "outputId": "b5da8859-e894-4090-f182-279efe33ddc0"
      },
      "source": [
        "for col in churn_true.columns:\n",
        "  if col in churn_true:\n",
        "    print(col)\n",
        "    print(churn_true[col].describe(),'\\n\\n')"
      ],
      "execution_count": 46,
      "outputs": [
        {
          "output_type": "stream",
          "text": [
            "State\n",
            "count     483\n",
            "unique     51\n",
            "top        TX\n",
            "freq       18\n",
            "Name: State, dtype: object \n",
            "\n",
            "\n",
            "Account length\n",
            "count    483.000000\n",
            "mean     102.664596\n",
            "std       39.467820\n",
            "min        1.000000\n",
            "25%       76.000000\n",
            "50%      103.000000\n",
            "75%      127.000000\n",
            "max      225.000000\n",
            "Name: Account length, dtype: float64 \n",
            "\n",
            "\n",
            "Area code\n",
            "count    483.000000\n",
            "mean     437.817805\n",
            "std       42.792270\n",
            "min      408.000000\n",
            "25%      408.000000\n",
            "50%      415.000000\n",
            "75%      510.000000\n",
            "max      510.000000\n",
            "Name: Area code, dtype: float64 \n",
            "\n",
            "\n",
            "International plan\n",
            "count     483\n",
            "unique      2\n",
            "top        No\n",
            "freq      346\n",
            "Name: International plan, dtype: object \n",
            "\n",
            "\n",
            "Voice mail plan\n",
            "count     483\n",
            "unique      2\n",
            "top        No\n",
            "freq      403\n",
            "Name: Voice mail plan, dtype: object \n",
            "\n",
            "\n",
            "Number vmail messages\n",
            "count    483.000000\n",
            "mean       5.115942\n",
            "std       11.860138\n",
            "min        0.000000\n",
            "25%        0.000000\n",
            "50%        0.000000\n",
            "75%        0.000000\n",
            "max       48.000000\n",
            "Name: Number vmail messages, dtype: float64 \n",
            "\n",
            "\n",
            "Total day minutes\n",
            "count    483.000000\n",
            "mean     206.914079\n",
            "std       68.997792\n",
            "min        0.000000\n",
            "25%      153.250000\n",
            "50%      217.600000\n",
            "75%      265.950000\n",
            "max      350.800000\n",
            "Name: Total day minutes, dtype: float64 \n",
            "\n",
            "\n",
            "Total day calls\n",
            "count    483.000000\n",
            "mean     101.335404\n",
            "std       21.582307\n",
            "min        0.000000\n",
            "25%       87.500000\n",
            "50%      103.000000\n",
            "75%      116.500000\n",
            "max      165.000000\n",
            "Name: Total day calls, dtype: float64 \n",
            "\n",
            "\n",
            "Total day charge\n",
            "count    483.000000\n",
            "mean      35.175921\n",
            "std       11.729710\n",
            "min        0.000000\n",
            "25%       26.055000\n",
            "50%       36.990000\n",
            "75%       45.210000\n",
            "max       59.640000\n",
            "Name: Total day charge, dtype: float64 \n",
            "\n",
            "\n",
            "Total eve minutes\n",
            "count    483.000000\n",
            "mean     212.410145\n",
            "std       51.728910\n",
            "min       70.900000\n",
            "25%      177.100000\n",
            "50%      211.300000\n",
            "75%      249.450000\n",
            "max      363.700000\n",
            "Name: Total eve minutes, dtype: float64 \n",
            "\n",
            "\n",
            "Total eve calls\n",
            "count    483.000000\n",
            "mean     100.561077\n",
            "std       19.724711\n",
            "min       48.000000\n",
            "25%       87.000000\n",
            "50%      101.000000\n",
            "75%      114.000000\n",
            "max      168.000000\n",
            "Name: Total eve calls, dtype: float64 \n",
            "\n",
            "\n",
            "Total eve charge\n",
            "count    483.000000\n",
            "mean      18.054969\n",
            "std        4.396762\n",
            "min        6.030000\n",
            "25%       15.055000\n",
            "50%       17.960000\n",
            "75%       21.205000\n",
            "max       30.910000\n",
            "Name: Total eve charge, dtype: float64 \n",
            "\n",
            "\n",
            "Total night minutes\n",
            "count    483.000000\n",
            "mean     205.231677\n",
            "std       47.132825\n",
            "min       47.400000\n",
            "25%      171.250000\n",
            "50%      204.800000\n",
            "75%      239.850000\n",
            "max      354.900000\n",
            "Name: Total night minutes, dtype: float64 \n",
            "\n",
            "\n",
            "Total night calls\n",
            "count    483.000000\n",
            "mean     100.399586\n",
            "std       19.950659\n",
            "min       49.000000\n",
            "25%       85.000000\n",
            "50%      100.000000\n",
            "75%      115.000000\n",
            "max      158.000000\n",
            "Name: Total night calls, dtype: float64 \n",
            "\n",
            "\n",
            "Total night charge\n",
            "count    483.000000\n",
            "mean       9.235528\n",
            "std        2.121081\n",
            "min        2.130000\n",
            "25%        7.705000\n",
            "50%        9.220000\n",
            "75%       10.795000\n",
            "max       15.970000\n",
            "Name: Total night charge, dtype: float64 \n",
            "\n",
            "\n",
            "Total intl minutes\n",
            "count    483.00000\n",
            "mean      10.70000\n",
            "std        2.79319\n",
            "min        2.00000\n",
            "25%        8.80000\n",
            "50%       10.60000\n",
            "75%       12.80000\n",
            "max       20.00000\n",
            "Name: Total intl minutes, dtype: float64 \n",
            "\n",
            "\n",
            "Total intl calls\n",
            "count    483.000000\n",
            "mean       4.163561\n",
            "std        2.551575\n",
            "min        1.000000\n",
            "25%        2.000000\n",
            "50%        4.000000\n",
            "75%        5.000000\n",
            "max       20.000000\n",
            "Name: Total intl calls, dtype: float64 \n",
            "\n",
            "\n",
            "Total intl charge\n",
            "count    483.000000\n",
            "mean       2.889545\n",
            "std        0.754152\n",
            "min        0.540000\n",
            "25%        2.380000\n",
            "50%        2.860000\n",
            "75%        3.460000\n",
            "max        5.400000\n",
            "Name: Total intl charge, dtype: float64 \n",
            "\n",
            "\n",
            "Customer service calls\n",
            "count    483.000000\n",
            "mean       2.229814\n",
            "std        1.853275\n",
            "min        0.000000\n",
            "25%        1.000000\n",
            "50%        2.000000\n",
            "75%        4.000000\n",
            "max        9.000000\n",
            "Name: Customer service calls, dtype: float64 \n",
            "\n",
            "\n",
            "Churn\n",
            "count      483\n",
            "unique       1\n",
            "top       True\n",
            "freq       483\n",
            "Name: Churn, dtype: object \n",
            "\n",
            "\n",
            "total_charges\n",
            "count    483.000000\n",
            "mean      62.466418\n",
            "std       13.887371\n",
            "min       21.090000\n",
            "25%       50.190000\n",
            "50%       63.960000\n",
            "75%       73.825000\n",
            "max       92.560000\n",
            "Name: total_charges, dtype: float64 \n",
            "\n",
            "\n",
            "total_minutes\n",
            "count    483.000000\n",
            "mean     624.555901\n",
            "std      110.830694\n",
            "min      311.700000\n",
            "25%      535.400000\n",
            "50%      635.800000\n",
            "75%      714.750000\n",
            "max      876.900000\n",
            "Name: total_minutes, dtype: float64 \n",
            "\n",
            "\n"
          ],
          "name": "stdout"
        }
      ]
    },
    {
      "cell_type": "markdown",
      "metadata": {
        "id": "gWkXfsagwKm0"
      },
      "source": [
        "# Creating columns Months on the basis of Account length to classify data"
      ]
    },
    {
      "cell_type": "code",
      "metadata": {
        "id": "Jq-FgSXV6QiA"
      },
      "source": [
        "churn_true = churn_true.assign(Months = lambda x: (x['Account length'] //28))\n",
        "churn_false = churn_false.assign(Months = lambda x: (x['Account length'] //28))"
      ],
      "execution_count": 47,
      "outputs": []
    },
    {
      "cell_type": "code",
      "metadata": {
        "id": "mxUeIbEP7HL_"
      },
      "source": [
        "monthy_analysis_true = churn_true.groupby('Months')['Months'].describe()\n",
        "monthly_analysis_false = churn_false.groupby('Months')['Months'].describe()"
      ],
      "execution_count": 48,
      "outputs": []
    },
    {
      "cell_type": "code",
      "metadata": {
        "colab": {
          "base_uri": "https://localhost:8080/",
          "height": 439
        },
        "id": "PfNKWDoDJi4_",
        "outputId": "037ced9e-66fa-4749-cb3c-a65646265216"
      },
      "source": [
        "churn_true.groupby('Months').describe()"
      ],
      "execution_count": 49,
      "outputs": [
        {
          "output_type": "execute_result",
          "data": {
            "text/html": [
              "<div>\n",
              "<style scoped>\n",
              "    .dataframe tbody tr th:only-of-type {\n",
              "        vertical-align: middle;\n",
              "    }\n",
              "\n",
              "    .dataframe tbody tr th {\n",
              "        vertical-align: top;\n",
              "    }\n",
              "\n",
              "    .dataframe thead tr th {\n",
              "        text-align: left;\n",
              "    }\n",
              "\n",
              "    .dataframe thead tr:last-of-type th {\n",
              "        text-align: right;\n",
              "    }\n",
              "</style>\n",
              "<table border=\"1\" class=\"dataframe\">\n",
              "  <thead>\n",
              "    <tr>\n",
              "      <th></th>\n",
              "      <th colspan=\"8\" halign=\"left\">Account length</th>\n",
              "      <th colspan=\"8\" halign=\"left\">Area code</th>\n",
              "      <th colspan=\"8\" halign=\"left\">Number vmail messages</th>\n",
              "      <th colspan=\"8\" halign=\"left\">Total day minutes</th>\n",
              "      <th colspan=\"8\" halign=\"left\">Total day calls</th>\n",
              "      <th>...</th>\n",
              "      <th colspan=\"8\" halign=\"left\">Total intl calls</th>\n",
              "      <th colspan=\"8\" halign=\"left\">Total intl charge</th>\n",
              "      <th colspan=\"8\" halign=\"left\">Customer service calls</th>\n",
              "      <th colspan=\"8\" halign=\"left\">total_charges</th>\n",
              "      <th colspan=\"8\" halign=\"left\">total_minutes</th>\n",
              "    </tr>\n",
              "    <tr>\n",
              "      <th></th>\n",
              "      <th>count</th>\n",
              "      <th>mean</th>\n",
              "      <th>std</th>\n",
              "      <th>min</th>\n",
              "      <th>25%</th>\n",
              "      <th>50%</th>\n",
              "      <th>75%</th>\n",
              "      <th>max</th>\n",
              "      <th>count</th>\n",
              "      <th>mean</th>\n",
              "      <th>std</th>\n",
              "      <th>min</th>\n",
              "      <th>25%</th>\n",
              "      <th>50%</th>\n",
              "      <th>75%</th>\n",
              "      <th>max</th>\n",
              "      <th>count</th>\n",
              "      <th>mean</th>\n",
              "      <th>std</th>\n",
              "      <th>min</th>\n",
              "      <th>25%</th>\n",
              "      <th>50%</th>\n",
              "      <th>75%</th>\n",
              "      <th>max</th>\n",
              "      <th>count</th>\n",
              "      <th>mean</th>\n",
              "      <th>std</th>\n",
              "      <th>min</th>\n",
              "      <th>25%</th>\n",
              "      <th>50%</th>\n",
              "      <th>75%</th>\n",
              "      <th>max</th>\n",
              "      <th>count</th>\n",
              "      <th>mean</th>\n",
              "      <th>std</th>\n",
              "      <th>min</th>\n",
              "      <th>25%</th>\n",
              "      <th>50%</th>\n",
              "      <th>75%</th>\n",
              "      <th>max</th>\n",
              "      <th>...</th>\n",
              "      <th>count</th>\n",
              "      <th>mean</th>\n",
              "      <th>std</th>\n",
              "      <th>min</th>\n",
              "      <th>25%</th>\n",
              "      <th>50%</th>\n",
              "      <th>75%</th>\n",
              "      <th>max</th>\n",
              "      <th>count</th>\n",
              "      <th>mean</th>\n",
              "      <th>std</th>\n",
              "      <th>min</th>\n",
              "      <th>25%</th>\n",
              "      <th>50%</th>\n",
              "      <th>75%</th>\n",
              "      <th>max</th>\n",
              "      <th>count</th>\n",
              "      <th>mean</th>\n",
              "      <th>std</th>\n",
              "      <th>min</th>\n",
              "      <th>25%</th>\n",
              "      <th>50%</th>\n",
              "      <th>75%</th>\n",
              "      <th>max</th>\n",
              "      <th>count</th>\n",
              "      <th>mean</th>\n",
              "      <th>std</th>\n",
              "      <th>min</th>\n",
              "      <th>25%</th>\n",
              "      <th>50%</th>\n",
              "      <th>75%</th>\n",
              "      <th>max</th>\n",
              "      <th>count</th>\n",
              "      <th>mean</th>\n",
              "      <th>std</th>\n",
              "      <th>min</th>\n",
              "      <th>25%</th>\n",
              "      <th>50%</th>\n",
              "      <th>75%</th>\n",
              "      <th>max</th>\n",
              "    </tr>\n",
              "    <tr>\n",
              "      <th>Months</th>\n",
              "      <th></th>\n",
              "      <th></th>\n",
              "      <th></th>\n",
              "      <th></th>\n",
              "      <th></th>\n",
              "      <th></th>\n",
              "      <th></th>\n",
              "      <th></th>\n",
              "      <th></th>\n",
              "      <th></th>\n",
              "      <th></th>\n",
              "      <th></th>\n",
              "      <th></th>\n",
              "      <th></th>\n",
              "      <th></th>\n",
              "      <th></th>\n",
              "      <th></th>\n",
              "      <th></th>\n",
              "      <th></th>\n",
              "      <th></th>\n",
              "      <th></th>\n",
              "      <th></th>\n",
              "      <th></th>\n",
              "      <th></th>\n",
              "      <th></th>\n",
              "      <th></th>\n",
              "      <th></th>\n",
              "      <th></th>\n",
              "      <th></th>\n",
              "      <th></th>\n",
              "      <th></th>\n",
              "      <th></th>\n",
              "      <th></th>\n",
              "      <th></th>\n",
              "      <th></th>\n",
              "      <th></th>\n",
              "      <th></th>\n",
              "      <th></th>\n",
              "      <th></th>\n",
              "      <th></th>\n",
              "      <th></th>\n",
              "      <th></th>\n",
              "      <th></th>\n",
              "      <th></th>\n",
              "      <th></th>\n",
              "      <th></th>\n",
              "      <th></th>\n",
              "      <th></th>\n",
              "      <th></th>\n",
              "      <th></th>\n",
              "      <th></th>\n",
              "      <th></th>\n",
              "      <th></th>\n",
              "      <th></th>\n",
              "      <th></th>\n",
              "      <th></th>\n",
              "      <th></th>\n",
              "      <th></th>\n",
              "      <th></th>\n",
              "      <th></th>\n",
              "      <th></th>\n",
              "      <th></th>\n",
              "      <th></th>\n",
              "      <th></th>\n",
              "      <th></th>\n",
              "      <th></th>\n",
              "      <th></th>\n",
              "      <th></th>\n",
              "      <th></th>\n",
              "      <th></th>\n",
              "      <th></th>\n",
              "      <th></th>\n",
              "      <th></th>\n",
              "      <th></th>\n",
              "      <th></th>\n",
              "      <th></th>\n",
              "      <th></th>\n",
              "      <th></th>\n",
              "      <th></th>\n",
              "      <th></th>\n",
              "      <th></th>\n",
              "    </tr>\n",
              "  </thead>\n",
              "  <tbody>\n",
              "    <tr>\n",
              "      <th>0</th>\n",
              "      <td>16.0</td>\n",
              "      <td>18.000000</td>\n",
              "      <td>7.788881</td>\n",
              "      <td>1.0</td>\n",
              "      <td>15.25</td>\n",
              "      <td>20.0</td>\n",
              "      <td>24.00</td>\n",
              "      <td>27.0</td>\n",
              "      <td>16.0</td>\n",
              "      <td>454.812500</td>\n",
              "      <td>50.339141</td>\n",
              "      <td>408.0</td>\n",
              "      <td>413.25</td>\n",
              "      <td>415.0</td>\n",
              "      <td>510.00</td>\n",
              "      <td>510.0</td>\n",
              "      <td>16.0</td>\n",
              "      <td>1.937500</td>\n",
              "      <td>7.750000</td>\n",
              "      <td>0.0</td>\n",
              "      <td>0.0</td>\n",
              "      <td>0.0</td>\n",
              "      <td>0.0</td>\n",
              "      <td>31.0</td>\n",
              "      <td>16.0</td>\n",
              "      <td>209.250000</td>\n",
              "      <td>69.373472</td>\n",
              "      <td>92.6</td>\n",
              "      <td>152.075</td>\n",
              "      <td>227.95</td>\n",
              "      <td>260.775</td>\n",
              "      <td>321.6</td>\n",
              "      <td>16.0</td>\n",
              "      <td>95.437500</td>\n",
              "      <td>23.021638</td>\n",
              "      <td>42.0</td>\n",
              "      <td>79.50</td>\n",
              "      <td>95.0</td>\n",
              "      <td>115.25</td>\n",
              "      <td>133.0</td>\n",
              "      <td>...</td>\n",
              "      <td>16.0</td>\n",
              "      <td>3.062500</td>\n",
              "      <td>1.388944</td>\n",
              "      <td>1.0</td>\n",
              "      <td>2.75</td>\n",
              "      <td>3.0</td>\n",
              "      <td>3.00</td>\n",
              "      <td>6.0</td>\n",
              "      <td>16.0</td>\n",
              "      <td>2.825625</td>\n",
              "      <td>0.570052</td>\n",
              "      <td>1.86</td>\n",
              "      <td>2.4250</td>\n",
              "      <td>2.810</td>\n",
              "      <td>3.065</td>\n",
              "      <td>4.13</td>\n",
              "      <td>16.0</td>\n",
              "      <td>1.875000</td>\n",
              "      <td>1.892969</td>\n",
              "      <td>0.0</td>\n",
              "      <td>0.75</td>\n",
              "      <td>1.5</td>\n",
              "      <td>2.00</td>\n",
              "      <td>6.0</td>\n",
              "      <td>16.0</td>\n",
              "      <td>62.548750</td>\n",
              "      <td>13.950051</td>\n",
              "      <td>42.33</td>\n",
              "      <td>48.7625</td>\n",
              "      <td>64.610</td>\n",
              "      <td>75.2500</td>\n",
              "      <td>82.41</td>\n",
              "      <td>16.0</td>\n",
              "      <td>628.218750</td>\n",
              "      <td>102.368043</td>\n",
              "      <td>463.6</td>\n",
              "      <td>543.475</td>\n",
              "      <td>634.05</td>\n",
              "      <td>712.725</td>\n",
              "      <td>782.2</td>\n",
              "    </tr>\n",
              "    <tr>\n",
              "      <th>1</th>\n",
              "      <td>41.0</td>\n",
              "      <td>45.073171</td>\n",
              "      <td>7.626894</td>\n",
              "      <td>28.0</td>\n",
              "      <td>40.00</td>\n",
              "      <td>46.0</td>\n",
              "      <td>52.00</td>\n",
              "      <td>55.0</td>\n",
              "      <td>41.0</td>\n",
              "      <td>448.390244</td>\n",
              "      <td>47.448856</td>\n",
              "      <td>408.0</td>\n",
              "      <td>415.00</td>\n",
              "      <td>415.0</td>\n",
              "      <td>510.00</td>\n",
              "      <td>510.0</td>\n",
              "      <td>41.0</td>\n",
              "      <td>4.121951</td>\n",
              "      <td>11.595678</td>\n",
              "      <td>0.0</td>\n",
              "      <td>0.0</td>\n",
              "      <td>0.0</td>\n",
              "      <td>0.0</td>\n",
              "      <td>45.0</td>\n",
              "      <td>41.0</td>\n",
              "      <td>210.639024</td>\n",
              "      <td>71.176576</td>\n",
              "      <td>47.8</td>\n",
              "      <td>155.000</td>\n",
              "      <td>228.60</td>\n",
              "      <td>266.300</td>\n",
              "      <td>313.2</td>\n",
              "      <td>41.0</td>\n",
              "      <td>102.829268</td>\n",
              "      <td>20.737529</td>\n",
              "      <td>48.0</td>\n",
              "      <td>89.00</td>\n",
              "      <td>108.0</td>\n",
              "      <td>119.00</td>\n",
              "      <td>139.0</td>\n",
              "      <td>...</td>\n",
              "      <td>41.0</td>\n",
              "      <td>4.048780</td>\n",
              "      <td>2.376460</td>\n",
              "      <td>1.0</td>\n",
              "      <td>2.00</td>\n",
              "      <td>4.0</td>\n",
              "      <td>5.00</td>\n",
              "      <td>11.0</td>\n",
              "      <td>41.0</td>\n",
              "      <td>2.985122</td>\n",
              "      <td>0.792929</td>\n",
              "      <td>1.51</td>\n",
              "      <td>2.5700</td>\n",
              "      <td>2.840</td>\n",
              "      <td>3.590</td>\n",
              "      <td>5.40</td>\n",
              "      <td>41.0</td>\n",
              "      <td>2.292683</td>\n",
              "      <td>2.040146</td>\n",
              "      <td>0.0</td>\n",
              "      <td>1.00</td>\n",
              "      <td>2.0</td>\n",
              "      <td>4.00</td>\n",
              "      <td>9.0</td>\n",
              "      <td>41.0</td>\n",
              "      <td>63.271220</td>\n",
              "      <td>14.112282</td>\n",
              "      <td>30.21</td>\n",
              "      <td>52.2600</td>\n",
              "      <td>65.740</td>\n",
              "      <td>75.1500</td>\n",
              "      <td>81.46</td>\n",
              "      <td>41.0</td>\n",
              "      <td>627.763415</td>\n",
              "      <td>105.694763</td>\n",
              "      <td>379.3</td>\n",
              "      <td>554.500</td>\n",
              "      <td>651.70</td>\n",
              "      <td>717.200</td>\n",
              "      <td>785.7</td>\n",
              "    </tr>\n",
              "    <tr>\n",
              "      <th>2</th>\n",
              "      <td>95.0</td>\n",
              "      <td>70.936842</td>\n",
              "      <td>7.577698</td>\n",
              "      <td>56.0</td>\n",
              "      <td>64.00</td>\n",
              "      <td>72.0</td>\n",
              "      <td>77.00</td>\n",
              "      <td>83.0</td>\n",
              "      <td>95.0</td>\n",
              "      <td>437.526316</td>\n",
              "      <td>42.448177</td>\n",
              "      <td>408.0</td>\n",
              "      <td>415.00</td>\n",
              "      <td>415.0</td>\n",
              "      <td>462.50</td>\n",
              "      <td>510.0</td>\n",
              "      <td>95.0</td>\n",
              "      <td>5.042105</td>\n",
              "      <td>11.868890</td>\n",
              "      <td>0.0</td>\n",
              "      <td>0.0</td>\n",
              "      <td>0.0</td>\n",
              "      <td>0.0</td>\n",
              "      <td>44.0</td>\n",
              "      <td>95.0</td>\n",
              "      <td>218.371579</td>\n",
              "      <td>69.718340</td>\n",
              "      <td>62.4</td>\n",
              "      <td>162.200</td>\n",
              "      <td>232.80</td>\n",
              "      <td>272.700</td>\n",
              "      <td>346.8</td>\n",
              "      <td>95.0</td>\n",
              "      <td>101.726316</td>\n",
              "      <td>22.645014</td>\n",
              "      <td>48.0</td>\n",
              "      <td>86.00</td>\n",
              "      <td>103.0</td>\n",
              "      <td>116.00</td>\n",
              "      <td>148.0</td>\n",
              "      <td>...</td>\n",
              "      <td>95.0</td>\n",
              "      <td>4.726316</td>\n",
              "      <td>2.615185</td>\n",
              "      <td>1.0</td>\n",
              "      <td>3.00</td>\n",
              "      <td>4.0</td>\n",
              "      <td>6.00</td>\n",
              "      <td>14.0</td>\n",
              "      <td>95.0</td>\n",
              "      <td>2.945895</td>\n",
              "      <td>0.830466</td>\n",
              "      <td>1.13</td>\n",
              "      <td>2.3750</td>\n",
              "      <td>2.970</td>\n",
              "      <td>3.560</td>\n",
              "      <td>4.83</td>\n",
              "      <td>95.0</td>\n",
              "      <td>1.936842</td>\n",
              "      <td>1.718550</td>\n",
              "      <td>0.0</td>\n",
              "      <td>0.50</td>\n",
              "      <td>1.0</td>\n",
              "      <td>3.50</td>\n",
              "      <td>6.0</td>\n",
              "      <td>95.0</td>\n",
              "      <td>65.273895</td>\n",
              "      <td>13.420661</td>\n",
              "      <td>34.48</td>\n",
              "      <td>52.8250</td>\n",
              "      <td>69.020</td>\n",
              "      <td>75.1550</td>\n",
              "      <td>92.56</td>\n",
              "      <td>95.0</td>\n",
              "      <td>650.605263</td>\n",
              "      <td>102.915819</td>\n",
              "      <td>422.4</td>\n",
              "      <td>566.650</td>\n",
              "      <td>675.80</td>\n",
              "      <td>730.850</td>\n",
              "      <td>871.7</td>\n",
              "    </tr>\n",
              "    <tr>\n",
              "      <th>3</th>\n",
              "      <td>134.0</td>\n",
              "      <td>98.201493</td>\n",
              "      <td>7.694134</td>\n",
              "      <td>84.0</td>\n",
              "      <td>92.00</td>\n",
              "      <td>98.0</td>\n",
              "      <td>105.00</td>\n",
              "      <td>111.0</td>\n",
              "      <td>134.0</td>\n",
              "      <td>436.014925</td>\n",
              "      <td>41.692571</td>\n",
              "      <td>408.0</td>\n",
              "      <td>415.00</td>\n",
              "      <td>415.0</td>\n",
              "      <td>415.00</td>\n",
              "      <td>510.0</td>\n",
              "      <td>134.0</td>\n",
              "      <td>6.007463</td>\n",
              "      <td>12.674346</td>\n",
              "      <td>0.0</td>\n",
              "      <td>0.0</td>\n",
              "      <td>0.0</td>\n",
              "      <td>0.0</td>\n",
              "      <td>42.0</td>\n",
              "      <td>134.0</td>\n",
              "      <td>195.018657</td>\n",
              "      <td>70.448090</td>\n",
              "      <td>0.0</td>\n",
              "      <td>133.825</td>\n",
              "      <td>197.10</td>\n",
              "      <td>264.650</td>\n",
              "      <td>328.1</td>\n",
              "      <td>134.0</td>\n",
              "      <td>100.111940</td>\n",
              "      <td>22.381404</td>\n",
              "      <td>0.0</td>\n",
              "      <td>87.25</td>\n",
              "      <td>101.0</td>\n",
              "      <td>114.00</td>\n",
              "      <td>165.0</td>\n",
              "      <td>...</td>\n",
              "      <td>134.0</td>\n",
              "      <td>3.932836</td>\n",
              "      <td>2.480595</td>\n",
              "      <td>1.0</td>\n",
              "      <td>2.00</td>\n",
              "      <td>3.0</td>\n",
              "      <td>5.00</td>\n",
              "      <td>15.0</td>\n",
              "      <td>134.0</td>\n",
              "      <td>2.808582</td>\n",
              "      <td>0.734426</td>\n",
              "      <td>0.54</td>\n",
              "      <td>2.3575</td>\n",
              "      <td>2.825</td>\n",
              "      <td>3.285</td>\n",
              "      <td>4.73</td>\n",
              "      <td>134.0</td>\n",
              "      <td>2.492537</td>\n",
              "      <td>1.995281</td>\n",
              "      <td>0.0</td>\n",
              "      <td>1.00</td>\n",
              "      <td>2.0</td>\n",
              "      <td>4.00</td>\n",
              "      <td>8.0</td>\n",
              "      <td>134.0</td>\n",
              "      <td>60.453433</td>\n",
              "      <td>13.921940</td>\n",
              "      <td>21.09</td>\n",
              "      <td>48.6325</td>\n",
              "      <td>60.160</td>\n",
              "      <td>73.2875</td>\n",
              "      <td>87.88</td>\n",
              "      <td>134.0</td>\n",
              "      <td>615.318657</td>\n",
              "      <td>113.719528</td>\n",
              "      <td>326.7</td>\n",
              "      <td>509.900</td>\n",
              "      <td>608.25</td>\n",
              "      <td>709.100</td>\n",
              "      <td>876.9</td>\n",
              "    </tr>\n",
              "    <tr>\n",
              "      <th>4</th>\n",
              "      <td>121.0</td>\n",
              "      <td>124.272727</td>\n",
              "      <td>7.987490</td>\n",
              "      <td>112.0</td>\n",
              "      <td>118.00</td>\n",
              "      <td>124.0</td>\n",
              "      <td>131.00</td>\n",
              "      <td>139.0</td>\n",
              "      <td>121.0</td>\n",
              "      <td>438.595041</td>\n",
              "      <td>44.009578</td>\n",
              "      <td>408.0</td>\n",
              "      <td>408.00</td>\n",
              "      <td>415.0</td>\n",
              "      <td>510.00</td>\n",
              "      <td>510.0</td>\n",
              "      <td>121.0</td>\n",
              "      <td>5.132231</td>\n",
              "      <td>11.369508</td>\n",
              "      <td>0.0</td>\n",
              "      <td>0.0</td>\n",
              "      <td>0.0</td>\n",
              "      <td>0.0</td>\n",
              "      <td>44.0</td>\n",
              "      <td>121.0</td>\n",
              "      <td>207.148760</td>\n",
              "      <td>65.885129</td>\n",
              "      <td>46.5</td>\n",
              "      <td>157.100</td>\n",
              "      <td>212.80</td>\n",
              "      <td>258.000</td>\n",
              "      <td>345.3</td>\n",
              "      <td>121.0</td>\n",
              "      <td>103.115702</td>\n",
              "      <td>19.530826</td>\n",
              "      <td>47.0</td>\n",
              "      <td>91.00</td>\n",
              "      <td>103.0</td>\n",
              "      <td>118.00</td>\n",
              "      <td>151.0</td>\n",
              "      <td>...</td>\n",
              "      <td>121.0</td>\n",
              "      <td>4.148760</td>\n",
              "      <td>2.776872</td>\n",
              "      <td>1.0</td>\n",
              "      <td>2.00</td>\n",
              "      <td>4.0</td>\n",
              "      <td>5.00</td>\n",
              "      <td>20.0</td>\n",
              "      <td>121.0</td>\n",
              "      <td>2.986529</td>\n",
              "      <td>0.725610</td>\n",
              "      <td>1.43</td>\n",
              "      <td>2.4300</td>\n",
              "      <td>2.940</td>\n",
              "      <td>3.620</td>\n",
              "      <td>4.94</td>\n",
              "      <td>121.0</td>\n",
              "      <td>2.280992</td>\n",
              "      <td>1.757001</td>\n",
              "      <td>0.0</td>\n",
              "      <td>1.00</td>\n",
              "      <td>2.0</td>\n",
              "      <td>4.00</td>\n",
              "      <td>7.0</td>\n",
              "      <td>121.0</td>\n",
              "      <td>62.128264</td>\n",
              "      <td>13.752430</td>\n",
              "      <td>27.13</td>\n",
              "      <td>51.1200</td>\n",
              "      <td>64.210</td>\n",
              "      <td>72.9800</td>\n",
              "      <td>87.03</td>\n",
              "      <td>121.0</td>\n",
              "      <td>616.180992</td>\n",
              "      <td>111.032772</td>\n",
              "      <td>333.7</td>\n",
              "      <td>529.900</td>\n",
              "      <td>619.60</td>\n",
              "      <td>709.500</td>\n",
              "      <td>817.9</td>\n",
              "    </tr>\n",
              "    <tr>\n",
              "      <th>5</th>\n",
              "      <td>49.0</td>\n",
              "      <td>153.061224</td>\n",
              "      <td>7.550961</td>\n",
              "      <td>140.0</td>\n",
              "      <td>147.00</td>\n",
              "      <td>152.0</td>\n",
              "      <td>161.00</td>\n",
              "      <td>167.0</td>\n",
              "      <td>49.0</td>\n",
              "      <td>430.877551</td>\n",
              "      <td>38.027201</td>\n",
              "      <td>408.0</td>\n",
              "      <td>415.00</td>\n",
              "      <td>415.0</td>\n",
              "      <td>415.00</td>\n",
              "      <td>510.0</td>\n",
              "      <td>49.0</td>\n",
              "      <td>5.408163</td>\n",
              "      <td>12.817498</td>\n",
              "      <td>0.0</td>\n",
              "      <td>0.0</td>\n",
              "      <td>0.0</td>\n",
              "      <td>0.0</td>\n",
              "      <td>48.0</td>\n",
              "      <td>49.0</td>\n",
              "      <td>202.222449</td>\n",
              "      <td>71.113959</td>\n",
              "      <td>47.7</td>\n",
              "      <td>154.500</td>\n",
              "      <td>194.20</td>\n",
              "      <td>245.800</td>\n",
              "      <td>350.8</td>\n",
              "      <td>49.0</td>\n",
              "      <td>98.816327</td>\n",
              "      <td>21.671480</td>\n",
              "      <td>53.0</td>\n",
              "      <td>84.00</td>\n",
              "      <td>100.0</td>\n",
              "      <td>112.00</td>\n",
              "      <td>144.0</td>\n",
              "      <td>...</td>\n",
              "      <td>49.0</td>\n",
              "      <td>4.244898</td>\n",
              "      <td>2.642053</td>\n",
              "      <td>1.0</td>\n",
              "      <td>2.00</td>\n",
              "      <td>4.0</td>\n",
              "      <td>5.00</td>\n",
              "      <td>13.0</td>\n",
              "      <td>49.0</td>\n",
              "      <td>2.652857</td>\n",
              "      <td>0.755629</td>\n",
              "      <td>1.05</td>\n",
              "      <td>2.1300</td>\n",
              "      <td>2.700</td>\n",
              "      <td>3.240</td>\n",
              "      <td>4.35</td>\n",
              "      <td>49.0</td>\n",
              "      <td>2.204082</td>\n",
              "      <td>1.989342</td>\n",
              "      <td>0.0</td>\n",
              "      <td>1.00</td>\n",
              "      <td>2.0</td>\n",
              "      <td>4.00</td>\n",
              "      <td>9.0</td>\n",
              "      <td>49.0</td>\n",
              "      <td>61.097143</td>\n",
              "      <td>15.306851</td>\n",
              "      <td>24.81</td>\n",
              "      <td>50.6200</td>\n",
              "      <td>58.890</td>\n",
              "      <td>73.0800</td>\n",
              "      <td>90.83</td>\n",
              "      <td>49.0</td>\n",
              "      <td>608.791837</td>\n",
              "      <td>128.708545</td>\n",
              "      <td>311.7</td>\n",
              "      <td>527.400</td>\n",
              "      <td>593.40</td>\n",
              "      <td>722.000</td>\n",
              "      <td>821.2</td>\n",
              "    </tr>\n",
              "    <tr>\n",
              "      <th>6</th>\n",
              "      <td>20.0</td>\n",
              "      <td>177.000000</td>\n",
              "      <td>6.727790</td>\n",
              "      <td>168.0</td>\n",
              "      <td>171.75</td>\n",
              "      <td>177.0</td>\n",
              "      <td>181.25</td>\n",
              "      <td>193.0</td>\n",
              "      <td>20.0</td>\n",
              "      <td>422.050000</td>\n",
              "      <td>30.261101</td>\n",
              "      <td>408.0</td>\n",
              "      <td>408.00</td>\n",
              "      <td>415.0</td>\n",
              "      <td>415.00</td>\n",
              "      <td>510.0</td>\n",
              "      <td>20.0</td>\n",
              "      <td>5.050000</td>\n",
              "      <td>12.605241</td>\n",
              "      <td>0.0</td>\n",
              "      <td>0.0</td>\n",
              "      <td>0.0</td>\n",
              "      <td>0.0</td>\n",
              "      <td>42.0</td>\n",
              "      <td>20.0</td>\n",
              "      <td>230.295000</td>\n",
              "      <td>60.014046</td>\n",
              "      <td>96.8</td>\n",
              "      <td>191.050</td>\n",
              "      <td>257.40</td>\n",
              "      <td>279.200</td>\n",
              "      <td>291.8</td>\n",
              "      <td>20.0</td>\n",
              "      <td>104.550000</td>\n",
              "      <td>24.650131</td>\n",
              "      <td>44.0</td>\n",
              "      <td>91.00</td>\n",
              "      <td>106.5</td>\n",
              "      <td>120.00</td>\n",
              "      <td>143.0</td>\n",
              "      <td>...</td>\n",
              "      <td>20.0</td>\n",
              "      <td>4.050000</td>\n",
              "      <td>2.211810</td>\n",
              "      <td>2.0</td>\n",
              "      <td>2.75</td>\n",
              "      <td>4.0</td>\n",
              "      <td>5.00</td>\n",
              "      <td>11.0</td>\n",
              "      <td>20.0</td>\n",
              "      <td>3.073500</td>\n",
              "      <td>0.599704</td>\n",
              "      <td>1.81</td>\n",
              "      <td>2.6500</td>\n",
              "      <td>2.995</td>\n",
              "      <td>3.730</td>\n",
              "      <td>3.92</td>\n",
              "      <td>20.0</td>\n",
              "      <td>1.850000</td>\n",
              "      <td>1.225819</td>\n",
              "      <td>0.0</td>\n",
              "      <td>1.00</td>\n",
              "      <td>2.0</td>\n",
              "      <td>3.00</td>\n",
              "      <td>4.0</td>\n",
              "      <td>20.0</td>\n",
              "      <td>65.137500</td>\n",
              "      <td>12.399804</td>\n",
              "      <td>38.03</td>\n",
              "      <td>55.1050</td>\n",
              "      <td>71.260</td>\n",
              "      <td>73.5600</td>\n",
              "      <td>85.29</td>\n",
              "      <td>20.0</td>\n",
              "      <td>631.450000</td>\n",
              "      <td>94.720206</td>\n",
              "      <td>449.5</td>\n",
              "      <td>559.850</td>\n",
              "      <td>646.70</td>\n",
              "      <td>699.475</td>\n",
              "      <td>841.3</td>\n",
              "    </tr>\n",
              "    <tr>\n",
              "      <th>7</th>\n",
              "      <td>5.0</td>\n",
              "      <td>205.400000</td>\n",
              "      <td>6.188699</td>\n",
              "      <td>197.0</td>\n",
              "      <td>201.00</td>\n",
              "      <td>208.0</td>\n",
              "      <td>209.00</td>\n",
              "      <td>212.0</td>\n",
              "      <td>5.0</td>\n",
              "      <td>453.000000</td>\n",
              "      <td>52.033643</td>\n",
              "      <td>415.0</td>\n",
              "      <td>415.00</td>\n",
              "      <td>415.0</td>\n",
              "      <td>510.00</td>\n",
              "      <td>510.0</td>\n",
              "      <td>5.0</td>\n",
              "      <td>0.000000</td>\n",
              "      <td>0.000000</td>\n",
              "      <td>0.0</td>\n",
              "      <td>0.0</td>\n",
              "      <td>0.0</td>\n",
              "      <td>0.0</td>\n",
              "      <td>0.0</td>\n",
              "      <td>5.0</td>\n",
              "      <td>232.160000</td>\n",
              "      <td>71.587415</td>\n",
              "      <td>127.3</td>\n",
              "      <td>225.900</td>\n",
              "      <td>226.00</td>\n",
              "      <td>255.100</td>\n",
              "      <td>326.5</td>\n",
              "      <td>5.0</td>\n",
              "      <td>101.600000</td>\n",
              "      <td>26.838405</td>\n",
              "      <td>67.0</td>\n",
              "      <td>80.00</td>\n",
              "      <td>110.0</td>\n",
              "      <td>124.00</td>\n",
              "      <td>127.0</td>\n",
              "      <td>...</td>\n",
              "      <td>5.0</td>\n",
              "      <td>4.800000</td>\n",
              "      <td>0.836660</td>\n",
              "      <td>4.0</td>\n",
              "      <td>4.00</td>\n",
              "      <td>5.0</td>\n",
              "      <td>5.00</td>\n",
              "      <td>6.0</td>\n",
              "      <td>5.0</td>\n",
              "      <td>3.062000</td>\n",
              "      <td>0.532278</td>\n",
              "      <td>2.30</td>\n",
              "      <td>2.8900</td>\n",
              "      <td>3.020</td>\n",
              "      <td>3.400</td>\n",
              "      <td>3.70</td>\n",
              "      <td>5.0</td>\n",
              "      <td>2.600000</td>\n",
              "      <td>1.516575</td>\n",
              "      <td>1.0</td>\n",
              "      <td>2.00</td>\n",
              "      <td>2.0</td>\n",
              "      <td>3.00</td>\n",
              "      <td>5.0</td>\n",
              "      <td>5.0</td>\n",
              "      <td>69.484000</td>\n",
              "      <td>12.061975</td>\n",
              "      <td>48.37</td>\n",
              "      <td>72.4600</td>\n",
              "      <td>72.780</td>\n",
              "      <td>75.1300</td>\n",
              "      <td>78.68</td>\n",
              "      <td>5.0</td>\n",
              "      <td>679.960000</td>\n",
              "      <td>94.020094</td>\n",
              "      <td>523.5</td>\n",
              "      <td>684.500</td>\n",
              "      <td>703.70</td>\n",
              "      <td>711.800</td>\n",
              "      <td>776.3</td>\n",
              "    </tr>\n",
              "    <tr>\n",
              "      <th>8</th>\n",
              "      <td>2.0</td>\n",
              "      <td>224.500000</td>\n",
              "      <td>0.707107</td>\n",
              "      <td>224.0</td>\n",
              "      <td>224.25</td>\n",
              "      <td>224.5</td>\n",
              "      <td>224.75</td>\n",
              "      <td>225.0</td>\n",
              "      <td>2.0</td>\n",
              "      <td>462.500000</td>\n",
              "      <td>67.175144</td>\n",
              "      <td>415.0</td>\n",
              "      <td>438.75</td>\n",
              "      <td>462.5</td>\n",
              "      <td>486.25</td>\n",
              "      <td>510.0</td>\n",
              "      <td>2.0</td>\n",
              "      <td>0.000000</td>\n",
              "      <td>0.000000</td>\n",
              "      <td>0.0</td>\n",
              "      <td>0.0</td>\n",
              "      <td>0.0</td>\n",
              "      <td>0.0</td>\n",
              "      <td>0.0</td>\n",
              "      <td>2.0</td>\n",
              "      <td>168.450000</td>\n",
              "      <td>4.313351</td>\n",
              "      <td>165.4</td>\n",
              "      <td>166.925</td>\n",
              "      <td>168.45</td>\n",
              "      <td>169.975</td>\n",
              "      <td>171.5</td>\n",
              "      <td>2.0</td>\n",
              "      <td>102.500000</td>\n",
              "      <td>4.949747</td>\n",
              "      <td>99.0</td>\n",
              "      <td>100.75</td>\n",
              "      <td>102.5</td>\n",
              "      <td>104.25</td>\n",
              "      <td>106.0</td>\n",
              "      <td>...</td>\n",
              "      <td>2.0</td>\n",
              "      <td>2.500000</td>\n",
              "      <td>0.707107</td>\n",
              "      <td>2.0</td>\n",
              "      <td>2.25</td>\n",
              "      <td>2.5</td>\n",
              "      <td>2.75</td>\n",
              "      <td>3.0</td>\n",
              "      <td>2.0</td>\n",
              "      <td>1.850000</td>\n",
              "      <td>0.707107</td>\n",
              "      <td>1.35</td>\n",
              "      <td>1.6000</td>\n",
              "      <td>1.850</td>\n",
              "      <td>2.100</td>\n",
              "      <td>2.35</td>\n",
              "      <td>2.0</td>\n",
              "      <td>0.500000</td>\n",
              "      <td>0.707107</td>\n",
              "      <td>0.0</td>\n",
              "      <td>0.25</td>\n",
              "      <td>0.5</td>\n",
              "      <td>0.75</td>\n",
              "      <td>1.0</td>\n",
              "      <td>2.0</td>\n",
              "      <td>56.575000</td>\n",
              "      <td>6.017479</td>\n",
              "      <td>52.32</td>\n",
              "      <td>54.4475</td>\n",
              "      <td>56.575</td>\n",
              "      <td>58.7025</td>\n",
              "      <td>60.83</td>\n",
              "      <td>2.0</td>\n",
              "      <td>596.500000</td>\n",
              "      <td>74.387633</td>\n",
              "      <td>543.9</td>\n",
              "      <td>570.200</td>\n",
              "      <td>596.50</td>\n",
              "      <td>622.800</td>\n",
              "      <td>649.1</td>\n",
              "    </tr>\n",
              "  </tbody>\n",
              "</table>\n",
              "<p>9 rows × 144 columns</p>\n",
              "</div>"
            ],
            "text/plain": [
              "       Account length                        ... total_minutes                \n",
              "                count        mean       std  ...           50%      75%    max\n",
              "Months                                       ...                              \n",
              "0                16.0   18.000000  7.788881  ...        634.05  712.725  782.2\n",
              "1                41.0   45.073171  7.626894  ...        651.70  717.200  785.7\n",
              "2                95.0   70.936842  7.577698  ...        675.80  730.850  871.7\n",
              "3               134.0   98.201493  7.694134  ...        608.25  709.100  876.9\n",
              "4               121.0  124.272727  7.987490  ...        619.60  709.500  817.9\n",
              "5                49.0  153.061224  7.550961  ...        593.40  722.000  821.2\n",
              "6                20.0  177.000000  6.727790  ...        646.70  699.475  841.3\n",
              "7                 5.0  205.400000  6.188699  ...        703.70  711.800  776.3\n",
              "8                 2.0  224.500000  0.707107  ...        596.50  622.800  649.1\n",
              "\n",
              "[9 rows x 144 columns]"
            ]
          },
          "metadata": {
            "tags": []
          },
          "execution_count": 49
        }
      ]
    },
    {
      "cell_type": "code",
      "metadata": {
        "colab": {
          "base_uri": "https://localhost:8080/",
          "height": 359
        },
        "id": "ydpLX9fS--gu",
        "outputId": "f87b52c7-5afa-4b1c-a125-65638c3571cc"
      },
      "source": [
        "monthy_analysis_true"
      ],
      "execution_count": 50,
      "outputs": [
        {
          "output_type": "execute_result",
          "data": {
            "text/html": [
              "<div>\n",
              "<style scoped>\n",
              "    .dataframe tbody tr th:only-of-type {\n",
              "        vertical-align: middle;\n",
              "    }\n",
              "\n",
              "    .dataframe tbody tr th {\n",
              "        vertical-align: top;\n",
              "    }\n",
              "\n",
              "    .dataframe thead th {\n",
              "        text-align: right;\n",
              "    }\n",
              "</style>\n",
              "<table border=\"1\" class=\"dataframe\">\n",
              "  <thead>\n",
              "    <tr style=\"text-align: right;\">\n",
              "      <th></th>\n",
              "      <th>count</th>\n",
              "      <th>mean</th>\n",
              "      <th>std</th>\n",
              "      <th>min</th>\n",
              "      <th>25%</th>\n",
              "      <th>50%</th>\n",
              "      <th>75%</th>\n",
              "      <th>max</th>\n",
              "    </tr>\n",
              "    <tr>\n",
              "      <th>Months</th>\n",
              "      <th></th>\n",
              "      <th></th>\n",
              "      <th></th>\n",
              "      <th></th>\n",
              "      <th></th>\n",
              "      <th></th>\n",
              "      <th></th>\n",
              "      <th></th>\n",
              "    </tr>\n",
              "  </thead>\n",
              "  <tbody>\n",
              "    <tr>\n",
              "      <th>0</th>\n",
              "      <td>16.0</td>\n",
              "      <td>0.0</td>\n",
              "      <td>0.0</td>\n",
              "      <td>0.0</td>\n",
              "      <td>0.0</td>\n",
              "      <td>0.0</td>\n",
              "      <td>0.0</td>\n",
              "      <td>0.0</td>\n",
              "    </tr>\n",
              "    <tr>\n",
              "      <th>1</th>\n",
              "      <td>41.0</td>\n",
              "      <td>1.0</td>\n",
              "      <td>0.0</td>\n",
              "      <td>1.0</td>\n",
              "      <td>1.0</td>\n",
              "      <td>1.0</td>\n",
              "      <td>1.0</td>\n",
              "      <td>1.0</td>\n",
              "    </tr>\n",
              "    <tr>\n",
              "      <th>2</th>\n",
              "      <td>95.0</td>\n",
              "      <td>2.0</td>\n",
              "      <td>0.0</td>\n",
              "      <td>2.0</td>\n",
              "      <td>2.0</td>\n",
              "      <td>2.0</td>\n",
              "      <td>2.0</td>\n",
              "      <td>2.0</td>\n",
              "    </tr>\n",
              "    <tr>\n",
              "      <th>3</th>\n",
              "      <td>134.0</td>\n",
              "      <td>3.0</td>\n",
              "      <td>0.0</td>\n",
              "      <td>3.0</td>\n",
              "      <td>3.0</td>\n",
              "      <td>3.0</td>\n",
              "      <td>3.0</td>\n",
              "      <td>3.0</td>\n",
              "    </tr>\n",
              "    <tr>\n",
              "      <th>4</th>\n",
              "      <td>121.0</td>\n",
              "      <td>4.0</td>\n",
              "      <td>0.0</td>\n",
              "      <td>4.0</td>\n",
              "      <td>4.0</td>\n",
              "      <td>4.0</td>\n",
              "      <td>4.0</td>\n",
              "      <td>4.0</td>\n",
              "    </tr>\n",
              "    <tr>\n",
              "      <th>5</th>\n",
              "      <td>49.0</td>\n",
              "      <td>5.0</td>\n",
              "      <td>0.0</td>\n",
              "      <td>5.0</td>\n",
              "      <td>5.0</td>\n",
              "      <td>5.0</td>\n",
              "      <td>5.0</td>\n",
              "      <td>5.0</td>\n",
              "    </tr>\n",
              "    <tr>\n",
              "      <th>6</th>\n",
              "      <td>20.0</td>\n",
              "      <td>6.0</td>\n",
              "      <td>0.0</td>\n",
              "      <td>6.0</td>\n",
              "      <td>6.0</td>\n",
              "      <td>6.0</td>\n",
              "      <td>6.0</td>\n",
              "      <td>6.0</td>\n",
              "    </tr>\n",
              "    <tr>\n",
              "      <th>7</th>\n",
              "      <td>5.0</td>\n",
              "      <td>7.0</td>\n",
              "      <td>0.0</td>\n",
              "      <td>7.0</td>\n",
              "      <td>7.0</td>\n",
              "      <td>7.0</td>\n",
              "      <td>7.0</td>\n",
              "      <td>7.0</td>\n",
              "    </tr>\n",
              "    <tr>\n",
              "      <th>8</th>\n",
              "      <td>2.0</td>\n",
              "      <td>8.0</td>\n",
              "      <td>0.0</td>\n",
              "      <td>8.0</td>\n",
              "      <td>8.0</td>\n",
              "      <td>8.0</td>\n",
              "      <td>8.0</td>\n",
              "      <td>8.0</td>\n",
              "    </tr>\n",
              "  </tbody>\n",
              "</table>\n",
              "</div>"
            ],
            "text/plain": [
              "        count  mean  std  min  25%  50%  75%  max\n",
              "Months                                           \n",
              "0        16.0   0.0  0.0  0.0  0.0  0.0  0.0  0.0\n",
              "1        41.0   1.0  0.0  1.0  1.0  1.0  1.0  1.0\n",
              "2        95.0   2.0  0.0  2.0  2.0  2.0  2.0  2.0\n",
              "3       134.0   3.0  0.0  3.0  3.0  3.0  3.0  3.0\n",
              "4       121.0   4.0  0.0  4.0  4.0  4.0  4.0  4.0\n",
              "5        49.0   5.0  0.0  5.0  5.0  5.0  5.0  5.0\n",
              "6        20.0   6.0  0.0  6.0  6.0  6.0  6.0  6.0\n",
              "7         5.0   7.0  0.0  7.0  7.0  7.0  7.0  7.0\n",
              "8         2.0   8.0  0.0  8.0  8.0  8.0  8.0  8.0"
            ]
          },
          "metadata": {
            "tags": []
          },
          "execution_count": 50
        }
      ]
    },
    {
      "cell_type": "code",
      "metadata": {
        "id": "agp2m51_83F8"
      },
      "source": [
        "monthly_analysis_false.reset_index(inplace = True)"
      ],
      "execution_count": 51,
      "outputs": []
    },
    {
      "cell_type": "markdown",
      "metadata": {
        "id": "PL9GGeN4wZgu"
      },
      "source": [
        "**Checking the percentage of churned customers in different months**"
      ]
    },
    {
      "cell_type": "code",
      "metadata": {
        "colab": {
          "base_uri": "https://localhost:8080/"
        },
        "id": "se46efN88rlu",
        "outputId": "c3bc6753-1195-4a46-c71b-a9d64ba6f743"
      },
      "source": [
        "t_cnt = churn_true['Months'].count()\n",
        "for i in range(len(churn_true['Months'].unique())):\n",
        "  #print(f'For month {i} to {i+1} churned customer percentage is  {monthy_analysis.iloc[i]['count'] / t_cnt * 100}')\n",
        "  print(f\"For month {i} to {i+1} churned customer percentage is {monthy_analysis_true.iloc[i]['count'] / t_cnt * 100}\")\n",
        "  "
      ],
      "execution_count": 52,
      "outputs": [
        {
          "output_type": "stream",
          "text": [
            "For month 0 to 1 churned customer percentage is 3.3126293995859215\n",
            "For month 1 to 2 churned customer percentage is 8.488612836438923\n",
            "For month 2 to 3 churned customer percentage is 19.66873706004141\n",
            "For month 3 to 4 churned customer percentage is 27.74327122153209\n",
            "For month 4 to 5 churned customer percentage is 25.051759834368532\n",
            "For month 5 to 6 churned customer percentage is 10.144927536231885\n",
            "For month 6 to 7 churned customer percentage is 4.140786749482402\n",
            "For month 7 to 8 churned customer percentage is 1.0351966873706004\n",
            "For month 8 to 9 churned customer percentage is 0.4140786749482402\n"
          ],
          "name": "stdout"
        }
      ]
    },
    {
      "cell_type": "code",
      "metadata": {
        "id": "FoBLbRUvAS0U"
      },
      "source": [
        ""
      ],
      "execution_count": 52,
      "outputs": []
    },
    {
      "cell_type": "markdown",
      "metadata": {
        "id": "TYblkX4Fw2ZF"
      },
      "source": [
        "# Categorizing customers on the count of customer calls on the months"
      ]
    },
    {
      "cell_type": "code",
      "metadata": {
        "colab": {
          "base_uri": "https://localhost:8080/",
          "height": 328
        },
        "id": "9iEPIXqLE2uG",
        "outputId": "067b6277-92d3-4abf-eb34-72e7b9f83963"
      },
      "source": [
        "monthy_customer_service = churn_true.groupby('Months')['Customer service calls'].describe()\n",
        "monthy_customer_service.reset_index(inplace=True)\n",
        "total_cust = sum(monthy_customer_service['count'])\n",
        "total_cust_false = sum(monthly_analysis_false['count'])\n",
        "monthy_customer_service = monthy_customer_service.assign(percentage_customers = lambda x: (x['count'] /total_cust * 100))\n",
        "monthy_customer_service"
      ],
      "execution_count": 53,
      "outputs": [
        {
          "output_type": "execute_result",
          "data": {
            "text/html": [
              "<div>\n",
              "<style scoped>\n",
              "    .dataframe tbody tr th:only-of-type {\n",
              "        vertical-align: middle;\n",
              "    }\n",
              "\n",
              "    .dataframe tbody tr th {\n",
              "        vertical-align: top;\n",
              "    }\n",
              "\n",
              "    .dataframe thead th {\n",
              "        text-align: right;\n",
              "    }\n",
              "</style>\n",
              "<table border=\"1\" class=\"dataframe\">\n",
              "  <thead>\n",
              "    <tr style=\"text-align: right;\">\n",
              "      <th></th>\n",
              "      <th>Months</th>\n",
              "      <th>count</th>\n",
              "      <th>mean</th>\n",
              "      <th>std</th>\n",
              "      <th>min</th>\n",
              "      <th>25%</th>\n",
              "      <th>50%</th>\n",
              "      <th>75%</th>\n",
              "      <th>max</th>\n",
              "      <th>percentage_customers</th>\n",
              "    </tr>\n",
              "  </thead>\n",
              "  <tbody>\n",
              "    <tr>\n",
              "      <th>0</th>\n",
              "      <td>0</td>\n",
              "      <td>16.0</td>\n",
              "      <td>1.875000</td>\n",
              "      <td>1.892969</td>\n",
              "      <td>0.0</td>\n",
              "      <td>0.75</td>\n",
              "      <td>1.5</td>\n",
              "      <td>2.00</td>\n",
              "      <td>6.0</td>\n",
              "      <td>3.312629</td>\n",
              "    </tr>\n",
              "    <tr>\n",
              "      <th>1</th>\n",
              "      <td>1</td>\n",
              "      <td>41.0</td>\n",
              "      <td>2.292683</td>\n",
              "      <td>2.040146</td>\n",
              "      <td>0.0</td>\n",
              "      <td>1.00</td>\n",
              "      <td>2.0</td>\n",
              "      <td>4.00</td>\n",
              "      <td>9.0</td>\n",
              "      <td>8.488613</td>\n",
              "    </tr>\n",
              "    <tr>\n",
              "      <th>2</th>\n",
              "      <td>2</td>\n",
              "      <td>95.0</td>\n",
              "      <td>1.936842</td>\n",
              "      <td>1.718550</td>\n",
              "      <td>0.0</td>\n",
              "      <td>0.50</td>\n",
              "      <td>1.0</td>\n",
              "      <td>3.50</td>\n",
              "      <td>6.0</td>\n",
              "      <td>19.668737</td>\n",
              "    </tr>\n",
              "    <tr>\n",
              "      <th>3</th>\n",
              "      <td>3</td>\n",
              "      <td>134.0</td>\n",
              "      <td>2.492537</td>\n",
              "      <td>1.995281</td>\n",
              "      <td>0.0</td>\n",
              "      <td>1.00</td>\n",
              "      <td>2.0</td>\n",
              "      <td>4.00</td>\n",
              "      <td>8.0</td>\n",
              "      <td>27.743271</td>\n",
              "    </tr>\n",
              "    <tr>\n",
              "      <th>4</th>\n",
              "      <td>4</td>\n",
              "      <td>121.0</td>\n",
              "      <td>2.280992</td>\n",
              "      <td>1.757001</td>\n",
              "      <td>0.0</td>\n",
              "      <td>1.00</td>\n",
              "      <td>2.0</td>\n",
              "      <td>4.00</td>\n",
              "      <td>7.0</td>\n",
              "      <td>25.051760</td>\n",
              "    </tr>\n",
              "    <tr>\n",
              "      <th>5</th>\n",
              "      <td>5</td>\n",
              "      <td>49.0</td>\n",
              "      <td>2.204082</td>\n",
              "      <td>1.989342</td>\n",
              "      <td>0.0</td>\n",
              "      <td>1.00</td>\n",
              "      <td>2.0</td>\n",
              "      <td>4.00</td>\n",
              "      <td>9.0</td>\n",
              "      <td>10.144928</td>\n",
              "    </tr>\n",
              "    <tr>\n",
              "      <th>6</th>\n",
              "      <td>6</td>\n",
              "      <td>20.0</td>\n",
              "      <td>1.850000</td>\n",
              "      <td>1.225819</td>\n",
              "      <td>0.0</td>\n",
              "      <td>1.00</td>\n",
              "      <td>2.0</td>\n",
              "      <td>3.00</td>\n",
              "      <td>4.0</td>\n",
              "      <td>4.140787</td>\n",
              "    </tr>\n",
              "    <tr>\n",
              "      <th>7</th>\n",
              "      <td>7</td>\n",
              "      <td>5.0</td>\n",
              "      <td>2.600000</td>\n",
              "      <td>1.516575</td>\n",
              "      <td>1.0</td>\n",
              "      <td>2.00</td>\n",
              "      <td>2.0</td>\n",
              "      <td>3.00</td>\n",
              "      <td>5.0</td>\n",
              "      <td>1.035197</td>\n",
              "    </tr>\n",
              "    <tr>\n",
              "      <th>8</th>\n",
              "      <td>8</td>\n",
              "      <td>2.0</td>\n",
              "      <td>0.500000</td>\n",
              "      <td>0.707107</td>\n",
              "      <td>0.0</td>\n",
              "      <td>0.25</td>\n",
              "      <td>0.5</td>\n",
              "      <td>0.75</td>\n",
              "      <td>1.0</td>\n",
              "      <td>0.414079</td>\n",
              "    </tr>\n",
              "  </tbody>\n",
              "</table>\n",
              "</div>"
            ],
            "text/plain": [
              "   Months  count      mean       std  ...  50%   75%  max  percentage_customers\n",
              "0       0   16.0  1.875000  1.892969  ...  1.5  2.00  6.0              3.312629\n",
              "1       1   41.0  2.292683  2.040146  ...  2.0  4.00  9.0              8.488613\n",
              "2       2   95.0  1.936842  1.718550  ...  1.0  3.50  6.0             19.668737\n",
              "3       3  134.0  2.492537  1.995281  ...  2.0  4.00  8.0             27.743271\n",
              "4       4  121.0  2.280992  1.757001  ...  2.0  4.00  7.0             25.051760\n",
              "5       5   49.0  2.204082  1.989342  ...  2.0  4.00  9.0             10.144928\n",
              "6       6   20.0  1.850000  1.225819  ...  2.0  3.00  4.0              4.140787\n",
              "7       7    5.0  2.600000  1.516575  ...  2.0  3.00  5.0              1.035197\n",
              "8       8    2.0  0.500000  0.707107  ...  0.5  0.75  1.0              0.414079\n",
              "\n",
              "[9 rows x 10 columns]"
            ]
          },
          "metadata": {
            "tags": []
          },
          "execution_count": 53
        }
      ]
    },
    {
      "cell_type": "code",
      "metadata": {
        "id": "fwUZ_jFwEMaF"
      },
      "source": [
        ""
      ],
      "execution_count": 53,
      "outputs": []
    },
    {
      "cell_type": "code",
      "metadata": {
        "colab": {
          "base_uri": "https://localhost:8080/",
          "height": 328
        },
        "id": "I26px1JC9I4X",
        "outputId": "90453d50-def0-494e-bc10-6d232483a709"
      },
      "source": [
        "monthly_analysis_false = monthly_analysis_false.assign(percentage_customers = lambda x: (x['count'] /total_cust_false * 100))\n",
        "monthly_analysis_false"
      ],
      "execution_count": 54,
      "outputs": [
        {
          "output_type": "execute_result",
          "data": {
            "text/html": [
              "<div>\n",
              "<style scoped>\n",
              "    .dataframe tbody tr th:only-of-type {\n",
              "        vertical-align: middle;\n",
              "    }\n",
              "\n",
              "    .dataframe tbody tr th {\n",
              "        vertical-align: top;\n",
              "    }\n",
              "\n",
              "    .dataframe thead th {\n",
              "        text-align: right;\n",
              "    }\n",
              "</style>\n",
              "<table border=\"1\" class=\"dataframe\">\n",
              "  <thead>\n",
              "    <tr style=\"text-align: right;\">\n",
              "      <th></th>\n",
              "      <th>Months</th>\n",
              "      <th>count</th>\n",
              "      <th>mean</th>\n",
              "      <th>std</th>\n",
              "      <th>min</th>\n",
              "      <th>25%</th>\n",
              "      <th>50%</th>\n",
              "      <th>75%</th>\n",
              "      <th>max</th>\n",
              "      <th>percentage_customers</th>\n",
              "    </tr>\n",
              "  </thead>\n",
              "  <tbody>\n",
              "    <tr>\n",
              "      <th>0</th>\n",
              "      <td>0</td>\n",
              "      <td>93.0</td>\n",
              "      <td>0.0</td>\n",
              "      <td>0.0</td>\n",
              "      <td>0.0</td>\n",
              "      <td>0.0</td>\n",
              "      <td>0.0</td>\n",
              "      <td>0.0</td>\n",
              "      <td>0.0</td>\n",
              "      <td>3.263158</td>\n",
              "    </tr>\n",
              "    <tr>\n",
              "      <th>1</th>\n",
              "      <td>1</td>\n",
              "      <td>274.0</td>\n",
              "      <td>1.0</td>\n",
              "      <td>0.0</td>\n",
              "      <td>1.0</td>\n",
              "      <td>1.0</td>\n",
              "      <td>1.0</td>\n",
              "      <td>1.0</td>\n",
              "      <td>1.0</td>\n",
              "      <td>9.614035</td>\n",
              "    </tr>\n",
              "    <tr>\n",
              "      <th>2</th>\n",
              "      <td>2</td>\n",
              "      <td>577.0</td>\n",
              "      <td>2.0</td>\n",
              "      <td>0.0</td>\n",
              "      <td>2.0</td>\n",
              "      <td>2.0</td>\n",
              "      <td>2.0</td>\n",
              "      <td>2.0</td>\n",
              "      <td>2.0</td>\n",
              "      <td>20.245614</td>\n",
              "    </tr>\n",
              "    <tr>\n",
              "      <th>3</th>\n",
              "      <td>3</td>\n",
              "      <td>783.0</td>\n",
              "      <td>3.0</td>\n",
              "      <td>0.0</td>\n",
              "      <td>3.0</td>\n",
              "      <td>3.0</td>\n",
              "      <td>3.0</td>\n",
              "      <td>3.0</td>\n",
              "      <td>3.0</td>\n",
              "      <td>27.473684</td>\n",
              "    </tr>\n",
              "    <tr>\n",
              "      <th>4</th>\n",
              "      <td>4</td>\n",
              "      <td>653.0</td>\n",
              "      <td>4.0</td>\n",
              "      <td>0.0</td>\n",
              "      <td>4.0</td>\n",
              "      <td>4.0</td>\n",
              "      <td>4.0</td>\n",
              "      <td>4.0</td>\n",
              "      <td>4.0</td>\n",
              "      <td>22.912281</td>\n",
              "    </tr>\n",
              "    <tr>\n",
              "      <th>5</th>\n",
              "      <td>5</td>\n",
              "      <td>333.0</td>\n",
              "      <td>5.0</td>\n",
              "      <td>0.0</td>\n",
              "      <td>5.0</td>\n",
              "      <td>5.0</td>\n",
              "      <td>5.0</td>\n",
              "      <td>5.0</td>\n",
              "      <td>5.0</td>\n",
              "      <td>11.684211</td>\n",
              "    </tr>\n",
              "    <tr>\n",
              "      <th>6</th>\n",
              "      <td>6</td>\n",
              "      <td>111.0</td>\n",
              "      <td>6.0</td>\n",
              "      <td>0.0</td>\n",
              "      <td>6.0</td>\n",
              "      <td>6.0</td>\n",
              "      <td>6.0</td>\n",
              "      <td>6.0</td>\n",
              "      <td>6.0</td>\n",
              "      <td>3.894737</td>\n",
              "    </tr>\n",
              "    <tr>\n",
              "      <th>7</th>\n",
              "      <td>7</td>\n",
              "      <td>22.0</td>\n",
              "      <td>7.0</td>\n",
              "      <td>0.0</td>\n",
              "      <td>7.0</td>\n",
              "      <td>7.0</td>\n",
              "      <td>7.0</td>\n",
              "      <td>7.0</td>\n",
              "      <td>7.0</td>\n",
              "      <td>0.771930</td>\n",
              "    </tr>\n",
              "    <tr>\n",
              "      <th>8</th>\n",
              "      <td>8</td>\n",
              "      <td>4.0</td>\n",
              "      <td>8.0</td>\n",
              "      <td>0.0</td>\n",
              "      <td>8.0</td>\n",
              "      <td>8.0</td>\n",
              "      <td>8.0</td>\n",
              "      <td>8.0</td>\n",
              "      <td>8.0</td>\n",
              "      <td>0.140351</td>\n",
              "    </tr>\n",
              "  </tbody>\n",
              "</table>\n",
              "</div>"
            ],
            "text/plain": [
              "   Months  count  mean  std  min  25%  50%  75%  max  percentage_customers\n",
              "0       0   93.0   0.0  0.0  0.0  0.0  0.0  0.0  0.0              3.263158\n",
              "1       1  274.0   1.0  0.0  1.0  1.0  1.0  1.0  1.0              9.614035\n",
              "2       2  577.0   2.0  0.0  2.0  2.0  2.0  2.0  2.0             20.245614\n",
              "3       3  783.0   3.0  0.0  3.0  3.0  3.0  3.0  3.0             27.473684\n",
              "4       4  653.0   4.0  0.0  4.0  4.0  4.0  4.0  4.0             22.912281\n",
              "5       5  333.0   5.0  0.0  5.0  5.0  5.0  5.0  5.0             11.684211\n",
              "6       6  111.0   6.0  0.0  6.0  6.0  6.0  6.0  6.0              3.894737\n",
              "7       7   22.0   7.0  0.0  7.0  7.0  7.0  7.0  7.0              0.771930\n",
              "8       8    4.0   8.0  0.0  8.0  8.0  8.0  8.0  8.0              0.140351"
            ]
          },
          "metadata": {
            "tags": []
          },
          "execution_count": 54
        }
      ]
    },
    {
      "cell_type": "code",
      "metadata": {
        "id": "bn1zOJXkPHlB"
      },
      "source": [
        ""
      ],
      "execution_count": 54,
      "outputs": []
    },
    {
      "cell_type": "markdown",
      "metadata": {
        "id": "66NAdf0NxmBC"
      },
      "source": [
        "# Plotting between customer service calls and percentage of churned customers"
      ]
    },
    {
      "cell_type": "code",
      "metadata": {
        "colab": {
          "base_uri": "https://localhost:8080/",
          "height": 404
        },
        "id": "3Ro2X684FZ2B",
        "outputId": "d0ffc993-8b88-44d8-d187-ceb87f38dd9b"
      },
      "source": [
        "plt.rcParams['figure.figsize'] = (10, 6)\n",
        "plt.bar(monthy_customer_service['Months'] , monthy_customer_service['percentage_customers'])\n",
        "plt.xlabel(\"Number of months\")\n",
        "plt.ylabel(\"count of service calls\")\n",
        "plt.title(\"Different services calls per month\")\n",
        "plt.show()"
      ],
      "execution_count": 55,
      "outputs": [
        {
          "output_type": "display_data",
          "data": {
            "image/png": "[encoded data removed]",
            "text/plain": [
              "<Figure size 720x432 with 1 Axes>"
            ]
          },
          "metadata": {
            "tags": [],
            "needs_background": "light"
          }
        }
      ]
    },
    {
      "cell_type": "markdown",
      "metadata": {
        "id": "nH6MsHSwxwcB"
      },
      "source": [
        "# Plotting between customer service calls and unchurned customers"
      ]
    },
    {
      "cell_type": "code",
      "metadata": {
        "colab": {
          "base_uri": "https://localhost:8080/",
          "height": 404
        },
        "id": "Rce7Ti5X7ewI",
        "outputId": "5036eb6d-1135-4c4f-ae87-7290e0e5e3a4"
      },
      "source": [
        "plt.rcParams['figure.figsize'] = (10, 6)\n",
        "plt.bar(monthly_analysis_false['Months'] , monthly_analysis_false['percentage_customers'])\n",
        "plt.xlabel(\"Number of months\")\n",
        "plt.ylabel(\"count of service calls\")\n",
        "plt.title(\"Different services calls per month\")\n",
        "plt.show()"
      ],
      "execution_count": 56,
      "outputs": [
        {
          "output_type": "display_data",
          "data": {
            "image/png": "[encoded data removed]",
            "text/plain": [
              "<Figure size 720x432 with 1 Axes>"
            ]
          },
          "metadata": {
            "tags": [],
            "needs_background": "light"
          }
        }
      ]
    },
    {
      "cell_type": "code",
      "metadata": {
        "colab": {
          "base_uri": "https://localhost:8080/"
        },
        "id": "rF2TOo5tIyRE",
        "outputId": "e8adf2c4-3df9-49f8-8d04-eb11123913c6"
      },
      "source": [
        "t_cnt = churn_true['Months'].count()\n",
        "for i in range(len(churn_true['Months'].unique())):\n",
        "  #print(f'For month {i} to {i+1} churned customer percentage is  {monthy_analysis.iloc[i]['count'] / t_cnt * 100}')\n",
        "  print(f\"For month {i} to {i+1} churned customer Service calls percentage is {monthy_customer_service.iloc[i]['count'] / t_cnt * 100}\")\n"
      ],
      "execution_count": 57,
      "outputs": [
        {
          "output_type": "stream",
          "text": [
            "For month 0 to 1 churned customer Service calls percentage is 3.3126293995859215\n",
            "For month 1 to 2 churned customer Service calls percentage is 8.488612836438923\n",
            "For month 2 to 3 churned customer Service calls percentage is 19.66873706004141\n",
            "For month 3 to 4 churned customer Service calls percentage is 27.74327122153209\n",
            "For month 4 to 5 churned customer Service calls percentage is 25.051759834368532\n",
            "For month 5 to 6 churned customer Service calls percentage is 10.144927536231885\n",
            "For month 6 to 7 churned customer Service calls percentage is 4.140786749482402\n",
            "For month 7 to 8 churned customer Service calls percentage is 1.0351966873706004\n",
            "For month 8 to 9 churned customer Service calls percentage is 0.4140786749482402\n"
          ],
          "name": "stdout"
        }
      ]
    },
    {
      "cell_type": "code",
      "metadata": {
        "colab": {
          "base_uri": "https://localhost:8080/",
          "height": 258
        },
        "id": "rGyxfQ3FjJ0w",
        "outputId": "c32d0f12-201b-4663-e084-999e918a224c"
      },
      "source": [
        "churn_true.head()"
      ],
      "execution_count": 58,
      "outputs": [
        {
          "output_type": "execute_result",
          "data": {
            "text/html": [
              "<div>\n",
              "<style scoped>\n",
              "    .dataframe tbody tr th:only-of-type {\n",
              "        vertical-align: middle;\n",
              "    }\n",
              "\n",
              "    .dataframe tbody tr th {\n",
              "        vertical-align: top;\n",
              "    }\n",
              "\n",
              "    .dataframe thead th {\n",
              "        text-align: right;\n",
              "    }\n",
              "</style>\n",
              "<table border=\"1\" class=\"dataframe\">\n",
              "  <thead>\n",
              "    <tr style=\"text-align: right;\">\n",
              "      <th></th>\n",
              "      <th>State</th>\n",
              "      <th>Account length</th>\n",
              "      <th>Area code</th>\n",
              "      <th>International plan</th>\n",
              "      <th>Voice mail plan</th>\n",
              "      <th>Number vmail messages</th>\n",
              "      <th>Total day minutes</th>\n",
              "      <th>Total day calls</th>\n",
              "      <th>Total day charge</th>\n",
              "      <th>Total eve minutes</th>\n",
              "      <th>Total eve calls</th>\n",
              "      <th>Total eve charge</th>\n",
              "      <th>Total night minutes</th>\n",
              "      <th>Total night calls</th>\n",
              "      <th>Total night charge</th>\n",
              "      <th>Total intl minutes</th>\n",
              "      <th>Total intl calls</th>\n",
              "      <th>Total intl charge</th>\n",
              "      <th>Customer service calls</th>\n",
              "      <th>Churn</th>\n",
              "      <th>total_charges</th>\n",
              "      <th>total_minutes</th>\n",
              "      <th>Months</th>\n",
              "    </tr>\n",
              "  </thead>\n",
              "  <tbody>\n",
              "    <tr>\n",
              "      <th>10</th>\n",
              "      <td>IN</td>\n",
              "      <td>65</td>\n",
              "      <td>415</td>\n",
              "      <td>No</td>\n",
              "      <td>No</td>\n",
              "      <td>0</td>\n",
              "      <td>129.1</td>\n",
              "      <td>137</td>\n",
              "      <td>21.95</td>\n",
              "      <td>228.5</td>\n",
              "      <td>83</td>\n",
              "      <td>19.42</td>\n",
              "      <td>208.8</td>\n",
              "      <td>111</td>\n",
              "      <td>9.40</td>\n",
              "      <td>12.7</td>\n",
              "      <td>6</td>\n",
              "      <td>3.43</td>\n",
              "      <td>4</td>\n",
              "      <td>True</td>\n",
              "      <td>50.77</td>\n",
              "      <td>566.4</td>\n",
              "      <td>2</td>\n",
              "    </tr>\n",
              "    <tr>\n",
              "      <th>15</th>\n",
              "      <td>NY</td>\n",
              "      <td>161</td>\n",
              "      <td>415</td>\n",
              "      <td>No</td>\n",
              "      <td>No</td>\n",
              "      <td>0</td>\n",
              "      <td>332.9</td>\n",
              "      <td>67</td>\n",
              "      <td>56.59</td>\n",
              "      <td>317.8</td>\n",
              "      <td>97</td>\n",
              "      <td>27.01</td>\n",
              "      <td>160.6</td>\n",
              "      <td>128</td>\n",
              "      <td>7.23</td>\n",
              "      <td>5.4</td>\n",
              "      <td>9</td>\n",
              "      <td>1.46</td>\n",
              "      <td>4</td>\n",
              "      <td>True</td>\n",
              "      <td>90.83</td>\n",
              "      <td>811.3</td>\n",
              "      <td>5</td>\n",
              "    </tr>\n",
              "    <tr>\n",
              "      <th>21</th>\n",
              "      <td>CO</td>\n",
              "      <td>77</td>\n",
              "      <td>408</td>\n",
              "      <td>No</td>\n",
              "      <td>No</td>\n",
              "      <td>0</td>\n",
              "      <td>62.4</td>\n",
              "      <td>89</td>\n",
              "      <td>10.61</td>\n",
              "      <td>169.9</td>\n",
              "      <td>121</td>\n",
              "      <td>14.44</td>\n",
              "      <td>209.6</td>\n",
              "      <td>64</td>\n",
              "      <td>9.43</td>\n",
              "      <td>5.7</td>\n",
              "      <td>6</td>\n",
              "      <td>1.54</td>\n",
              "      <td>5</td>\n",
              "      <td>True</td>\n",
              "      <td>34.48</td>\n",
              "      <td>441.9</td>\n",
              "      <td>2</td>\n",
              "    </tr>\n",
              "    <tr>\n",
              "      <th>33</th>\n",
              "      <td>AZ</td>\n",
              "      <td>12</td>\n",
              "      <td>408</td>\n",
              "      <td>No</td>\n",
              "      <td>No</td>\n",
              "      <td>0</td>\n",
              "      <td>249.6</td>\n",
              "      <td>118</td>\n",
              "      <td>42.43</td>\n",
              "      <td>252.4</td>\n",
              "      <td>119</td>\n",
              "      <td>21.45</td>\n",
              "      <td>280.2</td>\n",
              "      <td>90</td>\n",
              "      <td>12.61</td>\n",
              "      <td>11.8</td>\n",
              "      <td>3</td>\n",
              "      <td>3.19</td>\n",
              "      <td>1</td>\n",
              "      <td>True</td>\n",
              "      <td>76.49</td>\n",
              "      <td>782.2</td>\n",
              "      <td>0</td>\n",
              "    </tr>\n",
              "    <tr>\n",
              "      <th>41</th>\n",
              "      <td>MD</td>\n",
              "      <td>135</td>\n",
              "      <td>408</td>\n",
              "      <td>Yes</td>\n",
              "      <td>Yes</td>\n",
              "      <td>41</td>\n",
              "      <td>173.1</td>\n",
              "      <td>85</td>\n",
              "      <td>29.43</td>\n",
              "      <td>203.9</td>\n",
              "      <td>107</td>\n",
              "      <td>17.33</td>\n",
              "      <td>122.2</td>\n",
              "      <td>78</td>\n",
              "      <td>5.50</td>\n",
              "      <td>14.6</td>\n",
              "      <td>15</td>\n",
              "      <td>3.94</td>\n",
              "      <td>0</td>\n",
              "      <td>True</td>\n",
              "      <td>52.26</td>\n",
              "      <td>499.2</td>\n",
              "      <td>4</td>\n",
              "    </tr>\n",
              "  </tbody>\n",
              "</table>\n",
              "</div>"
            ],
            "text/plain": [
              "   State  Account length  Area code  ... total_charges total_minutes  Months\n",
              "10    IN              65        415  ...         50.77         566.4       2\n",
              "15    NY             161        415  ...         90.83         811.3       5\n",
              "21    CO              77        408  ...         34.48         441.9       2\n",
              "33    AZ              12        408  ...         76.49         782.2       0\n",
              "41    MD             135        408  ...         52.26         499.2       4\n",
              "\n",
              "[5 rows x 23 columns]"
            ]
          },
          "metadata": {
            "tags": []
          },
          "execution_count": 58
        }
      ]
    },
    {
      "cell_type": "markdown",
      "metadata": {
        "id": "Ffw4YugZx8ch"
      },
      "source": [
        "#Adding column total hours by dividing total minutes by 60"
      ]
    },
    {
      "cell_type": "code",
      "metadata": {
        "colab": {
          "base_uri": "https://localhost:8080/",
          "height": 359
        },
        "id": "L7pOHWyHkgp9",
        "outputId": "2c7fec86-21f1-4a75-8476-a1d37b259716"
      },
      "source": [
        "churn_true = churn_true.assign(total_hours = lambda x: (x['total_minutes'] //60))\n",
        "total_hrs = churn_true.groupby('total_hours')['Customer service calls'].describe()\n",
        "total_hrs.reset_index(inplace = True)\n",
        "total_hrs"
      ],
      "execution_count": 59,
      "outputs": [
        {
          "output_type": "execute_result",
          "data": {
            "text/html": [
              "<div>\n",
              "<style scoped>\n",
              "    .dataframe tbody tr th:only-of-type {\n",
              "        vertical-align: middle;\n",
              "    }\n",
              "\n",
              "    .dataframe tbody tr th {\n",
              "        vertical-align: top;\n",
              "    }\n",
              "\n",
              "    .dataframe thead th {\n",
              "        text-align: right;\n",
              "    }\n",
              "</style>\n",
              "<table border=\"1\" class=\"dataframe\">\n",
              "  <thead>\n",
              "    <tr style=\"text-align: right;\">\n",
              "      <th></th>\n",
              "      <th>total_hours</th>\n",
              "      <th>count</th>\n",
              "      <th>mean</th>\n",
              "      <th>std</th>\n",
              "      <th>min</th>\n",
              "      <th>25%</th>\n",
              "      <th>50%</th>\n",
              "      <th>75%</th>\n",
              "      <th>max</th>\n",
              "    </tr>\n",
              "  </thead>\n",
              "  <tbody>\n",
              "    <tr>\n",
              "      <th>0</th>\n",
              "      <td>5.0</td>\n",
              "      <td>5.0</td>\n",
              "      <td>4.400000</td>\n",
              "      <td>0.547723</td>\n",
              "      <td>4.0</td>\n",
              "      <td>4.00</td>\n",
              "      <td>4.0</td>\n",
              "      <td>5.0</td>\n",
              "      <td>5.0</td>\n",
              "    </tr>\n",
              "    <tr>\n",
              "      <th>1</th>\n",
              "      <td>6.0</td>\n",
              "      <td>6.0</td>\n",
              "      <td>3.333333</td>\n",
              "      <td>1.751190</td>\n",
              "      <td>0.0</td>\n",
              "      <td>3.25</td>\n",
              "      <td>4.0</td>\n",
              "      <td>4.0</td>\n",
              "      <td>5.0</td>\n",
              "    </tr>\n",
              "    <tr>\n",
              "      <th>2</th>\n",
              "      <td>7.0</td>\n",
              "      <td>34.0</td>\n",
              "      <td>3.117647</td>\n",
              "      <td>1.919039</td>\n",
              "      <td>0.0</td>\n",
              "      <td>1.25</td>\n",
              "      <td>4.0</td>\n",
              "      <td>5.0</td>\n",
              "      <td>7.0</td>\n",
              "    </tr>\n",
              "    <tr>\n",
              "      <th>3</th>\n",
              "      <td>8.0</td>\n",
              "      <td>84.0</td>\n",
              "      <td>3.642857</td>\n",
              "      <td>1.787796</td>\n",
              "      <td>0.0</td>\n",
              "      <td>2.00</td>\n",
              "      <td>4.0</td>\n",
              "      <td>5.0</td>\n",
              "      <td>7.0</td>\n",
              "    </tr>\n",
              "    <tr>\n",
              "      <th>4</th>\n",
              "      <td>9.0</td>\n",
              "      <td>79.0</td>\n",
              "      <td>2.620253</td>\n",
              "      <td>2.197340</td>\n",
              "      <td>0.0</td>\n",
              "      <td>1.00</td>\n",
              "      <td>2.0</td>\n",
              "      <td>4.0</td>\n",
              "      <td>9.0</td>\n",
              "    </tr>\n",
              "    <tr>\n",
              "      <th>5</th>\n",
              "      <td>10.0</td>\n",
              "      <td>64.0</td>\n",
              "      <td>1.390625</td>\n",
              "      <td>1.340661</td>\n",
              "      <td>0.0</td>\n",
              "      <td>0.00</td>\n",
              "      <td>1.0</td>\n",
              "      <td>2.0</td>\n",
              "      <td>6.0</td>\n",
              "    </tr>\n",
              "    <tr>\n",
              "      <th>6</th>\n",
              "      <td>11.0</td>\n",
              "      <td>105.0</td>\n",
              "      <td>1.523810</td>\n",
              "      <td>1.241085</td>\n",
              "      <td>0.0</td>\n",
              "      <td>1.00</td>\n",
              "      <td>1.0</td>\n",
              "      <td>2.0</td>\n",
              "      <td>5.0</td>\n",
              "    </tr>\n",
              "    <tr>\n",
              "      <th>7</th>\n",
              "      <td>12.0</td>\n",
              "      <td>76.0</td>\n",
              "      <td>1.618421</td>\n",
              "      <td>1.496370</td>\n",
              "      <td>0.0</td>\n",
              "      <td>1.00</td>\n",
              "      <td>1.0</td>\n",
              "      <td>2.0</td>\n",
              "      <td>9.0</td>\n",
              "    </tr>\n",
              "    <tr>\n",
              "      <th>8</th>\n",
              "      <td>13.0</td>\n",
              "      <td>26.0</td>\n",
              "      <td>1.576923</td>\n",
              "      <td>1.419100</td>\n",
              "      <td>0.0</td>\n",
              "      <td>0.25</td>\n",
              "      <td>1.0</td>\n",
              "      <td>2.0</td>\n",
              "      <td>5.0</td>\n",
              "    </tr>\n",
              "    <tr>\n",
              "      <th>9</th>\n",
              "      <td>14.0</td>\n",
              "      <td>4.0</td>\n",
              "      <td>0.750000</td>\n",
              "      <td>0.500000</td>\n",
              "      <td>0.0</td>\n",
              "      <td>0.75</td>\n",
              "      <td>1.0</td>\n",
              "      <td>1.0</td>\n",
              "      <td>1.0</td>\n",
              "    </tr>\n",
              "  </tbody>\n",
              "</table>\n",
              "</div>"
            ],
            "text/plain": [
              "   total_hours  count      mean       std  min   25%  50%  75%  max\n",
              "0          5.0    5.0  4.400000  0.547723  4.0  4.00  4.0  5.0  5.0\n",
              "1          6.0    6.0  3.333333  1.751190  0.0  3.25  4.0  4.0  5.0\n",
              "2          7.0   34.0  3.117647  1.919039  0.0  1.25  4.0  5.0  7.0\n",
              "3          8.0   84.0  3.642857  1.787796  0.0  2.00  4.0  5.0  7.0\n",
              "4          9.0   79.0  2.620253  2.197340  0.0  1.00  2.0  4.0  9.0\n",
              "5         10.0   64.0  1.390625  1.340661  0.0  0.00  1.0  2.0  6.0\n",
              "6         11.0  105.0  1.523810  1.241085  0.0  1.00  1.0  2.0  5.0\n",
              "7         12.0   76.0  1.618421  1.496370  0.0  1.00  1.0  2.0  9.0\n",
              "8         13.0   26.0  1.576923  1.419100  0.0  0.25  1.0  2.0  5.0\n",
              "9         14.0    4.0  0.750000  0.500000  0.0  0.75  1.0  1.0  1.0"
            ]
          },
          "metadata": {
            "tags": []
          },
          "execution_count": 59
        }
      ]
    },
    {
      "cell_type": "markdown",
      "metadata": {
        "id": "9A3j67mhyWez"
      },
      "source": [
        "# Plotting between total hours and count of service calls for churned customers"
      ]
    },
    {
      "cell_type": "code",
      "metadata": {
        "colab": {
          "base_uri": "https://localhost:8080/",
          "height": 404
        },
        "id": "0ATZnwKYnMfs",
        "outputId": "9135999c-7a66-4ff7-ba66-84b8d5437644"
      },
      "source": [
        "plt.rcParams['figure.figsize'] = (10, 6)\n",
        "plt.bar(total_hrs['total_hours'] , total_hrs['count'])\n",
        "plt.xlabel(\"Number of hours\")\n",
        "plt.ylabel(\"count of service calls\")\n",
        "plt.title(\"Calling time vs Service calls\")\n",
        "plt.show()"
      ],
      "execution_count": 60,
      "outputs": [
        {
          "output_type": "display_data",
          "data": {
            "image/png": "[encoded data removed]",
            "text/plain": [
              "<Figure size 720x432 with 1 Axes>"
            ]
          },
          "metadata": {
            "tags": [],
            "needs_background": "light"
          }
        }
      ]
    },
    {
      "cell_type": "markdown",
      "metadata": {
        "id": "iIjtUWMDqX8_"
      },
      "source": [
        "Above graph shows that customers who are talking 7 hrs to 13 hrs are churning "
      ]
    },
    {
      "cell_type": "markdown",
      "metadata": {
        "id": "eVMiZ7IGynlw"
      },
      "source": [
        "# Plotting between total hours and count of service calls for unchurned customers"
      ]
    },
    {
      "cell_type": "code",
      "metadata": {
        "colab": {
          "base_uri": "https://localhost:8080/",
          "height": 404
        },
        "id": "9uy972wW1Bpq",
        "outputId": "5b56d7e4-1a62-4c07-b98b-a88d5c6aa047"
      },
      "source": [
        "churn_false = churn_false.assign(total_hours = lambda x: (x['total_minutes'] //60))\n",
        "total_hrs_false = churn_false.groupby('total_hours')['Customer service calls'].describe()\n",
        "total_hrs_false.reset_index(inplace = True)\n",
        "plt.rcParams['figure.figsize'] = (10, 6)\n",
        "plt.bar(total_hrs_false['total_hours'] , total_hrs_false['count'])\n",
        "plt.xlabel(\"Number of hours\")\n",
        "plt.ylabel(\"count of service calls\")\n",
        "plt.title(\"Calling time vs Service calls\")\n",
        "plt.show()"
      ],
      "execution_count": 61,
      "outputs": [
        {
          "output_type": "display_data",
          "data": {
            "image/png": "[encoded data removed]",
            "text/plain": [
              "<Figure size 720x432 with 1 Axes>"
            ]
          },
          "metadata": {
            "tags": [],
            "needs_background": "light"
          }
        }
      ]
    },
    {
      "cell_type": "code",
      "metadata": {
        "colab": {
          "base_uri": "https://localhost:8080/",
          "height": 258
        },
        "id": "b5589KGWU9lf",
        "outputId": "f05ee423-1d22-4044-f42b-2337f886aba1"
      },
      "source": [
        "churn_true.head()"
      ],
      "execution_count": 62,
      "outputs": [
        {
          "output_type": "execute_result",
          "data": {
            "text/html": [
              "<div>\n",
              "<style scoped>\n",
              "    .dataframe tbody tr th:only-of-type {\n",
              "        vertical-align: middle;\n",
              "    }\n",
              "\n",
              "    .dataframe tbody tr th {\n",
              "        vertical-align: top;\n",
              "    }\n",
              "\n",
              "    .dataframe thead th {\n",
              "        text-align: right;\n",
              "    }\n",
              "</style>\n",
              "<table border=\"1\" class=\"dataframe\">\n",
              "  <thead>\n",
              "    <tr style=\"text-align: right;\">\n",
              "      <th></th>\n",
              "      <th>State</th>\n",
              "      <th>Account length</th>\n",
              "      <th>Area code</th>\n",
              "      <th>International plan</th>\n",
              "      <th>Voice mail plan</th>\n",
              "      <th>Number vmail messages</th>\n",
              "      <th>Total day minutes</th>\n",
              "      <th>Total day calls</th>\n",
              "      <th>Total day charge</th>\n",
              "      <th>Total eve minutes</th>\n",
              "      <th>Total eve calls</th>\n",
              "      <th>Total eve charge</th>\n",
              "      <th>Total night minutes</th>\n",
              "      <th>Total night calls</th>\n",
              "      <th>Total night charge</th>\n",
              "      <th>Total intl minutes</th>\n",
              "      <th>Total intl calls</th>\n",
              "      <th>Total intl charge</th>\n",
              "      <th>Customer service calls</th>\n",
              "      <th>Churn</th>\n",
              "      <th>total_charges</th>\n",
              "      <th>total_minutes</th>\n",
              "      <th>Months</th>\n",
              "      <th>total_hours</th>\n",
              "    </tr>\n",
              "  </thead>\n",
              "  <tbody>\n",
              "    <tr>\n",
              "      <th>10</th>\n",
              "      <td>IN</td>\n",
              "      <td>65</td>\n",
              "      <td>415</td>\n",
              "      <td>No</td>\n",
              "      <td>No</td>\n",
              "      <td>0</td>\n",
              "      <td>129.1</td>\n",
              "      <td>137</td>\n",
              "      <td>21.95</td>\n",
              "      <td>228.5</td>\n",
              "      <td>83</td>\n",
              "      <td>19.42</td>\n",
              "      <td>208.8</td>\n",
              "      <td>111</td>\n",
              "      <td>9.40</td>\n",
              "      <td>12.7</td>\n",
              "      <td>6</td>\n",
              "      <td>3.43</td>\n",
              "      <td>4</td>\n",
              "      <td>True</td>\n",
              "      <td>50.77</td>\n",
              "      <td>566.4</td>\n",
              "      <td>2</td>\n",
              "      <td>9.0</td>\n",
              "    </tr>\n",
              "    <tr>\n",
              "      <th>15</th>\n",
              "      <td>NY</td>\n",
              "      <td>161</td>\n",
              "      <td>415</td>\n",
              "      <td>No</td>\n",
              "      <td>No</td>\n",
              "      <td>0</td>\n",
              "      <td>332.9</td>\n",
              "      <td>67</td>\n",
              "      <td>56.59</td>\n",
              "      <td>317.8</td>\n",
              "      <td>97</td>\n",
              "      <td>27.01</td>\n",
              "      <td>160.6</td>\n",
              "      <td>128</td>\n",
              "      <td>7.23</td>\n",
              "      <td>5.4</td>\n",
              "      <td>9</td>\n",
              "      <td>1.46</td>\n",
              "      <td>4</td>\n",
              "      <td>True</td>\n",
              "      <td>90.83</td>\n",
              "      <td>811.3</td>\n",
              "      <td>5</td>\n",
              "      <td>13.0</td>\n",
              "    </tr>\n",
              "    <tr>\n",
              "      <th>21</th>\n",
              "      <td>CO</td>\n",
              "      <td>77</td>\n",
              "      <td>408</td>\n",
              "      <td>No</td>\n",
              "      <td>No</td>\n",
              "      <td>0</td>\n",
              "      <td>62.4</td>\n",
              "      <td>89</td>\n",
              "      <td>10.61</td>\n",
              "      <td>169.9</td>\n",
              "      <td>121</td>\n",
              "      <td>14.44</td>\n",
              "      <td>209.6</td>\n",
              "      <td>64</td>\n",
              "      <td>9.43</td>\n",
              "      <td>5.7</td>\n",
              "      <td>6</td>\n",
              "      <td>1.54</td>\n",
              "      <td>5</td>\n",
              "      <td>True</td>\n",
              "      <td>34.48</td>\n",
              "      <td>441.9</td>\n",
              "      <td>2</td>\n",
              "      <td>7.0</td>\n",
              "    </tr>\n",
              "    <tr>\n",
              "      <th>33</th>\n",
              "      <td>AZ</td>\n",
              "      <td>12</td>\n",
              "      <td>408</td>\n",
              "      <td>No</td>\n",
              "      <td>No</td>\n",
              "      <td>0</td>\n",
              "      <td>249.6</td>\n",
              "      <td>118</td>\n",
              "      <td>42.43</td>\n",
              "      <td>252.4</td>\n",
              "      <td>119</td>\n",
              "      <td>21.45</td>\n",
              "      <td>280.2</td>\n",
              "      <td>90</td>\n",
              "      <td>12.61</td>\n",
              "      <td>11.8</td>\n",
              "      <td>3</td>\n",
              "      <td>3.19</td>\n",
              "      <td>1</td>\n",
              "      <td>True</td>\n",
              "      <td>76.49</td>\n",
              "      <td>782.2</td>\n",
              "      <td>0</td>\n",
              "      <td>13.0</td>\n",
              "    </tr>\n",
              "    <tr>\n",
              "      <th>41</th>\n",
              "      <td>MD</td>\n",
              "      <td>135</td>\n",
              "      <td>408</td>\n",
              "      <td>Yes</td>\n",
              "      <td>Yes</td>\n",
              "      <td>41</td>\n",
              "      <td>173.1</td>\n",
              "      <td>85</td>\n",
              "      <td>29.43</td>\n",
              "      <td>203.9</td>\n",
              "      <td>107</td>\n",
              "      <td>17.33</td>\n",
              "      <td>122.2</td>\n",
              "      <td>78</td>\n",
              "      <td>5.50</td>\n",
              "      <td>14.6</td>\n",
              "      <td>15</td>\n",
              "      <td>3.94</td>\n",
              "      <td>0</td>\n",
              "      <td>True</td>\n",
              "      <td>52.26</td>\n",
              "      <td>499.2</td>\n",
              "      <td>4</td>\n",
              "      <td>8.0</td>\n",
              "    </tr>\n",
              "  </tbody>\n",
              "</table>\n",
              "</div>"
            ],
            "text/plain": [
              "   State  Account length  Area code  ... total_minutes Months  total_hours\n",
              "10    IN              65        415  ...         566.4      2          9.0\n",
              "15    NY             161        415  ...         811.3      5         13.0\n",
              "21    CO              77        408  ...         441.9      2          7.0\n",
              "33    AZ              12        408  ...         782.2      0         13.0\n",
              "41    MD             135        408  ...         499.2      4          8.0\n",
              "\n",
              "[5 rows x 24 columns]"
            ]
          },
          "metadata": {
            "tags": []
          },
          "execution_count": 62
        }
      ]
    },
    {
      "cell_type": "code",
      "metadata": {
        "colab": {
          "base_uri": "https://localhost:8080/",
          "height": 413
        },
        "id": "L1HMgxD-Ec3v",
        "outputId": "ab1db5b0-e407-48ad-c758-29df6be93d70"
      },
      "source": [
        "churn_true.head(10)"
      ],
      "execution_count": 63,
      "outputs": [
        {
          "output_type": "execute_result",
          "data": {
            "text/html": [
              "<div>\n",
              "<style scoped>\n",
              "    .dataframe tbody tr th:only-of-type {\n",
              "        vertical-align: middle;\n",
              "    }\n",
              "\n",
              "    .dataframe tbody tr th {\n",
              "        vertical-align: top;\n",
              "    }\n",
              "\n",
              "    .dataframe thead th {\n",
              "        text-align: right;\n",
              "    }\n",
              "</style>\n",
              "<table border=\"1\" class=\"dataframe\">\n",
              "  <thead>\n",
              "    <tr style=\"text-align: right;\">\n",
              "      <th></th>\n",
              "      <th>State</th>\n",
              "      <th>Account length</th>\n",
              "      <th>Area code</th>\n",
              "      <th>International plan</th>\n",
              "      <th>Voice mail plan</th>\n",
              "      <th>Number vmail messages</th>\n",
              "      <th>Total day minutes</th>\n",
              "      <th>Total day calls</th>\n",
              "      <th>Total day charge</th>\n",
              "      <th>Total eve minutes</th>\n",
              "      <th>Total eve calls</th>\n",
              "      <th>Total eve charge</th>\n",
              "      <th>Total night minutes</th>\n",
              "      <th>Total night calls</th>\n",
              "      <th>Total night charge</th>\n",
              "      <th>Total intl minutes</th>\n",
              "      <th>Total intl calls</th>\n",
              "      <th>Total intl charge</th>\n",
              "      <th>Customer service calls</th>\n",
              "      <th>Churn</th>\n",
              "      <th>total_charges</th>\n",
              "      <th>total_minutes</th>\n",
              "      <th>Months</th>\n",
              "      <th>total_hours</th>\n",
              "    </tr>\n",
              "  </thead>\n",
              "  <tbody>\n",
              "    <tr>\n",
              "      <th>10</th>\n",
              "      <td>IN</td>\n",
              "      <td>65</td>\n",
              "      <td>415</td>\n",
              "      <td>No</td>\n",
              "      <td>No</td>\n",
              "      <td>0</td>\n",
              "      <td>129.1</td>\n",
              "      <td>137</td>\n",
              "      <td>21.95</td>\n",
              "      <td>228.5</td>\n",
              "      <td>83</td>\n",
              "      <td>19.42</td>\n",
              "      <td>208.8</td>\n",
              "      <td>111</td>\n",
              "      <td>9.40</td>\n",
              "      <td>12.7</td>\n",
              "      <td>6</td>\n",
              "      <td>3.43</td>\n",
              "      <td>4</td>\n",
              "      <td>True</td>\n",
              "      <td>50.77</td>\n",
              "      <td>566.4</td>\n",
              "      <td>2</td>\n",
              "      <td>9.0</td>\n",
              "    </tr>\n",
              "    <tr>\n",
              "      <th>15</th>\n",
              "      <td>NY</td>\n",
              "      <td>161</td>\n",
              "      <td>415</td>\n",
              "      <td>No</td>\n",
              "      <td>No</td>\n",
              "      <td>0</td>\n",
              "      <td>332.9</td>\n",
              "      <td>67</td>\n",
              "      <td>56.59</td>\n",
              "      <td>317.8</td>\n",
              "      <td>97</td>\n",
              "      <td>27.01</td>\n",
              "      <td>160.6</td>\n",
              "      <td>128</td>\n",
              "      <td>7.23</td>\n",
              "      <td>5.4</td>\n",
              "      <td>9</td>\n",
              "      <td>1.46</td>\n",
              "      <td>4</td>\n",
              "      <td>True</td>\n",
              "      <td>90.83</td>\n",
              "      <td>811.3</td>\n",
              "      <td>5</td>\n",
              "      <td>13.0</td>\n",
              "    </tr>\n",
              "    <tr>\n",
              "      <th>21</th>\n",
              "      <td>CO</td>\n",
              "      <td>77</td>\n",
              "      <td>408</td>\n",
              "      <td>No</td>\n",
              "      <td>No</td>\n",
              "      <td>0</td>\n",
              "      <td>62.4</td>\n",
              "      <td>89</td>\n",
              "      <td>10.61</td>\n",
              "      <td>169.9</td>\n",
              "      <td>121</td>\n",
              "      <td>14.44</td>\n",
              "      <td>209.6</td>\n",
              "      <td>64</td>\n",
              "      <td>9.43</td>\n",
              "      <td>5.7</td>\n",
              "      <td>6</td>\n",
              "      <td>1.54</td>\n",
              "      <td>5</td>\n",
              "      <td>True</td>\n",
              "      <td>34.48</td>\n",
              "      <td>441.9</td>\n",
              "      <td>2</td>\n",
              "      <td>7.0</td>\n",
              "    </tr>\n",
              "    <tr>\n",
              "      <th>33</th>\n",
              "      <td>AZ</td>\n",
              "      <td>12</td>\n",
              "      <td>408</td>\n",
              "      <td>No</td>\n",
              "      <td>No</td>\n",
              "      <td>0</td>\n",
              "      <td>249.6</td>\n",
              "      <td>118</td>\n",
              "      <td>42.43</td>\n",
              "      <td>252.4</td>\n",
              "      <td>119</td>\n",
              "      <td>21.45</td>\n",
              "      <td>280.2</td>\n",
              "      <td>90</td>\n",
              "      <td>12.61</td>\n",
              "      <td>11.8</td>\n",
              "      <td>3</td>\n",
              "      <td>3.19</td>\n",
              "      <td>1</td>\n",
              "      <td>True</td>\n",
              "      <td>76.49</td>\n",
              "      <td>782.2</td>\n",
              "      <td>0</td>\n",
              "      <td>13.0</td>\n",
              "    </tr>\n",
              "    <tr>\n",
              "      <th>41</th>\n",
              "      <td>MD</td>\n",
              "      <td>135</td>\n",
              "      <td>408</td>\n",
              "      <td>Yes</td>\n",
              "      <td>Yes</td>\n",
              "      <td>41</td>\n",
              "      <td>173.1</td>\n",
              "      <td>85</td>\n",
              "      <td>29.43</td>\n",
              "      <td>203.9</td>\n",
              "      <td>107</td>\n",
              "      <td>17.33</td>\n",
              "      <td>122.2</td>\n",
              "      <td>78</td>\n",
              "      <td>5.50</td>\n",
              "      <td>14.6</td>\n",
              "      <td>15</td>\n",
              "      <td>3.94</td>\n",
              "      <td>0</td>\n",
              "      <td>True</td>\n",
              "      <td>52.26</td>\n",
              "      <td>499.2</td>\n",
              "      <td>4</td>\n",
              "      <td>8.0</td>\n",
              "    </tr>\n",
              "    <tr>\n",
              "      <th>48</th>\n",
              "      <td>ID</td>\n",
              "      <td>119</td>\n",
              "      <td>415</td>\n",
              "      <td>No</td>\n",
              "      <td>No</td>\n",
              "      <td>0</td>\n",
              "      <td>159.1</td>\n",
              "      <td>114</td>\n",
              "      <td>27.05</td>\n",
              "      <td>231.3</td>\n",
              "      <td>117</td>\n",
              "      <td>19.66</td>\n",
              "      <td>143.2</td>\n",
              "      <td>91</td>\n",
              "      <td>6.44</td>\n",
              "      <td>8.8</td>\n",
              "      <td>3</td>\n",
              "      <td>2.38</td>\n",
              "      <td>5</td>\n",
              "      <td>True</td>\n",
              "      <td>53.15</td>\n",
              "      <td>533.6</td>\n",
              "      <td>4</td>\n",
              "      <td>8.0</td>\n",
              "    </tr>\n",
              "    <tr>\n",
              "      <th>54</th>\n",
              "      <td>WY</td>\n",
              "      <td>87</td>\n",
              "      <td>415</td>\n",
              "      <td>No</td>\n",
              "      <td>No</td>\n",
              "      <td>0</td>\n",
              "      <td>151.0</td>\n",
              "      <td>83</td>\n",
              "      <td>25.67</td>\n",
              "      <td>219.7</td>\n",
              "      <td>116</td>\n",
              "      <td>18.67</td>\n",
              "      <td>203.9</td>\n",
              "      <td>127</td>\n",
              "      <td>9.18</td>\n",
              "      <td>9.7</td>\n",
              "      <td>3</td>\n",
              "      <td>2.62</td>\n",
              "      <td>5</td>\n",
              "      <td>True</td>\n",
              "      <td>53.52</td>\n",
              "      <td>574.6</td>\n",
              "      <td>3</td>\n",
              "      <td>9.0</td>\n",
              "    </tr>\n",
              "    <tr>\n",
              "      <th>57</th>\n",
              "      <td>CO</td>\n",
              "      <td>121</td>\n",
              "      <td>408</td>\n",
              "      <td>No</td>\n",
              "      <td>Yes</td>\n",
              "      <td>30</td>\n",
              "      <td>198.4</td>\n",
              "      <td>129</td>\n",
              "      <td>33.73</td>\n",
              "      <td>75.3</td>\n",
              "      <td>77</td>\n",
              "      <td>6.40</td>\n",
              "      <td>181.2</td>\n",
              "      <td>77</td>\n",
              "      <td>8.15</td>\n",
              "      <td>5.8</td>\n",
              "      <td>3</td>\n",
              "      <td>1.57</td>\n",
              "      <td>3</td>\n",
              "      <td>True</td>\n",
              "      <td>48.28</td>\n",
              "      <td>454.9</td>\n",
              "      <td>4</td>\n",
              "      <td>7.0</td>\n",
              "    </tr>\n",
              "    <tr>\n",
              "      <th>69</th>\n",
              "      <td>TX</td>\n",
              "      <td>150</td>\n",
              "      <td>510</td>\n",
              "      <td>No</td>\n",
              "      <td>No</td>\n",
              "      <td>0</td>\n",
              "      <td>178.9</td>\n",
              "      <td>101</td>\n",
              "      <td>30.41</td>\n",
              "      <td>169.1</td>\n",
              "      <td>110</td>\n",
              "      <td>14.37</td>\n",
              "      <td>148.6</td>\n",
              "      <td>100</td>\n",
              "      <td>6.69</td>\n",
              "      <td>13.8</td>\n",
              "      <td>3</td>\n",
              "      <td>3.73</td>\n",
              "      <td>4</td>\n",
              "      <td>True</td>\n",
              "      <td>51.47</td>\n",
              "      <td>496.6</td>\n",
              "      <td>5</td>\n",
              "      <td>8.0</td>\n",
              "    </tr>\n",
              "    <tr>\n",
              "      <th>76</th>\n",
              "      <td>DC</td>\n",
              "      <td>82</td>\n",
              "      <td>415</td>\n",
              "      <td>No</td>\n",
              "      <td>No</td>\n",
              "      <td>0</td>\n",
              "      <td>300.3</td>\n",
              "      <td>109</td>\n",
              "      <td>51.05</td>\n",
              "      <td>181.0</td>\n",
              "      <td>100</td>\n",
              "      <td>15.39</td>\n",
              "      <td>270.1</td>\n",
              "      <td>73</td>\n",
              "      <td>12.15</td>\n",
              "      <td>11.7</td>\n",
              "      <td>4</td>\n",
              "      <td>3.16</td>\n",
              "      <td>0</td>\n",
              "      <td>True</td>\n",
              "      <td>78.59</td>\n",
              "      <td>751.4</td>\n",
              "      <td>2</td>\n",
              "      <td>12.0</td>\n",
              "    </tr>\n",
              "  </tbody>\n",
              "</table>\n",
              "</div>"
            ],
            "text/plain": [
              "   State  Account length  Area code  ... total_minutes Months  total_hours\n",
              "10    IN              65        415  ...         566.4      2          9.0\n",
              "15    NY             161        415  ...         811.3      5         13.0\n",
              "21    CO              77        408  ...         441.9      2          7.0\n",
              "33    AZ              12        408  ...         782.2      0         13.0\n",
              "41    MD             135        408  ...         499.2      4          8.0\n",
              "48    ID             119        415  ...         533.6      4          8.0\n",
              "54    WY              87        415  ...         574.6      3          9.0\n",
              "57    CO             121        408  ...         454.9      4          7.0\n",
              "69    TX             150        510  ...         496.6      5          8.0\n",
              "76    DC              82        415  ...         751.4      2         12.0\n",
              "\n",
              "[10 rows x 24 columns]"
            ]
          },
          "metadata": {
            "tags": []
          },
          "execution_count": 63
        }
      ]
    },
    {
      "cell_type": "markdown",
      "metadata": {
        "id": "ouQ6oT20yu66"
      },
      "source": [
        "# Adding column total_day_hours by dividing total day minutes by 60"
      ]
    },
    {
      "cell_type": "markdown",
      "metadata": {
        "id": "DeHCznh3y4Or"
      },
      "source": [
        "**As from univariate analysis we know that total_day_minutes is an important factor so we are doing filtering on this factor**"
      ]
    },
    {
      "cell_type": "code",
      "metadata": {
        "colab": {
          "base_uri": "https://localhost:8080/",
          "height": 235
        },
        "id": "qZ8_QWblEs85",
        "outputId": "818ad849-6406-4e0d-9e30-8ff27cd2edda"
      },
      "source": [
        "churn_true = churn_true.assign(total_day_hours = lambda x: (x['Total day minutes'] //60))\n",
        "#total_day_hrs = churn_true.groupby('total_hours')['Customer service calls'].describe()\n",
        "#total_day_hrs.reset_index(inplace = True)\n",
        "day_hours_time = churn_true.groupby('total_day_hours')['Account length'].describe()\n",
        "day_hours_time.reset_index(inplace = True)\n",
        "day_hours_time"
      ],
      "execution_count": 64,
      "outputs": [
        {
          "output_type": "execute_result",
          "data": {
            "text/html": [
              "<div>\n",
              "<style scoped>\n",
              "    .dataframe tbody tr th:only-of-type {\n",
              "        vertical-align: middle;\n",
              "    }\n",
              "\n",
              "    .dataframe tbody tr th {\n",
              "        vertical-align: top;\n",
              "    }\n",
              "\n",
              "    .dataframe thead th {\n",
              "        text-align: right;\n",
              "    }\n",
              "</style>\n",
              "<table border=\"1\" class=\"dataframe\">\n",
              "  <thead>\n",
              "    <tr style=\"text-align: right;\">\n",
              "      <th></th>\n",
              "      <th>total_day_hours</th>\n",
              "      <th>count</th>\n",
              "      <th>mean</th>\n",
              "      <th>std</th>\n",
              "      <th>min</th>\n",
              "      <th>25%</th>\n",
              "      <th>50%</th>\n",
              "      <th>75%</th>\n",
              "      <th>max</th>\n",
              "    </tr>\n",
              "  </thead>\n",
              "  <tbody>\n",
              "    <tr>\n",
              "      <th>0</th>\n",
              "      <td>0.0</td>\n",
              "      <td>6.0</td>\n",
              "      <td>115.333333</td>\n",
              "      <td>40.416168</td>\n",
              "      <td>47.0</td>\n",
              "      <td>102.75</td>\n",
              "      <td>121.5</td>\n",
              "      <td>135.0</td>\n",
              "      <td>166.0</td>\n",
              "    </tr>\n",
              "    <tr>\n",
              "      <th>1</th>\n",
              "      <td>1.0</td>\n",
              "      <td>46.0</td>\n",
              "      <td>93.521739</td>\n",
              "      <td>33.255736</td>\n",
              "      <td>21.0</td>\n",
              "      <td>76.25</td>\n",
              "      <td>98.0</td>\n",
              "      <td>108.0</td>\n",
              "      <td>193.0</td>\n",
              "    </tr>\n",
              "    <tr>\n",
              "      <th>2</th>\n",
              "      <td>2.0</td>\n",
              "      <td>141.0</td>\n",
              "      <td>105.290780</td>\n",
              "      <td>39.273862</td>\n",
              "      <td>2.0</td>\n",
              "      <td>85.00</td>\n",
              "      <td>108.0</td>\n",
              "      <td>124.0</td>\n",
              "      <td>225.0</td>\n",
              "    </tr>\n",
              "    <tr>\n",
              "      <th>3</th>\n",
              "      <td>3.0</td>\n",
              "      <td>109.0</td>\n",
              "      <td>105.412844</td>\n",
              "      <td>41.089832</td>\n",
              "      <td>1.0</td>\n",
              "      <td>73.00</td>\n",
              "      <td>105.0</td>\n",
              "      <td>133.0</td>\n",
              "      <td>212.0</td>\n",
              "    </tr>\n",
              "    <tr>\n",
              "      <th>4</th>\n",
              "      <td>4.0</td>\n",
              "      <td>149.0</td>\n",
              "      <td>102.187919</td>\n",
              "      <td>39.068957</td>\n",
              "      <td>12.0</td>\n",
              "      <td>74.00</td>\n",
              "      <td>105.0</td>\n",
              "      <td>127.0</td>\n",
              "      <td>209.0</td>\n",
              "    </tr>\n",
              "    <tr>\n",
              "      <th>5</th>\n",
              "      <td>5.0</td>\n",
              "      <td>32.0</td>\n",
              "      <td>94.718750</td>\n",
              "      <td>44.006037</td>\n",
              "      <td>13.0</td>\n",
              "      <td>74.75</td>\n",
              "      <td>87.5</td>\n",
              "      <td>124.5</td>\n",
              "      <td>208.0</td>\n",
              "    </tr>\n",
              "  </tbody>\n",
              "</table>\n",
              "</div>"
            ],
            "text/plain": [
              "   total_day_hours  count        mean        std  ...     25%    50%    75%    max\n",
              "0              0.0    6.0  115.333333  40.416168  ...  102.75  121.5  135.0  166.0\n",
              "1              1.0   46.0   93.521739  33.255736  ...   76.25   98.0  108.0  193.0\n",
              "2              2.0  141.0  105.290780  39.273862  ...   85.00  108.0  124.0  225.0\n",
              "3              3.0  109.0  105.412844  41.089832  ...   73.00  105.0  133.0  212.0\n",
              "4              4.0  149.0  102.187919  39.068957  ...   74.00  105.0  127.0  209.0\n",
              "5              5.0   32.0   94.718750  44.006037  ...   74.75   87.5  124.5  208.0\n",
              "\n",
              "[6 rows x 9 columns]"
            ]
          },
          "metadata": {
            "tags": []
          },
          "execution_count": 64
        }
      ]
    },
    {
      "cell_type": "code",
      "metadata": {
        "colab": {
          "base_uri": "https://localhost:8080/",
          "height": 1000
        },
        "id": "gtIQ_pMcC14P",
        "outputId": "004fc4f9-63b2-4a4c-ede1-83f6253d325e"
      },
      "source": [
        "churn_true.groupby(['Months','total_day_hours'])['Customer service calls'].describe()"
      ],
      "execution_count": 65,
      "outputs": [
        {
          "output_type": "execute_result",
          "data": {
            "text/html": [
              "<div>\n",
              "<style scoped>\n",
              "    .dataframe tbody tr th:only-of-type {\n",
              "        vertical-align: middle;\n",
              "    }\n",
              "\n",
              "    .dataframe tbody tr th {\n",
              "        vertical-align: top;\n",
              "    }\n",
              "\n",
              "    .dataframe thead th {\n",
              "        text-align: right;\n",
              "    }\n",
              "</style>\n",
              "<table border=\"1\" class=\"dataframe\">\n",
              "  <thead>\n",
              "    <tr style=\"text-align: right;\">\n",
              "      <th></th>\n",
              "      <th></th>\n",
              "      <th>count</th>\n",
              "      <th>mean</th>\n",
              "      <th>std</th>\n",
              "      <th>min</th>\n",
              "      <th>25%</th>\n",
              "      <th>50%</th>\n",
              "      <th>75%</th>\n",
              "      <th>max</th>\n",
              "    </tr>\n",
              "    <tr>\n",
              "      <th>Months</th>\n",
              "      <th>total_day_hours</th>\n",
              "      <th></th>\n",
              "      <th></th>\n",
              "      <th></th>\n",
              "      <th></th>\n",
              "      <th></th>\n",
              "      <th></th>\n",
              "      <th></th>\n",
              "      <th></th>\n",
              "    </tr>\n",
              "  </thead>\n",
              "  <tbody>\n",
              "    <tr>\n",
              "      <th rowspan=\"5\" valign=\"top\">0</th>\n",
              "      <th>1.0</th>\n",
              "      <td>2.0</td>\n",
              "      <td>3.000000</td>\n",
              "      <td>2.828427</td>\n",
              "      <td>1.0</td>\n",
              "      <td>2.00</td>\n",
              "      <td>3.0</td>\n",
              "      <td>4.00</td>\n",
              "      <td>5.0</td>\n",
              "    </tr>\n",
              "    <tr>\n",
              "      <th>2.0</th>\n",
              "      <td>4.0</td>\n",
              "      <td>2.500000</td>\n",
              "      <td>2.516611</td>\n",
              "      <td>0.0</td>\n",
              "      <td>1.50</td>\n",
              "      <td>2.0</td>\n",
              "      <td>3.00</td>\n",
              "      <td>6.0</td>\n",
              "    </tr>\n",
              "    <tr>\n",
              "      <th>3.0</th>\n",
              "      <td>3.0</td>\n",
              "      <td>2.333333</td>\n",
              "      <td>2.516611</td>\n",
              "      <td>0.0</td>\n",
              "      <td>1.00</td>\n",
              "      <td>2.0</td>\n",
              "      <td>3.50</td>\n",
              "      <td>5.0</td>\n",
              "    </tr>\n",
              "    <tr>\n",
              "      <th>4.0</th>\n",
              "      <td>5.0</td>\n",
              "      <td>1.000000</td>\n",
              "      <td>0.707107</td>\n",
              "      <td>0.0</td>\n",
              "      <td>1.00</td>\n",
              "      <td>1.0</td>\n",
              "      <td>1.00</td>\n",
              "      <td>2.0</td>\n",
              "    </tr>\n",
              "    <tr>\n",
              "      <th>5.0</th>\n",
              "      <td>2.0</td>\n",
              "      <td>1.000000</td>\n",
              "      <td>1.414214</td>\n",
              "      <td>0.0</td>\n",
              "      <td>0.50</td>\n",
              "      <td>1.0</td>\n",
              "      <td>1.50</td>\n",
              "      <td>2.0</td>\n",
              "    </tr>\n",
              "    <tr>\n",
              "      <th rowspan=\"6\" valign=\"top\">1</th>\n",
              "      <th>0.0</th>\n",
              "      <td>1.0</td>\n",
              "      <td>0.000000</td>\n",
              "      <td>NaN</td>\n",
              "      <td>0.0</td>\n",
              "      <td>0.00</td>\n",
              "      <td>0.0</td>\n",
              "      <td>0.00</td>\n",
              "      <td>0.0</td>\n",
              "    </tr>\n",
              "    <tr>\n",
              "      <th>1.0</th>\n",
              "      <td>3.0</td>\n",
              "      <td>3.000000</td>\n",
              "      <td>2.645751</td>\n",
              "      <td>1.0</td>\n",
              "      <td>1.50</td>\n",
              "      <td>2.0</td>\n",
              "      <td>4.00</td>\n",
              "      <td>6.0</td>\n",
              "    </tr>\n",
              "    <tr>\n",
              "      <th>2.0</th>\n",
              "      <td>11.0</td>\n",
              "      <td>3.545455</td>\n",
              "      <td>2.018100</td>\n",
              "      <td>0.0</td>\n",
              "      <td>3.00</td>\n",
              "      <td>4.0</td>\n",
              "      <td>5.00</td>\n",
              "      <td>6.0</td>\n",
              "    </tr>\n",
              "    <tr>\n",
              "      <th>3.0</th>\n",
              "      <td>10.0</td>\n",
              "      <td>2.300000</td>\n",
              "      <td>2.496664</td>\n",
              "      <td>0.0</td>\n",
              "      <td>1.00</td>\n",
              "      <td>2.0</td>\n",
              "      <td>2.00</td>\n",
              "      <td>9.0</td>\n",
              "    </tr>\n",
              "    <tr>\n",
              "      <th>4.0</th>\n",
              "      <td>13.0</td>\n",
              "      <td>1.230769</td>\n",
              "      <td>1.012739</td>\n",
              "      <td>0.0</td>\n",
              "      <td>0.00</td>\n",
              "      <td>1.0</td>\n",
              "      <td>2.00</td>\n",
              "      <td>3.0</td>\n",
              "    </tr>\n",
              "    <tr>\n",
              "      <th>5.0</th>\n",
              "      <td>3.0</td>\n",
              "      <td>2.333333</td>\n",
              "      <td>1.527525</td>\n",
              "      <td>1.0</td>\n",
              "      <td>1.50</td>\n",
              "      <td>2.0</td>\n",
              "      <td>3.00</td>\n",
              "      <td>4.0</td>\n",
              "    </tr>\n",
              "    <tr>\n",
              "      <th rowspan=\"5\" valign=\"top\">2</th>\n",
              "      <th>1.0</th>\n",
              "      <td>11.0</td>\n",
              "      <td>2.727273</td>\n",
              "      <td>2.195036</td>\n",
              "      <td>0.0</td>\n",
              "      <td>0.50</td>\n",
              "      <td>4.0</td>\n",
              "      <td>4.00</td>\n",
              "      <td>6.0</td>\n",
              "    </tr>\n",
              "    <tr>\n",
              "      <th>2.0</th>\n",
              "      <td>20.0</td>\n",
              "      <td>3.300000</td>\n",
              "      <td>1.750188</td>\n",
              "      <td>0.0</td>\n",
              "      <td>1.75</td>\n",
              "      <td>4.0</td>\n",
              "      <td>5.00</td>\n",
              "      <td>6.0</td>\n",
              "    </tr>\n",
              "    <tr>\n",
              "      <th>3.0</th>\n",
              "      <td>20.0</td>\n",
              "      <td>1.450000</td>\n",
              "      <td>1.394538</td>\n",
              "      <td>0.0</td>\n",
              "      <td>0.00</td>\n",
              "      <td>1.0</td>\n",
              "      <td>2.00</td>\n",
              "      <td>4.0</td>\n",
              "    </tr>\n",
              "    <tr>\n",
              "      <th>4.0</th>\n",
              "      <td>34.0</td>\n",
              "      <td>1.441176</td>\n",
              "      <td>1.210839</td>\n",
              "      <td>0.0</td>\n",
              "      <td>1.00</td>\n",
              "      <td>1.0</td>\n",
              "      <td>2.00</td>\n",
              "      <td>4.0</td>\n",
              "    </tr>\n",
              "    <tr>\n",
              "      <th>5.0</th>\n",
              "      <td>10.0</td>\n",
              "      <td>1.000000</td>\n",
              "      <td>1.490712</td>\n",
              "      <td>0.0</td>\n",
              "      <td>0.00</td>\n",
              "      <td>0.0</td>\n",
              "      <td>1.75</td>\n",
              "      <td>4.0</td>\n",
              "    </tr>\n",
              "    <tr>\n",
              "      <th rowspan=\"6\" valign=\"top\">3</th>\n",
              "      <th>0.0</th>\n",
              "      <td>1.0</td>\n",
              "      <td>4.000000</td>\n",
              "      <td>NaN</td>\n",
              "      <td>4.0</td>\n",
              "      <td>4.00</td>\n",
              "      <td>4.0</td>\n",
              "      <td>4.00</td>\n",
              "      <td>4.0</td>\n",
              "    </tr>\n",
              "    <tr>\n",
              "      <th>1.0</th>\n",
              "      <td>20.0</td>\n",
              "      <td>3.750000</td>\n",
              "      <td>1.996708</td>\n",
              "      <td>0.0</td>\n",
              "      <td>2.00</td>\n",
              "      <td>4.0</td>\n",
              "      <td>5.25</td>\n",
              "      <td>7.0</td>\n",
              "    </tr>\n",
              "    <tr>\n",
              "      <th>2.0</th>\n",
              "      <td>43.0</td>\n",
              "      <td>3.534884</td>\n",
              "      <td>2.039477</td>\n",
              "      <td>0.0</td>\n",
              "      <td>2.00</td>\n",
              "      <td>4.0</td>\n",
              "      <td>5.00</td>\n",
              "      <td>8.0</td>\n",
              "    </tr>\n",
              "    <tr>\n",
              "      <th>3.0</th>\n",
              "      <td>27.0</td>\n",
              "      <td>1.592593</td>\n",
              "      <td>1.623369</td>\n",
              "      <td>0.0</td>\n",
              "      <td>0.50</td>\n",
              "      <td>1.0</td>\n",
              "      <td>2.00</td>\n",
              "      <td>6.0</td>\n",
              "    </tr>\n",
              "    <tr>\n",
              "      <th>4.0</th>\n",
              "      <td>37.0</td>\n",
              "      <td>1.378378</td>\n",
              "      <td>1.138990</td>\n",
              "      <td>0.0</td>\n",
              "      <td>0.00</td>\n",
              "      <td>1.0</td>\n",
              "      <td>2.00</td>\n",
              "      <td>4.0</td>\n",
              "    </tr>\n",
              "    <tr>\n",
              "      <th>5.0</th>\n",
              "      <td>6.0</td>\n",
              "      <td>1.500000</td>\n",
              "      <td>1.378405</td>\n",
              "      <td>0.0</td>\n",
              "      <td>1.00</td>\n",
              "      <td>1.0</td>\n",
              "      <td>1.75</td>\n",
              "      <td>4.0</td>\n",
              "    </tr>\n",
              "    <tr>\n",
              "      <th rowspan=\"6\" valign=\"top\">4</th>\n",
              "      <th>0.0</th>\n",
              "      <td>3.0</td>\n",
              "      <td>3.333333</td>\n",
              "      <td>2.081666</td>\n",
              "      <td>1.0</td>\n",
              "      <td>2.50</td>\n",
              "      <td>4.0</td>\n",
              "      <td>4.50</td>\n",
              "      <td>5.0</td>\n",
              "    </tr>\n",
              "    <tr>\n",
              "      <th>1.0</th>\n",
              "      <td>6.0</td>\n",
              "      <td>3.166667</td>\n",
              "      <td>2.136976</td>\n",
              "      <td>0.0</td>\n",
              "      <td>2.00</td>\n",
              "      <td>3.5</td>\n",
              "      <td>5.00</td>\n",
              "      <td>5.0</td>\n",
              "    </tr>\n",
              "    <tr>\n",
              "      <th>2.0</th>\n",
              "      <td>39.0</td>\n",
              "      <td>3.102564</td>\n",
              "      <td>1.860884</td>\n",
              "      <td>0.0</td>\n",
              "      <td>1.50</td>\n",
              "      <td>4.0</td>\n",
              "      <td>4.50</td>\n",
              "      <td>7.0</td>\n",
              "    </tr>\n",
              "    <tr>\n",
              "      <th>3.0</th>\n",
              "      <td>29.0</td>\n",
              "      <td>1.793103</td>\n",
              "      <td>1.448628</td>\n",
              "      <td>0.0</td>\n",
              "      <td>1.00</td>\n",
              "      <td>2.0</td>\n",
              "      <td>3.00</td>\n",
              "      <td>5.0</td>\n",
              "    </tr>\n",
              "    <tr>\n",
              "      <th>4.0</th>\n",
              "      <td>39.0</td>\n",
              "      <td>1.769231</td>\n",
              "      <td>1.512432</td>\n",
              "      <td>0.0</td>\n",
              "      <td>1.00</td>\n",
              "      <td>1.0</td>\n",
              "      <td>3.00</td>\n",
              "      <td>5.0</td>\n",
              "    </tr>\n",
              "    <tr>\n",
              "      <th>5.0</th>\n",
              "      <td>5.0</td>\n",
              "      <td>1.000000</td>\n",
              "      <td>0.707107</td>\n",
              "      <td>0.0</td>\n",
              "      <td>1.00</td>\n",
              "      <td>1.0</td>\n",
              "      <td>1.00</td>\n",
              "      <td>2.0</td>\n",
              "    </tr>\n",
              "    <tr>\n",
              "      <th rowspan=\"6\" valign=\"top\">5</th>\n",
              "      <th>0.0</th>\n",
              "      <td>1.0</td>\n",
              "      <td>0.000000</td>\n",
              "      <td>NaN</td>\n",
              "      <td>0.0</td>\n",
              "      <td>0.00</td>\n",
              "      <td>0.0</td>\n",
              "      <td>0.00</td>\n",
              "      <td>0.0</td>\n",
              "    </tr>\n",
              "    <tr>\n",
              "      <th>1.0</th>\n",
              "      <td>3.0</td>\n",
              "      <td>4.000000</td>\n",
              "      <td>0.000000</td>\n",
              "      <td>4.0</td>\n",
              "      <td>4.00</td>\n",
              "      <td>4.0</td>\n",
              "      <td>4.00</td>\n",
              "      <td>4.0</td>\n",
              "    </tr>\n",
              "    <tr>\n",
              "      <th>2.0</th>\n",
              "      <td>17.0</td>\n",
              "      <td>3.117647</td>\n",
              "      <td>1.900077</td>\n",
              "      <td>0.0</td>\n",
              "      <td>1.00</td>\n",
              "      <td>4.0</td>\n",
              "      <td>4.00</td>\n",
              "      <td>7.0</td>\n",
              "    </tr>\n",
              "    <tr>\n",
              "      <th>3.0</th>\n",
              "      <td>14.0</td>\n",
              "      <td>1.642857</td>\n",
              "      <td>2.405351</td>\n",
              "      <td>0.0</td>\n",
              "      <td>0.00</td>\n",
              "      <td>1.0</td>\n",
              "      <td>2.00</td>\n",
              "      <td>9.0</td>\n",
              "    </tr>\n",
              "    <tr>\n",
              "      <th>4.0</th>\n",
              "      <td>9.0</td>\n",
              "      <td>1.222222</td>\n",
              "      <td>0.971825</td>\n",
              "      <td>0.0</td>\n",
              "      <td>1.00</td>\n",
              "      <td>1.0</td>\n",
              "      <td>2.00</td>\n",
              "      <td>3.0</td>\n",
              "    </tr>\n",
              "    <tr>\n",
              "      <th>5.0</th>\n",
              "      <td>5.0</td>\n",
              "      <td>1.800000</td>\n",
              "      <td>1.303840</td>\n",
              "      <td>1.0</td>\n",
              "      <td>1.00</td>\n",
              "      <td>1.0</td>\n",
              "      <td>2.00</td>\n",
              "      <td>4.0</td>\n",
              "    </tr>\n",
              "    <tr>\n",
              "      <th rowspan=\"4\" valign=\"top\">6</th>\n",
              "      <th>1.0</th>\n",
              "      <td>1.0</td>\n",
              "      <td>2.000000</td>\n",
              "      <td>NaN</td>\n",
              "      <td>2.0</td>\n",
              "      <td>2.00</td>\n",
              "      <td>2.0</td>\n",
              "      <td>2.00</td>\n",
              "      <td>2.0</td>\n",
              "    </tr>\n",
              "    <tr>\n",
              "      <th>2.0</th>\n",
              "      <td>4.0</td>\n",
              "      <td>2.000000</td>\n",
              "      <td>1.632993</td>\n",
              "      <td>0.0</td>\n",
              "      <td>1.50</td>\n",
              "      <td>2.0</td>\n",
              "      <td>2.50</td>\n",
              "      <td>4.0</td>\n",
              "    </tr>\n",
              "    <tr>\n",
              "      <th>3.0</th>\n",
              "      <td>4.0</td>\n",
              "      <td>2.250000</td>\n",
              "      <td>1.500000</td>\n",
              "      <td>1.0</td>\n",
              "      <td>1.00</td>\n",
              "      <td>2.0</td>\n",
              "      <td>3.25</td>\n",
              "      <td>4.0</td>\n",
              "    </tr>\n",
              "    <tr>\n",
              "      <th>4.0</th>\n",
              "      <td>11.0</td>\n",
              "      <td>1.636364</td>\n",
              "      <td>1.120065</td>\n",
              "      <td>0.0</td>\n",
              "      <td>1.00</td>\n",
              "      <td>2.0</td>\n",
              "      <td>2.50</td>\n",
              "      <td>3.0</td>\n",
              "    </tr>\n",
              "    <tr>\n",
              "      <th rowspan=\"4\" valign=\"top\">7</th>\n",
              "      <th>2.0</th>\n",
              "      <td>1.0</td>\n",
              "      <td>5.000000</td>\n",
              "      <td>NaN</td>\n",
              "      <td>5.0</td>\n",
              "      <td>5.00</td>\n",
              "      <td>5.0</td>\n",
              "      <td>5.00</td>\n",
              "      <td>5.0</td>\n",
              "    </tr>\n",
              "    <tr>\n",
              "      <th>3.0</th>\n",
              "      <td>2.0</td>\n",
              "      <td>1.500000</td>\n",
              "      <td>0.707107</td>\n",
              "      <td>1.0</td>\n",
              "      <td>1.25</td>\n",
              "      <td>1.5</td>\n",
              "      <td>1.75</td>\n",
              "      <td>2.0</td>\n",
              "    </tr>\n",
              "    <tr>\n",
              "      <th>4.0</th>\n",
              "      <td>1.0</td>\n",
              "      <td>3.000000</td>\n",
              "      <td>NaN</td>\n",
              "      <td>3.0</td>\n",
              "      <td>3.00</td>\n",
              "      <td>3.0</td>\n",
              "      <td>3.00</td>\n",
              "      <td>3.0</td>\n",
              "    </tr>\n",
              "    <tr>\n",
              "      <th>5.0</th>\n",
              "      <td>1.0</td>\n",
              "      <td>2.000000</td>\n",
              "      <td>NaN</td>\n",
              "      <td>2.0</td>\n",
              "      <td>2.00</td>\n",
              "      <td>2.0</td>\n",
              "      <td>2.00</td>\n",
              "      <td>2.0</td>\n",
              "    </tr>\n",
              "    <tr>\n",
              "      <th>8</th>\n",
              "      <th>2.0</th>\n",
              "      <td>2.0</td>\n",
              "      <td>0.500000</td>\n",
              "      <td>0.707107</td>\n",
              "      <td>0.0</td>\n",
              "      <td>0.25</td>\n",
              "      <td>0.5</td>\n",
              "      <td>0.75</td>\n",
              "      <td>1.0</td>\n",
              "    </tr>\n",
              "  </tbody>\n",
              "</table>\n",
              "</div>"
            ],
            "text/plain": [
              "                        count      mean       std  min   25%  50%   75%  max\n",
              "Months total_day_hours                                                      \n",
              "0      1.0                2.0  3.000000  2.828427  1.0  2.00  3.0  4.00  5.0\n",
              "       2.0                4.0  2.500000  2.516611  0.0  1.50  2.0  3.00  6.0\n",
              "       3.0                3.0  2.333333  2.516611  0.0  1.00  2.0  3.50  5.0\n",
              "       4.0                5.0  1.000000  0.707107  0.0  1.00  1.0  1.00  2.0\n",
              "       5.0                2.0  1.000000  1.414214  0.0  0.50  1.0  1.50  2.0\n",
              "1      0.0                1.0  0.000000       NaN  0.0  0.00  0.0  0.00  0.0\n",
              "       1.0                3.0  3.000000  2.645751  1.0  1.50  2.0  4.00  6.0\n",
              "       2.0               11.0  3.545455  2.018100  0.0  3.00  4.0  5.00  6.0\n",
              "       3.0               10.0  2.300000  2.496664  0.0  1.00  2.0  2.00  9.0\n",
              "       4.0               13.0  1.230769  1.012739  0.0  0.00  1.0  2.00  3.0\n",
              "       5.0                3.0  2.333333  1.527525  1.0  1.50  2.0  3.00  4.0\n",
              "2      1.0               11.0  2.727273  2.195036  0.0  0.50  4.0  4.00  6.0\n",
              "       2.0               20.0  3.300000  1.750188  0.0  1.75  4.0  5.00  6.0\n",
              "       3.0               20.0  1.450000  1.394538  0.0  0.00  1.0  2.00  4.0\n",
              "       4.0               34.0  1.441176  1.210839  0.0  1.00  1.0  2.00  4.0\n",
              "       5.0               10.0  1.000000  1.490712  0.0  0.00  0.0  1.75  4.0\n",
              "3      0.0                1.0  4.000000       NaN  4.0  4.00  4.0  4.00  4.0\n",
              "       1.0               20.0  3.750000  1.996708  0.0  2.00  4.0  5.25  7.0\n",
              "       2.0               43.0  3.534884  2.039477  0.0  2.00  4.0  5.00  8.0\n",
              "       3.0               27.0  1.592593  1.623369  0.0  0.50  1.0  2.00  6.0\n",
              "       4.0               37.0  1.378378  1.138990  0.0  0.00  1.0  2.00  4.0\n",
              "       5.0                6.0  1.500000  1.378405  0.0  1.00  1.0  1.75  4.0\n",
              "4      0.0                3.0  3.333333  2.081666  1.0  2.50  4.0  4.50  5.0\n",
              "       1.0                6.0  3.166667  2.136976  0.0  2.00  3.5  5.00  5.0\n",
              "       2.0               39.0  3.102564  1.860884  0.0  1.50  4.0  4.50  7.0\n",
              "       3.0               29.0  1.793103  1.448628  0.0  1.00  2.0  3.00  5.0\n",
              "       4.0               39.0  1.769231  1.512432  0.0  1.00  1.0  3.00  5.0\n",
              "       5.0                5.0  1.000000  0.707107  0.0  1.00  1.0  1.00  2.0\n",
              "5      0.0                1.0  0.000000       NaN  0.0  0.00  0.0  0.00  0.0\n",
              "       1.0                3.0  4.000000  0.000000  4.0  4.00  4.0  4.00  4.0\n",
              "       2.0               17.0  3.117647  1.900077  0.0  1.00  4.0  4.00  7.0\n",
              "       3.0               14.0  1.642857  2.405351  0.0  0.00  1.0  2.00  9.0\n",
              "       4.0                9.0  1.222222  0.971825  0.0  1.00  1.0  2.00  3.0\n",
              "       5.0                5.0  1.800000  1.303840  1.0  1.00  1.0  2.00  4.0\n",
              "6      1.0                1.0  2.000000       NaN  2.0  2.00  2.0  2.00  2.0\n",
              "       2.0                4.0  2.000000  1.632993  0.0  1.50  2.0  2.50  4.0\n",
              "       3.0                4.0  2.250000  1.500000  1.0  1.00  2.0  3.25  4.0\n",
              "       4.0               11.0  1.636364  1.120065  0.0  1.00  2.0  2.50  3.0\n",
              "7      2.0                1.0  5.000000       NaN  5.0  5.00  5.0  5.00  5.0\n",
              "       3.0                2.0  1.500000  0.707107  1.0  1.25  1.5  1.75  2.0\n",
              "       4.0                1.0  3.000000       NaN  3.0  3.00  3.0  3.00  3.0\n",
              "       5.0                1.0  2.000000       NaN  2.0  2.00  2.0  2.00  2.0\n",
              "8      2.0                2.0  0.500000  0.707107  0.0  0.25  0.5  0.75  1.0"
            ]
          },
          "metadata": {
            "tags": []
          },
          "execution_count": 65
        }
      ]
    },
    {
      "cell_type": "code",
      "metadata": {
        "colab": {
          "base_uri": "https://localhost:8080/",
          "height": 1000
        },
        "id": "jjorJw4QUv8t",
        "outputId": "db5408a8-e23d-405f-e790-3701c014e6a5"
      },
      "source": [
        "\n",
        "day_hours_time = churn_true.groupby(['total_day_hours','Months'])['Customer service calls'].describe()\n",
        "day_hours_time.reset_index(inplace=True)\n",
        "day_hours_time"
      ],
      "execution_count": 66,
      "outputs": [
        {
          "output_type": "execute_result",
          "data": {
            "text/html": [
              "<div>\n",
              "<style scoped>\n",
              "    .dataframe tbody tr th:only-of-type {\n",
              "        vertical-align: middle;\n",
              "    }\n",
              "\n",
              "    .dataframe tbody tr th {\n",
              "        vertical-align: top;\n",
              "    }\n",
              "\n",
              "    .dataframe thead th {\n",
              "        text-align: right;\n",
              "    }\n",
              "</style>\n",
              "<table border=\"1\" class=\"dataframe\">\n",
              "  <thead>\n",
              "    <tr style=\"text-align: right;\">\n",
              "      <th></th>\n",
              "      <th>total_day_hours</th>\n",
              "      <th>Months</th>\n",
              "      <th>count</th>\n",
              "      <th>mean</th>\n",
              "      <th>std</th>\n",
              "      <th>min</th>\n",
              "      <th>25%</th>\n",
              "      <th>50%</th>\n",
              "      <th>75%</th>\n",
              "      <th>max</th>\n",
              "    </tr>\n",
              "  </thead>\n",
              "  <tbody>\n",
              "    <tr>\n",
              "      <th>0</th>\n",
              "      <td>0.0</td>\n",
              "      <td>1</td>\n",
              "      <td>1.0</td>\n",
              "      <td>0.000000</td>\n",
              "      <td>NaN</td>\n",
              "      <td>0.0</td>\n",
              "      <td>0.00</td>\n",
              "      <td>0.0</td>\n",
              "      <td>0.00</td>\n",
              "      <td>0.0</td>\n",
              "    </tr>\n",
              "    <tr>\n",
              "      <th>1</th>\n",
              "      <td>0.0</td>\n",
              "      <td>3</td>\n",
              "      <td>1.0</td>\n",
              "      <td>4.000000</td>\n",
              "      <td>NaN</td>\n",
              "      <td>4.0</td>\n",
              "      <td>4.00</td>\n",
              "      <td>4.0</td>\n",
              "      <td>4.00</td>\n",
              "      <td>4.0</td>\n",
              "    </tr>\n",
              "    <tr>\n",
              "      <th>2</th>\n",
              "      <td>0.0</td>\n",
              "      <td>4</td>\n",
              "      <td>3.0</td>\n",
              "      <td>3.333333</td>\n",
              "      <td>2.081666</td>\n",
              "      <td>1.0</td>\n",
              "      <td>2.50</td>\n",
              "      <td>4.0</td>\n",
              "      <td>4.50</td>\n",
              "      <td>5.0</td>\n",
              "    </tr>\n",
              "    <tr>\n",
              "      <th>3</th>\n",
              "      <td>0.0</td>\n",
              "      <td>5</td>\n",
              "      <td>1.0</td>\n",
              "      <td>0.000000</td>\n",
              "      <td>NaN</td>\n",
              "      <td>0.0</td>\n",
              "      <td>0.00</td>\n",
              "      <td>0.0</td>\n",
              "      <td>0.00</td>\n",
              "      <td>0.0</td>\n",
              "    </tr>\n",
              "    <tr>\n",
              "      <th>4</th>\n",
              "      <td>1.0</td>\n",
              "      <td>0</td>\n",
              "      <td>2.0</td>\n",
              "      <td>3.000000</td>\n",
              "      <td>2.828427</td>\n",
              "      <td>1.0</td>\n",
              "      <td>2.00</td>\n",
              "      <td>3.0</td>\n",
              "      <td>4.00</td>\n",
              "      <td>5.0</td>\n",
              "    </tr>\n",
              "    <tr>\n",
              "      <th>5</th>\n",
              "      <td>1.0</td>\n",
              "      <td>1</td>\n",
              "      <td>3.0</td>\n",
              "      <td>3.000000</td>\n",
              "      <td>2.645751</td>\n",
              "      <td>1.0</td>\n",
              "      <td>1.50</td>\n",
              "      <td>2.0</td>\n",
              "      <td>4.00</td>\n",
              "      <td>6.0</td>\n",
              "    </tr>\n",
              "    <tr>\n",
              "      <th>6</th>\n",
              "      <td>1.0</td>\n",
              "      <td>2</td>\n",
              "      <td>11.0</td>\n",
              "      <td>2.727273</td>\n",
              "      <td>2.195036</td>\n",
              "      <td>0.0</td>\n",
              "      <td>0.50</td>\n",
              "      <td>4.0</td>\n",
              "      <td>4.00</td>\n",
              "      <td>6.0</td>\n",
              "    </tr>\n",
              "    <tr>\n",
              "      <th>7</th>\n",
              "      <td>1.0</td>\n",
              "      <td>3</td>\n",
              "      <td>20.0</td>\n",
              "      <td>3.750000</td>\n",
              "      <td>1.996708</td>\n",
              "      <td>0.0</td>\n",
              "      <td>2.00</td>\n",
              "      <td>4.0</td>\n",
              "      <td>5.25</td>\n",
              "      <td>7.0</td>\n",
              "    </tr>\n",
              "    <tr>\n",
              "      <th>8</th>\n",
              "      <td>1.0</td>\n",
              "      <td>4</td>\n",
              "      <td>6.0</td>\n",
              "      <td>3.166667</td>\n",
              "      <td>2.136976</td>\n",
              "      <td>0.0</td>\n",
              "      <td>2.00</td>\n",
              "      <td>3.5</td>\n",
              "      <td>5.00</td>\n",
              "      <td>5.0</td>\n",
              "    </tr>\n",
              "    <tr>\n",
              "      <th>9</th>\n",
              "      <td>1.0</td>\n",
              "      <td>5</td>\n",
              "      <td>3.0</td>\n",
              "      <td>4.000000</td>\n",
              "      <td>0.000000</td>\n",
              "      <td>4.0</td>\n",
              "      <td>4.00</td>\n",
              "      <td>4.0</td>\n",
              "      <td>4.00</td>\n",
              "      <td>4.0</td>\n",
              "    </tr>\n",
              "    <tr>\n",
              "      <th>10</th>\n",
              "      <td>1.0</td>\n",
              "      <td>6</td>\n",
              "      <td>1.0</td>\n",
              "      <td>2.000000</td>\n",
              "      <td>NaN</td>\n",
              "      <td>2.0</td>\n",
              "      <td>2.00</td>\n",
              "      <td>2.0</td>\n",
              "      <td>2.00</td>\n",
              "      <td>2.0</td>\n",
              "    </tr>\n",
              "    <tr>\n",
              "      <th>11</th>\n",
              "      <td>2.0</td>\n",
              "      <td>0</td>\n",
              "      <td>4.0</td>\n",
              "      <td>2.500000</td>\n",
              "      <td>2.516611</td>\n",
              "      <td>0.0</td>\n",
              "      <td>1.50</td>\n",
              "      <td>2.0</td>\n",
              "      <td>3.00</td>\n",
              "      <td>6.0</td>\n",
              "    </tr>\n",
              "    <tr>\n",
              "      <th>12</th>\n",
              "      <td>2.0</td>\n",
              "      <td>1</td>\n",
              "      <td>11.0</td>\n",
              "      <td>3.545455</td>\n",
              "      <td>2.018100</td>\n",
              "      <td>0.0</td>\n",
              "      <td>3.00</td>\n",
              "      <td>4.0</td>\n",
              "      <td>5.00</td>\n",
              "      <td>6.0</td>\n",
              "    </tr>\n",
              "    <tr>\n",
              "      <th>13</th>\n",
              "      <td>2.0</td>\n",
              "      <td>2</td>\n",
              "      <td>20.0</td>\n",
              "      <td>3.300000</td>\n",
              "      <td>1.750188</td>\n",
              "      <td>0.0</td>\n",
              "      <td>1.75</td>\n",
              "      <td>4.0</td>\n",
              "      <td>5.00</td>\n",
              "      <td>6.0</td>\n",
              "    </tr>\n",
              "    <tr>\n",
              "      <th>14</th>\n",
              "      <td>2.0</td>\n",
              "      <td>3</td>\n",
              "      <td>43.0</td>\n",
              "      <td>3.534884</td>\n",
              "      <td>2.039477</td>\n",
              "      <td>0.0</td>\n",
              "      <td>2.00</td>\n",
              "      <td>4.0</td>\n",
              "      <td>5.00</td>\n",
              "      <td>8.0</td>\n",
              "    </tr>\n",
              "    <tr>\n",
              "      <th>15</th>\n",
              "      <td>2.0</td>\n",
              "      <td>4</td>\n",
              "      <td>39.0</td>\n",
              "      <td>3.102564</td>\n",
              "      <td>1.860884</td>\n",
              "      <td>0.0</td>\n",
              "      <td>1.50</td>\n",
              "      <td>4.0</td>\n",
              "      <td>4.50</td>\n",
              "      <td>7.0</td>\n",
              "    </tr>\n",
              "    <tr>\n",
              "      <th>16</th>\n",
              "      <td>2.0</td>\n",
              "      <td>5</td>\n",
              "      <td>17.0</td>\n",
              "      <td>3.117647</td>\n",
              "      <td>1.900077</td>\n",
              "      <td>0.0</td>\n",
              "      <td>1.00</td>\n",
              "      <td>4.0</td>\n",
              "      <td>4.00</td>\n",
              "      <td>7.0</td>\n",
              "    </tr>\n",
              "    <tr>\n",
              "      <th>17</th>\n",
              "      <td>2.0</td>\n",
              "      <td>6</td>\n",
              "      <td>4.0</td>\n",
              "      <td>2.000000</td>\n",
              "      <td>1.632993</td>\n",
              "      <td>0.0</td>\n",
              "      <td>1.50</td>\n",
              "      <td>2.0</td>\n",
              "      <td>2.50</td>\n",
              "      <td>4.0</td>\n",
              "    </tr>\n",
              "    <tr>\n",
              "      <th>18</th>\n",
              "      <td>2.0</td>\n",
              "      <td>7</td>\n",
              "      <td>1.0</td>\n",
              "      <td>5.000000</td>\n",
              "      <td>NaN</td>\n",
              "      <td>5.0</td>\n",
              "      <td>5.00</td>\n",
              "      <td>5.0</td>\n",
              "      <td>5.00</td>\n",
              "      <td>5.0</td>\n",
              "    </tr>\n",
              "    <tr>\n",
              "      <th>19</th>\n",
              "      <td>2.0</td>\n",
              "      <td>8</td>\n",
              "      <td>2.0</td>\n",
              "      <td>0.500000</td>\n",
              "      <td>0.707107</td>\n",
              "      <td>0.0</td>\n",
              "      <td>0.25</td>\n",
              "      <td>0.5</td>\n",
              "      <td>0.75</td>\n",
              "      <td>1.0</td>\n",
              "    </tr>\n",
              "    <tr>\n",
              "      <th>20</th>\n",
              "      <td>3.0</td>\n",
              "      <td>0</td>\n",
              "      <td>3.0</td>\n",
              "      <td>2.333333</td>\n",
              "      <td>2.516611</td>\n",
              "      <td>0.0</td>\n",
              "      <td>1.00</td>\n",
              "      <td>2.0</td>\n",
              "      <td>3.50</td>\n",
              "      <td>5.0</td>\n",
              "    </tr>\n",
              "    <tr>\n",
              "      <th>21</th>\n",
              "      <td>3.0</td>\n",
              "      <td>1</td>\n",
              "      <td>10.0</td>\n",
              "      <td>2.300000</td>\n",
              "      <td>2.496664</td>\n",
              "      <td>0.0</td>\n",
              "      <td>1.00</td>\n",
              "      <td>2.0</td>\n",
              "      <td>2.00</td>\n",
              "      <td>9.0</td>\n",
              "    </tr>\n",
              "    <tr>\n",
              "      <th>22</th>\n",
              "      <td>3.0</td>\n",
              "      <td>2</td>\n",
              "      <td>20.0</td>\n",
              "      <td>1.450000</td>\n",
              "      <td>1.394538</td>\n",
              "      <td>0.0</td>\n",
              "      <td>0.00</td>\n",
              "      <td>1.0</td>\n",
              "      <td>2.00</td>\n",
              "      <td>4.0</td>\n",
              "    </tr>\n",
              "    <tr>\n",
              "      <th>23</th>\n",
              "      <td>3.0</td>\n",
              "      <td>3</td>\n",
              "      <td>27.0</td>\n",
              "      <td>1.592593</td>\n",
              "      <td>1.623369</td>\n",
              "      <td>0.0</td>\n",
              "      <td>0.50</td>\n",
              "      <td>1.0</td>\n",
              "      <td>2.00</td>\n",
              "      <td>6.0</td>\n",
              "    </tr>\n",
              "    <tr>\n",
              "      <th>24</th>\n",
              "      <td>3.0</td>\n",
              "      <td>4</td>\n",
              "      <td>29.0</td>\n",
              "      <td>1.793103</td>\n",
              "      <td>1.448628</td>\n",
              "      <td>0.0</td>\n",
              "      <td>1.00</td>\n",
              "      <td>2.0</td>\n",
              "      <td>3.00</td>\n",
              "      <td>5.0</td>\n",
              "    </tr>\n",
              "    <tr>\n",
              "      <th>25</th>\n",
              "      <td>3.0</td>\n",
              "      <td>5</td>\n",
              "      <td>14.0</td>\n",
              "      <td>1.642857</td>\n",
              "      <td>2.405351</td>\n",
              "      <td>0.0</td>\n",
              "      <td>0.00</td>\n",
              "      <td>1.0</td>\n",
              "      <td>2.00</td>\n",
              "      <td>9.0</td>\n",
              "    </tr>\n",
              "    <tr>\n",
              "      <th>26</th>\n",
              "      <td>3.0</td>\n",
              "      <td>6</td>\n",
              "      <td>4.0</td>\n",
              "      <td>2.250000</td>\n",
              "      <td>1.500000</td>\n",
              "      <td>1.0</td>\n",
              "      <td>1.00</td>\n",
              "      <td>2.0</td>\n",
              "      <td>3.25</td>\n",
              "      <td>4.0</td>\n",
              "    </tr>\n",
              "    <tr>\n",
              "      <th>27</th>\n",
              "      <td>3.0</td>\n",
              "      <td>7</td>\n",
              "      <td>2.0</td>\n",
              "      <td>1.500000</td>\n",
              "      <td>0.707107</td>\n",
              "      <td>1.0</td>\n",
              "      <td>1.25</td>\n",
              "      <td>1.5</td>\n",
              "      <td>1.75</td>\n",
              "      <td>2.0</td>\n",
              "    </tr>\n",
              "    <tr>\n",
              "      <th>28</th>\n",
              "      <td>4.0</td>\n",
              "      <td>0</td>\n",
              "      <td>5.0</td>\n",
              "      <td>1.000000</td>\n",
              "      <td>0.707107</td>\n",
              "      <td>0.0</td>\n",
              "      <td>1.00</td>\n",
              "      <td>1.0</td>\n",
              "      <td>1.00</td>\n",
              "      <td>2.0</td>\n",
              "    </tr>\n",
              "    <tr>\n",
              "      <th>29</th>\n",
              "      <td>4.0</td>\n",
              "      <td>1</td>\n",
              "      <td>13.0</td>\n",
              "      <td>1.230769</td>\n",
              "      <td>1.012739</td>\n",
              "      <td>0.0</td>\n",
              "      <td>0.00</td>\n",
              "      <td>1.0</td>\n",
              "      <td>2.00</td>\n",
              "      <td>3.0</td>\n",
              "    </tr>\n",
              "    <tr>\n",
              "      <th>30</th>\n",
              "      <td>4.0</td>\n",
              "      <td>2</td>\n",
              "      <td>34.0</td>\n",
              "      <td>1.441176</td>\n",
              "      <td>1.210839</td>\n",
              "      <td>0.0</td>\n",
              "      <td>1.00</td>\n",
              "      <td>1.0</td>\n",
              "      <td>2.00</td>\n",
              "      <td>4.0</td>\n",
              "    </tr>\n",
              "    <tr>\n",
              "      <th>31</th>\n",
              "      <td>4.0</td>\n",
              "      <td>3</td>\n",
              "      <td>37.0</td>\n",
              "      <td>1.378378</td>\n",
              "      <td>1.138990</td>\n",
              "      <td>0.0</td>\n",
              "      <td>0.00</td>\n",
              "      <td>1.0</td>\n",
              "      <td>2.00</td>\n",
              "      <td>4.0</td>\n",
              "    </tr>\n",
              "    <tr>\n",
              "      <th>32</th>\n",
              "      <td>4.0</td>\n",
              "      <td>4</td>\n",
              "      <td>39.0</td>\n",
              "      <td>1.769231</td>\n",
              "      <td>1.512432</td>\n",
              "      <td>0.0</td>\n",
              "      <td>1.00</td>\n",
              "      <td>1.0</td>\n",
              "      <td>3.00</td>\n",
              "      <td>5.0</td>\n",
              "    </tr>\n",
              "    <tr>\n",
              "      <th>33</th>\n",
              "      <td>4.0</td>\n",
              "      <td>5</td>\n",
              "      <td>9.0</td>\n",
              "      <td>1.222222</td>\n",
              "      <td>0.971825</td>\n",
              "      <td>0.0</td>\n",
              "      <td>1.00</td>\n",
              "      <td>1.0</td>\n",
              "      <td>2.00</td>\n",
              "      <td>3.0</td>\n",
              "    </tr>\n",
              "    <tr>\n",
              "      <th>34</th>\n",
              "      <td>4.0</td>\n",
              "      <td>6</td>\n",
              "      <td>11.0</td>\n",
              "      <td>1.636364</td>\n",
              "      <td>1.120065</td>\n",
              "      <td>0.0</td>\n",
              "      <td>1.00</td>\n",
              "      <td>2.0</td>\n",
              "      <td>2.50</td>\n",
              "      <td>3.0</td>\n",
              "    </tr>\n",
              "    <tr>\n",
              "      <th>35</th>\n",
              "      <td>4.0</td>\n",
              "      <td>7</td>\n",
              "      <td>1.0</td>\n",
              "      <td>3.000000</td>\n",
              "      <td>NaN</td>\n",
              "      <td>3.0</td>\n",
              "      <td>3.00</td>\n",
              "      <td>3.0</td>\n",
              "      <td>3.00</td>\n",
              "      <td>3.0</td>\n",
              "    </tr>\n",
              "    <tr>\n",
              "      <th>36</th>\n",
              "      <td>5.0</td>\n",
              "      <td>0</td>\n",
              "      <td>2.0</td>\n",
              "      <td>1.000000</td>\n",
              "      <td>1.414214</td>\n",
              "      <td>0.0</td>\n",
              "      <td>0.50</td>\n",
              "      <td>1.0</td>\n",
              "      <td>1.50</td>\n",
              "      <td>2.0</td>\n",
              "    </tr>\n",
              "    <tr>\n",
              "      <th>37</th>\n",
              "      <td>5.0</td>\n",
              "      <td>1</td>\n",
              "      <td>3.0</td>\n",
              "      <td>2.333333</td>\n",
              "      <td>1.527525</td>\n",
              "      <td>1.0</td>\n",
              "      <td>1.50</td>\n",
              "      <td>2.0</td>\n",
              "      <td>3.00</td>\n",
              "      <td>4.0</td>\n",
              "    </tr>\n",
              "    <tr>\n",
              "      <th>38</th>\n",
              "      <td>5.0</td>\n",
              "      <td>2</td>\n",
              "      <td>10.0</td>\n",
              "      <td>1.000000</td>\n",
              "      <td>1.490712</td>\n",
              "      <td>0.0</td>\n",
              "      <td>0.00</td>\n",
              "      <td>0.0</td>\n",
              "      <td>1.75</td>\n",
              "      <td>4.0</td>\n",
              "    </tr>\n",
              "    <tr>\n",
              "      <th>39</th>\n",
              "      <td>5.0</td>\n",
              "      <td>3</td>\n",
              "      <td>6.0</td>\n",
              "      <td>1.500000</td>\n",
              "      <td>1.378405</td>\n",
              "      <td>0.0</td>\n",
              "      <td>1.00</td>\n",
              "      <td>1.0</td>\n",
              "      <td>1.75</td>\n",
              "      <td>4.0</td>\n",
              "    </tr>\n",
              "    <tr>\n",
              "      <th>40</th>\n",
              "      <td>5.0</td>\n",
              "      <td>4</td>\n",
              "      <td>5.0</td>\n",
              "      <td>1.000000</td>\n",
              "      <td>0.707107</td>\n",
              "      <td>0.0</td>\n",
              "      <td>1.00</td>\n",
              "      <td>1.0</td>\n",
              "      <td>1.00</td>\n",
              "      <td>2.0</td>\n",
              "    </tr>\n",
              "    <tr>\n",
              "      <th>41</th>\n",
              "      <td>5.0</td>\n",
              "      <td>5</td>\n",
              "      <td>5.0</td>\n",
              "      <td>1.800000</td>\n",
              "      <td>1.303840</td>\n",
              "      <td>1.0</td>\n",
              "      <td>1.00</td>\n",
              "      <td>1.0</td>\n",
              "      <td>2.00</td>\n",
              "      <td>4.0</td>\n",
              "    </tr>\n",
              "    <tr>\n",
              "      <th>42</th>\n",
              "      <td>5.0</td>\n",
              "      <td>7</td>\n",
              "      <td>1.0</td>\n",
              "      <td>2.000000</td>\n",
              "      <td>NaN</td>\n",
              "      <td>2.0</td>\n",
              "      <td>2.00</td>\n",
              "      <td>2.0</td>\n",
              "      <td>2.00</td>\n",
              "      <td>2.0</td>\n",
              "    </tr>\n",
              "  </tbody>\n",
              "</table>\n",
              "</div>"
            ],
            "text/plain": [
              "    total_day_hours  Months  count      mean  ...   25%  50%   75%  max\n",
              "0               0.0       1    1.0  0.000000  ...  0.00  0.0  0.00  0.0\n",
              "1               0.0       3    1.0  4.000000  ...  4.00  4.0  4.00  4.0\n",
              "2               0.0       4    3.0  3.333333  ...  2.50  4.0  4.50  5.0\n",
              "3               0.0       5    1.0  0.000000  ...  0.00  0.0  0.00  0.0\n",
              "4               1.0       0    2.0  3.000000  ...  2.00  3.0  4.00  5.0\n",
              "5               1.0       1    3.0  3.000000  ...  1.50  2.0  4.00  6.0\n",
              "6               1.0       2   11.0  2.727273  ...  0.50  4.0  4.00  6.0\n",
              "7               1.0       3   20.0  3.750000  ...  2.00  4.0  5.25  7.0\n",
              "8               1.0       4    6.0  3.166667  ...  2.00  3.5  5.00  5.0\n",
              "9               1.0       5    3.0  4.000000  ...  4.00  4.0  4.00  4.0\n",
              "10              1.0       6    1.0  2.000000  ...  2.00  2.0  2.00  2.0\n",
              "11              2.0       0    4.0  2.500000  ...  1.50  2.0  3.00  6.0\n",
              "12              2.0       1   11.0  3.545455  ...  3.00  4.0  5.00  6.0\n",
              "13              2.0       2   20.0  3.300000  ...  1.75  4.0  5.00  6.0\n",
              "14              2.0       3   43.0  3.534884  ...  2.00  4.0  5.00  8.0\n",
              "15              2.0       4   39.0  3.102564  ...  1.50  4.0  4.50  7.0\n",
              "16              2.0       5   17.0  3.117647  ...  1.00  4.0  4.00  7.0\n",
              "17              2.0       6    4.0  2.000000  ...  1.50  2.0  2.50  4.0\n",
              "18              2.0       7    1.0  5.000000  ...  5.00  5.0  5.00  5.0\n",
              "19              2.0       8    2.0  0.500000  ...  0.25  0.5  0.75  1.0\n",
              "20              3.0       0    3.0  2.333333  ...  1.00  2.0  3.50  5.0\n",
              "21              3.0       1   10.0  2.300000  ...  1.00  2.0  2.00  9.0\n",
              "22              3.0       2   20.0  1.450000  ...  0.00  1.0  2.00  4.0\n",
              "23              3.0       3   27.0  1.592593  ...  0.50  1.0  2.00  6.0\n",
              "24              3.0       4   29.0  1.793103  ...  1.00  2.0  3.00  5.0\n",
              "25              3.0       5   14.0  1.642857  ...  0.00  1.0  2.00  9.0\n",
              "26              3.0       6    4.0  2.250000  ...  1.00  2.0  3.25  4.0\n",
              "27              3.0       7    2.0  1.500000  ...  1.25  1.5  1.75  2.0\n",
              "28              4.0       0    5.0  1.000000  ...  1.00  1.0  1.00  2.0\n",
              "29              4.0       1   13.0  1.230769  ...  0.00  1.0  2.00  3.0\n",
              "30              4.0       2   34.0  1.441176  ...  1.00  1.0  2.00  4.0\n",
              "31              4.0       3   37.0  1.378378  ...  0.00  1.0  2.00  4.0\n",
              "32              4.0       4   39.0  1.769231  ...  1.00  1.0  3.00  5.0\n",
              "33              4.0       5    9.0  1.222222  ...  1.00  1.0  2.00  3.0\n",
              "34              4.0       6   11.0  1.636364  ...  1.00  2.0  2.50  3.0\n",
              "35              4.0       7    1.0  3.000000  ...  3.00  3.0  3.00  3.0\n",
              "36              5.0       0    2.0  1.000000  ...  0.50  1.0  1.50  2.0\n",
              "37              5.0       1    3.0  2.333333  ...  1.50  2.0  3.00  4.0\n",
              "38              5.0       2   10.0  1.000000  ...  0.00  0.0  1.75  4.0\n",
              "39              5.0       3    6.0  1.500000  ...  1.00  1.0  1.75  4.0\n",
              "40              5.0       4    5.0  1.000000  ...  1.00  1.0  1.00  2.0\n",
              "41              5.0       5    5.0  1.800000  ...  1.00  1.0  2.00  4.0\n",
              "42              5.0       7    1.0  2.000000  ...  2.00  2.0  2.00  2.0\n",
              "\n",
              "[43 rows x 10 columns]"
            ]
          },
          "metadata": {
            "tags": []
          },
          "execution_count": 66
        }
      ]
    },
    {
      "cell_type": "markdown",
      "metadata": {
        "id": "CC9ymp_VzL9Z"
      },
      "source": [
        "# In the graph below y axis represent churned customer for different months filtered by day hours usage"
      ]
    },
    {
      "cell_type": "code",
      "metadata": {
        "id": "u89dE1XFrJpT"
      },
      "source": [
        "(day_hours_time.pivot_table(index='Months', columns='total_day_hours', values='count',\n",
        "                aggfunc='sum', fill_value=0)\n",
        "   .plot.bar()\n",
        ")"
      ],
      "execution_count": null,
      "outputs": []
    },
    {
      "cell_type": "code",
      "metadata": {
        "colab": {
          "base_uri": "https://localhost:8080/",
          "height": 404
        },
        "id": "irI2K9S_V3o8",
        "outputId": "029805b5-fa92-4b7b-bba8-193644d7adfe"
      },
      "source": [
        "(day_hours_time.pivot_table(index='Months', columns='total_day_hours', values='count',\n",
        "                aggfunc='sum', fill_value=0)\n",
        "   .plot.bar(stacked=True)\n",
        ")"
      ],
      "execution_count": 89,
      "outputs": [
        {
          "output_type": "execute_result",
          "data": {
            "text/plain": [
              "<matplotlib.axes._subplots.AxesSubplot at 0x7fe4847234d0>"
            ]
          },
          "metadata": {
            "tags": []
          },
          "execution_count": 89
        },
        {
          "output_type": "display_data",
          "data": {
            "image/png": "[encoded data removed]",
            "text/plain": [
              "<Figure size 720x432 with 1 Axes>"
            ]
          },
          "metadata": {
            "tags": [],
            "needs_background": "light"
          }
        }
      ]
    },
    {
      "cell_type": "code",
      "metadata": {
        "id": "Qa6gJUCTrEEh"
      },
      "source": [
        ""
      ],
      "execution_count": 84,
      "outputs": []
    },
    {
      "cell_type": "markdown",
      "metadata": {
        "id": "eqtEDoB5kUZC"
      },
      "source": [
        "# Analyzing data wrt total_hrs, months, count of churned customer "
      ]
    },
    {
      "cell_type": "code",
      "metadata": {
        "colab": {
          "base_uri": "https://localhost:8080/",
          "height": 204
        },
        "id": "K9RR7V3hkAI-",
        "outputId": "56dd8b8b-49f9-4a50-877c-24527eaa9b67"
      },
      "source": [
        "total_hours_time = churn_true.groupby(['Months','total_hours'])['Account length'].describe()\n",
        "total_hours_time.reset_index(inplace = True)\n",
        "total_hours_time.head()"
      ],
      "execution_count": 81,
      "outputs": [
        {
          "output_type": "execute_result",
          "data": {
            "text/html": [
              "<div>\n",
              "<style scoped>\n",
              "    .dataframe tbody tr th:only-of-type {\n",
              "        vertical-align: middle;\n",
              "    }\n",
              "\n",
              "    .dataframe tbody tr th {\n",
              "        vertical-align: top;\n",
              "    }\n",
              "\n",
              "    .dataframe thead th {\n",
              "        text-align: right;\n",
              "    }\n",
              "</style>\n",
              "<table border=\"1\" class=\"dataframe\">\n",
              "  <thead>\n",
              "    <tr style=\"text-align: right;\">\n",
              "      <th></th>\n",
              "      <th>Months</th>\n",
              "      <th>total_hours</th>\n",
              "      <th>count</th>\n",
              "      <th>mean</th>\n",
              "      <th>std</th>\n",
              "      <th>min</th>\n",
              "      <th>25%</th>\n",
              "      <th>50%</th>\n",
              "      <th>75%</th>\n",
              "      <th>max</th>\n",
              "    </tr>\n",
              "  </thead>\n",
              "  <tbody>\n",
              "    <tr>\n",
              "      <th>0</th>\n",
              "      <td>0</td>\n",
              "      <td>7.0</td>\n",
              "      <td>2.0</td>\n",
              "      <td>1.500000</td>\n",
              "      <td>0.707107</td>\n",
              "      <td>1.0</td>\n",
              "      <td>1.25</td>\n",
              "      <td>1.5</td>\n",
              "      <td>1.75</td>\n",
              "      <td>2.0</td>\n",
              "    </tr>\n",
              "    <tr>\n",
              "      <th>1</th>\n",
              "      <td>0</td>\n",
              "      <td>8.0</td>\n",
              "      <td>2.0</td>\n",
              "      <td>22.500000</td>\n",
              "      <td>2.121320</td>\n",
              "      <td>21.0</td>\n",
              "      <td>21.75</td>\n",
              "      <td>22.5</td>\n",
              "      <td>23.25</td>\n",
              "      <td>24.0</td>\n",
              "    </tr>\n",
              "    <tr>\n",
              "      <th>2</th>\n",
              "      <td>0</td>\n",
              "      <td>9.0</td>\n",
              "      <td>2.0</td>\n",
              "      <td>20.000000</td>\n",
              "      <td>4.242641</td>\n",
              "      <td>17.0</td>\n",
              "      <td>18.50</td>\n",
              "      <td>20.0</td>\n",
              "      <td>21.50</td>\n",
              "      <td>23.0</td>\n",
              "    </tr>\n",
              "    <tr>\n",
              "      <th>3</th>\n",
              "      <td>0</td>\n",
              "      <td>10.0</td>\n",
              "      <td>3.0</td>\n",
              "      <td>21.333333</td>\n",
              "      <td>4.618802</td>\n",
              "      <td>16.0</td>\n",
              "      <td>20.00</td>\n",
              "      <td>24.0</td>\n",
              "      <td>24.00</td>\n",
              "      <td>24.0</td>\n",
              "    </tr>\n",
              "    <tr>\n",
              "      <th>4</th>\n",
              "      <td>0</td>\n",
              "      <td>11.0</td>\n",
              "      <td>4.0</td>\n",
              "      <td>20.000000</td>\n",
              "      <td>5.291503</td>\n",
              "      <td>13.0</td>\n",
              "      <td>17.50</td>\n",
              "      <td>21.0</td>\n",
              "      <td>23.50</td>\n",
              "      <td>25.0</td>\n",
              "    </tr>\n",
              "  </tbody>\n",
              "</table>\n",
              "</div>"
            ],
            "text/plain": [
              "   Months  total_hours  count       mean  ...    25%   50%    75%   max\n",
              "0       0          7.0    2.0   1.500000  ...   1.25   1.5   1.75   2.0\n",
              "1       0          8.0    2.0  22.500000  ...  21.75  22.5  23.25  24.0\n",
              "2       0          9.0    2.0  20.000000  ...  18.50  20.0  21.50  23.0\n",
              "3       0         10.0    3.0  21.333333  ...  20.00  24.0  24.00  24.0\n",
              "4       0         11.0    4.0  20.000000  ...  17.50  21.0  23.50  25.0\n",
              "\n",
              "[5 rows x 10 columns]"
            ]
          },
          "metadata": {
            "tags": []
          },
          "execution_count": 81
        }
      ]
    },
    {
      "cell_type": "markdown",
      "metadata": {
        "id": "2OfyILeLlxcs"
      },
      "source": [
        "# In the graph below y axis represent churned customer for different months filtered by toal hours usage"
      ]
    },
    {
      "cell_type": "code",
      "metadata": {
        "colab": {
          "base_uri": "https://localhost:8080/",
          "height": 404
        },
        "id": "oSGCPloBki1G",
        "outputId": "5b20e887-023a-4475-8a74-6b96a46a5055"
      },
      "source": [
        "(total_hours_time.pivot_table(index='Months', columns='total_hours', values='count',\n",
        "                aggfunc='sum', fill_value=0)\n",
        "   .plot.bar(stacked=True)\n",
        ")"
      ],
      "execution_count": 80,
      "outputs": [
        {
          "output_type": "execute_result",
          "data": {
            "text/plain": [
              "<matplotlib.axes._subplots.AxesSubplot at 0x7fe484e0ba50>"
            ]
          },
          "metadata": {
            "tags": []
          },
          "execution_count": 80
        },
        {
          "output_type": "display_data",
          "data": {
            "image/png": "[encoded data removed]",
            "text/plain": [
              "<Figure size 720x432 with 1 Axes>"
            ]
          },
          "metadata": {
            "tags": [],
            "needs_background": "light"
          }
        }
      ]
    },
    {
      "cell_type": "code",
      "metadata": {
        "colab": {
          "base_uri": "https://localhost:8080/"
        },
        "id": "tMiaQPk6CLLi",
        "outputId": "439d2530-4671-4059-879a-2ca0c6c54c73"
      },
      "source": [
        "sum(day_hours_time['count'])"
      ],
      "execution_count": 68,
      "outputs": [
        {
          "output_type": "execute_result",
          "data": {
            "text/plain": [
              "483.0"
            ]
          },
          "metadata": {
            "tags": []
          },
          "execution_count": 68
        }
      ]
    },
    {
      "cell_type": "code",
      "metadata": {
        "colab": {
          "base_uri": "https://localhost:8080/",
          "height": 421
        },
        "id": "OsqGr435Q5AA",
        "outputId": "9810c011-fd1a-4f36-ac89-13232e2a8a5d"
      },
      "source": [
        "\n",
        "plt.bar(day_hours_time['total_day_hours'] , day_hours_time['count'])\n",
        "plt.xlabel(\"Total Day Hours\")\n",
        "plt.ylabel(\"Percentage of users\")\n",
        "plt.title(\"No of days vs Day hours\")\n",
        "#plt.bar(range(len(data)), data, color='royalblue', alpha=0.7)\n",
        "plt.grid(color='#95a5a6', linestyle='--', linewidth=2, axis='y', alpha=0.7)\n",
        "plt.figure(figsize=(8, 6), dpi=80)\n",
        "plt.show()"
      ],
      "execution_count": 91,
      "outputs": [
        {
          "output_type": "display_data",
          "data": {
            "image/png": "[encoded data removed]",
            "text/plain": [
              "<Figure size 720x432 with 1 Axes>"
            ]
          },
          "metadata": {
            "tags": [],
            "needs_background": "light"
          }
        },
        {
          "output_type": "display_data",
          "data": {
            "text/plain": [
              "<Figure size 640x480 with 0 Axes>"
            ]
          },
          "metadata": {
            "tags": []
          }
        }
      ]
    },
    {
      "cell_type": "code",
      "metadata": {
        "colab": {
          "base_uri": "https://localhost:8080/",
          "height": 235
        },
        "id": "yPP90qDTTVHX",
        "outputId": "e1e2cce4-68e0-4c68-fe30-9236d8f60912"
      },
      "source": [
        "churn_false = churn_false.assign(total_day_hours = lambda x: (x['Total day minutes'] //60))\n",
        "#total_day_hrs = churn_true.groupby('total_hours')['Customer service calls'].describe()\n",
        "#total_day_hrs.reset_index(inplace = True)\n",
        "day_hours_time_false = churn_false.groupby('total_day_hours')['Account length'].describe()\n",
        "day_hours_time_false.reset_index(inplace = True)\n",
        "day_hours_time_false"
      ],
      "execution_count": 70,
      "outputs": [
        {
          "output_type": "execute_result",
          "data": {
            "text/html": [
              "<div>\n",
              "<style scoped>\n",
              "    .dataframe tbody tr th:only-of-type {\n",
              "        vertical-align: middle;\n",
              "    }\n",
              "\n",
              "    .dataframe tbody tr th {\n",
              "        vertical-align: top;\n",
              "    }\n",
              "\n",
              "    .dataframe thead th {\n",
              "        text-align: right;\n",
              "    }\n",
              "</style>\n",
              "<table border=\"1\" class=\"dataframe\">\n",
              "  <thead>\n",
              "    <tr style=\"text-align: right;\">\n",
              "      <th></th>\n",
              "      <th>total_day_hours</th>\n",
              "      <th>count</th>\n",
              "      <th>mean</th>\n",
              "      <th>std</th>\n",
              "      <th>min</th>\n",
              "      <th>25%</th>\n",
              "      <th>50%</th>\n",
              "      <th>75%</th>\n",
              "      <th>max</th>\n",
              "    </tr>\n",
              "  </thead>\n",
              "  <tbody>\n",
              "    <tr>\n",
              "      <th>0</th>\n",
              "      <td>0.0</td>\n",
              "      <td>47.0</td>\n",
              "      <td>100.446809</td>\n",
              "      <td>45.183110</td>\n",
              "      <td>13.0</td>\n",
              "      <td>64.50</td>\n",
              "      <td>98.0</td>\n",
              "      <td>128.00</td>\n",
              "      <td>205.0</td>\n",
              "    </tr>\n",
              "    <tr>\n",
              "      <th>1</th>\n",
              "      <td>1.0</td>\n",
              "      <td>354.0</td>\n",
              "      <td>101.968927</td>\n",
              "      <td>39.384092</td>\n",
              "      <td>3.0</td>\n",
              "      <td>77.25</td>\n",
              "      <td>100.0</td>\n",
              "      <td>126.75</td>\n",
              "      <td>243.0</td>\n",
              "    </tr>\n",
              "    <tr>\n",
              "      <th>2</th>\n",
              "      <td>2.0</td>\n",
              "      <td>1083.0</td>\n",
              "      <td>100.283472</td>\n",
              "      <td>39.612004</td>\n",
              "      <td>1.0</td>\n",
              "      <td>73.50</td>\n",
              "      <td>99.0</td>\n",
              "      <td>126.50</td>\n",
              "      <td>232.0</td>\n",
              "    </tr>\n",
              "    <tr>\n",
              "      <th>3</th>\n",
              "      <td>3.0</td>\n",
              "      <td>1106.0</td>\n",
              "      <td>100.984629</td>\n",
              "      <td>40.634545</td>\n",
              "      <td>1.0</td>\n",
              "      <td>73.00</td>\n",
              "      <td>101.0</td>\n",
              "      <td>129.00</td>\n",
              "      <td>225.0</td>\n",
              "    </tr>\n",
              "    <tr>\n",
              "      <th>4</th>\n",
              "      <td>4.0</td>\n",
              "      <td>249.0</td>\n",
              "      <td>101.160643</td>\n",
              "      <td>36.663222</td>\n",
              "      <td>8.0</td>\n",
              "      <td>74.00</td>\n",
              "      <td>103.0</td>\n",
              "      <td>127.00</td>\n",
              "      <td>189.0</td>\n",
              "    </tr>\n",
              "    <tr>\n",
              "      <th>5</th>\n",
              "      <td>5.0</td>\n",
              "      <td>11.0</td>\n",
              "      <td>87.181818</td>\n",
              "      <td>56.222448</td>\n",
              "      <td>13.0</td>\n",
              "      <td>50.00</td>\n",
              "      <td>67.0</td>\n",
              "      <td>118.50</td>\n",
              "      <td>210.0</td>\n",
              "    </tr>\n",
              "  </tbody>\n",
              "</table>\n",
              "</div>"
            ],
            "text/plain": [
              "   total_day_hours   count        mean        std  ...    25%    50%     75%    max\n",
              "0              0.0    47.0  100.446809  45.183110  ...  64.50   98.0  128.00  205.0\n",
              "1              1.0   354.0  101.968927  39.384092  ...  77.25  100.0  126.75  243.0\n",
              "2              2.0  1083.0  100.283472  39.612004  ...  73.50   99.0  126.50  232.0\n",
              "3              3.0  1106.0  100.984629  40.634545  ...  73.00  101.0  129.00  225.0\n",
              "4              4.0   249.0  101.160643  36.663222  ...  74.00  103.0  127.00  189.0\n",
              "5              5.0    11.0   87.181818  56.222448  ...  50.00   67.0  118.50  210.0\n",
              "\n",
              "[6 rows x 9 columns]"
            ]
          },
          "metadata": {
            "tags": []
          },
          "execution_count": 70
        }
      ]
    },
    {
      "cell_type": "code",
      "metadata": {
        "colab": {
          "base_uri": "https://localhost:8080/",
          "height": 404
        },
        "id": "vTRFh8lMTlKB",
        "outputId": "bab83af0-4e74-41a6-82ad-6ea1fb1aaf35"
      },
      "source": [
        "\n",
        "plt.bar(day_hours_time_false['total_day_hours'] , day_hours_time_false['count'])\n",
        "plt.xlabel(\"Total Day Hours\")\n",
        "plt.ylabel(\"Number of users\")\n",
        "plt.title(\"No of days vs Day hours\")\n",
        "plt.show()"
      ],
      "execution_count": 71,
      "outputs": [
        {
          "output_type": "display_data",
          "data": {
            "image/png": "[encoded data removed]",
            "text/plain": [
              "<Figure size 720x432 with 1 Axes>"
            ]
          },
          "metadata": {
            "tags": [],
            "needs_background": "light"
          }
        }
      ]
    },
    {
      "cell_type": "markdown",
      "metadata": {
        "id": "e-eiga4767Ub"
      },
      "source": [
        "# From above analysis we found:\n",
        "1. Max people churned are day users\n",
        "2. From churned customers around more than 70% used product for 1 to 5 months\n",
        "3. For churned customers service calls is more than 2\n",
        "4. Max churned customers were using product for 2 to 5 hrs daily day calls\n",
        "5. After analyzing months and hours we found that max customers churned customers were using product for 2 to 5 minutes and 2 to 6 hours daily.\n",
        "6. There are some certain states which has more curned rate than others."
      ]
    }
  ]
}