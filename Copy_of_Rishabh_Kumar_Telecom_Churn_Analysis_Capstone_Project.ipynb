{
  "nbformat": 4,
  "nbformat_minor": 0,
  "metadata": {
    "colab": {
      "name": "Copy of Rishabh Kumar Telecom Churn Analysis - Capstone Project.ipynb",
      "provenance": [],
      "include_colab_link": true
    },
    "kernelspec": {
      "display_name": "Python 3",
      "language": "python",
      "name": "python3"
    },
    "language_info": {
      "codemirror_mode": {
        "name": "ipython",
        "version": 3
      },
      "file_extension": ".py",
      "mimetype": "text/x-python",
      "name": "python",
      "nbconvert_exporter": "python",
      "pygments_lexer": "ipython3",
      "version": "3.6.6"
    }
  },
  "cells": [
    {
      "cell_type": "markdown",
      "metadata": {
        "id": "view-in-github",
        "colab_type": "text"
      },
      "source": [
        "<a href=\"https://colab.research.google.com/github/nitesh-singh-datascience/team-power-telecom-churn-analysis/blob/Rishabh/Copy_of_Rishabh_Kumar_Telecom_Churn_Analysis_Capstone_Project.ipynb\" target=\"_parent\"><img src=\"https://colab.research.google.com/assets/colab-badge.svg\" alt=\"Open In Colab\"/></a>"
      ]
    },
    {
      "cell_type": "markdown",
      "metadata": {
        "id": "Y06xIdG26kRF"
      },
      "source": [
        "## <b> Orange S.A., formerly France Télécom S.A., is a French multinational telecommunications corporation. The Orange Telecom's Churn Dataset, consists of cleaned customer activity data (features), along with a churn label specifying whether a customer canceled the subscription.\n",
        "\n",
        "## <b> Explore and analyze the data to discover key factors responsible for customer churn and come up with ways/recommendations to ensure customer retention. </b>"
      ]
    },
    {
      "cell_type": "markdown",
      "metadata": {
        "id": "EjLlAYuUTYnl"
      },
      "source": [
        "# **PROBLEM SOLVING APPROACH AND WAYS TO MOVE FORWARD:**"
      ]
    },
    {
      "cell_type": "markdown",
      "metadata": {
        "id": "iUm5X-v7SBq-"
      },
      "source": [
        "Hello ,\n",
        "I am Rishabh ,and this is my first capstone project in the form of 'EDA'.\n",
        "I have decided to do this in 4 steps as breaking down a problem is very \n",
        "important . It gives us power over complexities of any problem that we \n",
        "are trying to solve."
      ]
    },
    {
      "cell_type": "markdown",
      "metadata": {
        "id": "W6TAWWyNRTwh"
      },
      "source": [
        "1.Understanding of the problem : I have to figure out key factors responsible for customer churn out of the dataset that i have been provided with.\n",
        "\n",
        "2.Analyzing the dataset given,check if its clean or needs cleaning and \n",
        "then proceed with further processing.\n",
        "\n",
        "3.Graphically getting a view of relations that exist among factors of the\n",
        "given dataset.\n",
        "\n",
        "4.Understand which relationship stands out more and impacts more on the \n",
        "given dataset. And recommend ways to improve those metrics."
      ]
    },
    {
      "cell_type": "markdown",
      "metadata": {
        "id": "a8UPrxOzRgNm"
      },
      "source": [
        "# Importing required libraries to make sure we get to use inbuilt functions availabe."
      ]
    },
    {
      "cell_type": "code",
      "metadata": {
        "id": "euB6LMrGXZZb"
      },
      "source": [
        "import pandas as pd\n",
        "import numpy as np\n",
        "import matplotlib.pyplot as plt\n",
        "import matplotlib.ticker as mtick\n",
        "import seaborn as sns"
      ],
      "execution_count": null,
      "outputs": []
    },
    {
      "cell_type": "code",
      "metadata": {
        "colab": {
          "base_uri": "https://localhost:8080/"
        },
        "id": "dByMsuzT8Tnw",
        "outputId": "10648765-65ee-4c2e-e40b-32f9db67cf3a"
      },
      "source": [
        "from google.colab import drive\n",
        "drive.mount('/content/drive')"
      ],
      "execution_count": null,
      "outputs": [
        {
          "output_type": "stream",
          "text": [
            "Mounted at /content/drive\n"
          ],
          "name": "stdout"
        }
      ]
    },
    {
      "cell_type": "code",
      "metadata": {
        "id": "6nHIvoWAXNET"
      },
      "source": [
        "path='/content/drive/MyDrive/AlmaBetter/Team Capstone Projects/Copy of Telecom Churn.csv'"
      ],
      "execution_count": null,
      "outputs": []
    },
    {
      "cell_type": "code",
      "metadata": {
        "id": "RDdDP2zGXNA4"
      },
      "source": [
        "df=pd.read_csv(path)"
      ],
      "execution_count": null,
      "outputs": []
    },
    {
      "cell_type": "markdown",
      "metadata": {
        "id": "ZnQyqOv_Tzdp"
      },
      "source": [
        "# Getting a overall picture of the data available:"
      ]
    },
    {
      "cell_type": "code",
      "metadata": {
        "colab": {
          "base_uri": "https://localhost:8080/",
          "height": 355
        },
        "id": "OBUT8s2MXjkV",
        "outputId": "f865a4a0-328c-4cd9-c30e-785675114c7a"
      },
      "source": [
        "df.describe()"
      ],
      "execution_count": null,
      "outputs": [
        {
          "output_type": "execute_result",
          "data": {
            "text/html": [
              "<div>\n",
              "<style scoped>\n",
              "    .dataframe tbody tr th:only-of-type {\n",
              "        vertical-align: middle;\n",
              "    }\n",
              "\n",
              "    .dataframe tbody tr th {\n",
              "        vertical-align: top;\n",
              "    }\n",
              "\n",
              "    .dataframe thead th {\n",
              "        text-align: right;\n",
              "    }\n",
              "</style>\n",
              "<table border=\"1\" class=\"dataframe\">\n",
              "  <thead>\n",
              "    <tr style=\"text-align: right;\">\n",
              "      <th></th>\n",
              "      <th>Account length</th>\n",
              "      <th>Area code</th>\n",
              "      <th>Number vmail messages</th>\n",
              "      <th>Total day minutes</th>\n",
              "      <th>Total day calls</th>\n",
              "      <th>Total day charge</th>\n",
              "      <th>Total eve minutes</th>\n",
              "      <th>Total eve calls</th>\n",
              "      <th>Total eve charge</th>\n",
              "      <th>Total night minutes</th>\n",
              "      <th>Total night calls</th>\n",
              "      <th>Total night charge</th>\n",
              "      <th>Total intl minutes</th>\n",
              "      <th>Total intl calls</th>\n",
              "      <th>Total intl charge</th>\n",
              "      <th>Customer service calls</th>\n",
              "    </tr>\n",
              "  </thead>\n",
              "  <tbody>\n",
              "    <tr>\n",
              "      <th>count</th>\n",
              "      <td>3333.000000</td>\n",
              "      <td>3333.000000</td>\n",
              "      <td>3333.000000</td>\n",
              "      <td>3333.000000</td>\n",
              "      <td>3333.000000</td>\n",
              "      <td>3333.000000</td>\n",
              "      <td>3333.000000</td>\n",
              "      <td>3333.000000</td>\n",
              "      <td>3333.000000</td>\n",
              "      <td>3333.000000</td>\n",
              "      <td>3333.000000</td>\n",
              "      <td>3333.000000</td>\n",
              "      <td>3333.000000</td>\n",
              "      <td>3333.000000</td>\n",
              "      <td>3333.000000</td>\n",
              "      <td>3333.000000</td>\n",
              "    </tr>\n",
              "    <tr>\n",
              "      <th>mean</th>\n",
              "      <td>101.064806</td>\n",
              "      <td>437.182418</td>\n",
              "      <td>8.099010</td>\n",
              "      <td>179.775098</td>\n",
              "      <td>100.435644</td>\n",
              "      <td>30.562307</td>\n",
              "      <td>200.980348</td>\n",
              "      <td>100.114311</td>\n",
              "      <td>17.083540</td>\n",
              "      <td>200.872037</td>\n",
              "      <td>100.107711</td>\n",
              "      <td>9.039325</td>\n",
              "      <td>10.237294</td>\n",
              "      <td>4.479448</td>\n",
              "      <td>2.764581</td>\n",
              "      <td>1.562856</td>\n",
              "    </tr>\n",
              "    <tr>\n",
              "      <th>std</th>\n",
              "      <td>39.822106</td>\n",
              "      <td>42.371290</td>\n",
              "      <td>13.688365</td>\n",
              "      <td>54.467389</td>\n",
              "      <td>20.069084</td>\n",
              "      <td>9.259435</td>\n",
              "      <td>50.713844</td>\n",
              "      <td>19.922625</td>\n",
              "      <td>4.310668</td>\n",
              "      <td>50.573847</td>\n",
              "      <td>19.568609</td>\n",
              "      <td>2.275873</td>\n",
              "      <td>2.791840</td>\n",
              "      <td>2.461214</td>\n",
              "      <td>0.753773</td>\n",
              "      <td>1.315491</td>\n",
              "    </tr>\n",
              "    <tr>\n",
              "      <th>min</th>\n",
              "      <td>1.000000</td>\n",
              "      <td>408.000000</td>\n",
              "      <td>0.000000</td>\n",
              "      <td>0.000000</td>\n",
              "      <td>0.000000</td>\n",
              "      <td>0.000000</td>\n",
              "      <td>0.000000</td>\n",
              "      <td>0.000000</td>\n",
              "      <td>0.000000</td>\n",
              "      <td>23.200000</td>\n",
              "      <td>33.000000</td>\n",
              "      <td>1.040000</td>\n",
              "      <td>0.000000</td>\n",
              "      <td>0.000000</td>\n",
              "      <td>0.000000</td>\n",
              "      <td>0.000000</td>\n",
              "    </tr>\n",
              "    <tr>\n",
              "      <th>25%</th>\n",
              "      <td>74.000000</td>\n",
              "      <td>408.000000</td>\n",
              "      <td>0.000000</td>\n",
              "      <td>143.700000</td>\n",
              "      <td>87.000000</td>\n",
              "      <td>24.430000</td>\n",
              "      <td>166.600000</td>\n",
              "      <td>87.000000</td>\n",
              "      <td>14.160000</td>\n",
              "      <td>167.000000</td>\n",
              "      <td>87.000000</td>\n",
              "      <td>7.520000</td>\n",
              "      <td>8.500000</td>\n",
              "      <td>3.000000</td>\n",
              "      <td>2.300000</td>\n",
              "      <td>1.000000</td>\n",
              "    </tr>\n",
              "    <tr>\n",
              "      <th>50%</th>\n",
              "      <td>101.000000</td>\n",
              "      <td>415.000000</td>\n",
              "      <td>0.000000</td>\n",
              "      <td>179.400000</td>\n",
              "      <td>101.000000</td>\n",
              "      <td>30.500000</td>\n",
              "      <td>201.400000</td>\n",
              "      <td>100.000000</td>\n",
              "      <td>17.120000</td>\n",
              "      <td>201.200000</td>\n",
              "      <td>100.000000</td>\n",
              "      <td>9.050000</td>\n",
              "      <td>10.300000</td>\n",
              "      <td>4.000000</td>\n",
              "      <td>2.780000</td>\n",
              "      <td>1.000000</td>\n",
              "    </tr>\n",
              "    <tr>\n",
              "      <th>75%</th>\n",
              "      <td>127.000000</td>\n",
              "      <td>510.000000</td>\n",
              "      <td>20.000000</td>\n",
              "      <td>216.400000</td>\n",
              "      <td>114.000000</td>\n",
              "      <td>36.790000</td>\n",
              "      <td>235.300000</td>\n",
              "      <td>114.000000</td>\n",
              "      <td>20.000000</td>\n",
              "      <td>235.300000</td>\n",
              "      <td>113.000000</td>\n",
              "      <td>10.590000</td>\n",
              "      <td>12.100000</td>\n",
              "      <td>6.000000</td>\n",
              "      <td>3.270000</td>\n",
              "      <td>2.000000</td>\n",
              "    </tr>\n",
              "    <tr>\n",
              "      <th>max</th>\n",
              "      <td>243.000000</td>\n",
              "      <td>510.000000</td>\n",
              "      <td>51.000000</td>\n",
              "      <td>350.800000</td>\n",
              "      <td>165.000000</td>\n",
              "      <td>59.640000</td>\n",
              "      <td>363.700000</td>\n",
              "      <td>170.000000</td>\n",
              "      <td>30.910000</td>\n",
              "      <td>395.000000</td>\n",
              "      <td>175.000000</td>\n",
              "      <td>17.770000</td>\n",
              "      <td>20.000000</td>\n",
              "      <td>20.000000</td>\n",
              "      <td>5.400000</td>\n",
              "      <td>9.000000</td>\n",
              "    </tr>\n",
              "  </tbody>\n",
              "</table>\n",
              "</div>"
            ],
            "text/plain": [
              "       Account length    Area code  ...  Total intl charge  Customer service calls\n",
              "count     3333.000000  3333.000000  ...        3333.000000             3333.000000\n",
              "mean       101.064806   437.182418  ...           2.764581                1.562856\n",
              "std         39.822106    42.371290  ...           0.753773                1.315491\n",
              "min          1.000000   408.000000  ...           0.000000                0.000000\n",
              "25%         74.000000   408.000000  ...           2.300000                1.000000\n",
              "50%        101.000000   415.000000  ...           2.780000                1.000000\n",
              "75%        127.000000   510.000000  ...           3.270000                2.000000\n",
              "max        243.000000   510.000000  ...           5.400000                9.000000\n",
              "\n",
              "[8 rows x 16 columns]"
            ]
          },
          "metadata": {
            "tags": []
          },
          "execution_count": 38
        }
      ]
    },
    {
      "cell_type": "code",
      "metadata": {
        "colab": {
          "base_uri": "https://localhost:8080/",
          "height": 241
        },
        "id": "AczHMOwwXnuQ",
        "outputId": "393a06b3-aa52-41a2-c4d5-32c3dd13c47a"
      },
      "source": [
        "df.head()"
      ],
      "execution_count": null,
      "outputs": [
        {
          "output_type": "execute_result",
          "data": {
            "text/html": [
              "<div>\n",
              "<style scoped>\n",
              "    .dataframe tbody tr th:only-of-type {\n",
              "        vertical-align: middle;\n",
              "    }\n",
              "\n",
              "    .dataframe tbody tr th {\n",
              "        vertical-align: top;\n",
              "    }\n",
              "\n",
              "    .dataframe thead th {\n",
              "        text-align: right;\n",
              "    }\n",
              "</style>\n",
              "<table border=\"1\" class=\"dataframe\">\n",
              "  <thead>\n",
              "    <tr style=\"text-align: right;\">\n",
              "      <th></th>\n",
              "      <th>State</th>\n",
              "      <th>Account length</th>\n",
              "      <th>Area code</th>\n",
              "      <th>International plan</th>\n",
              "      <th>Voice mail plan</th>\n",
              "      <th>Number vmail messages</th>\n",
              "      <th>Total day minutes</th>\n",
              "      <th>Total day calls</th>\n",
              "      <th>Total day charge</th>\n",
              "      <th>Total eve minutes</th>\n",
              "      <th>Total eve calls</th>\n",
              "      <th>Total eve charge</th>\n",
              "      <th>Total night minutes</th>\n",
              "      <th>Total night calls</th>\n",
              "      <th>Total night charge</th>\n",
              "      <th>Total intl minutes</th>\n",
              "      <th>Total intl calls</th>\n",
              "      <th>Total intl charge</th>\n",
              "      <th>Customer service calls</th>\n",
              "      <th>Churn</th>\n",
              "    </tr>\n",
              "  </thead>\n",
              "  <tbody>\n",
              "    <tr>\n",
              "      <th>0</th>\n",
              "      <td>KS</td>\n",
              "      <td>128</td>\n",
              "      <td>415</td>\n",
              "      <td>No</td>\n",
              "      <td>Yes</td>\n",
              "      <td>25</td>\n",
              "      <td>265.1</td>\n",
              "      <td>110</td>\n",
              "      <td>45.07</td>\n",
              "      <td>197.4</td>\n",
              "      <td>99</td>\n",
              "      <td>16.78</td>\n",
              "      <td>244.7</td>\n",
              "      <td>91</td>\n",
              "      <td>11.01</td>\n",
              "      <td>10.0</td>\n",
              "      <td>3</td>\n",
              "      <td>2.70</td>\n",
              "      <td>1</td>\n",
              "      <td>False</td>\n",
              "    </tr>\n",
              "    <tr>\n",
              "      <th>1</th>\n",
              "      <td>OH</td>\n",
              "      <td>107</td>\n",
              "      <td>415</td>\n",
              "      <td>No</td>\n",
              "      <td>Yes</td>\n",
              "      <td>26</td>\n",
              "      <td>161.6</td>\n",
              "      <td>123</td>\n",
              "      <td>27.47</td>\n",
              "      <td>195.5</td>\n",
              "      <td>103</td>\n",
              "      <td>16.62</td>\n",
              "      <td>254.4</td>\n",
              "      <td>103</td>\n",
              "      <td>11.45</td>\n",
              "      <td>13.7</td>\n",
              "      <td>3</td>\n",
              "      <td>3.70</td>\n",
              "      <td>1</td>\n",
              "      <td>False</td>\n",
              "    </tr>\n",
              "    <tr>\n",
              "      <th>2</th>\n",
              "      <td>NJ</td>\n",
              "      <td>137</td>\n",
              "      <td>415</td>\n",
              "      <td>No</td>\n",
              "      <td>No</td>\n",
              "      <td>0</td>\n",
              "      <td>243.4</td>\n",
              "      <td>114</td>\n",
              "      <td>41.38</td>\n",
              "      <td>121.2</td>\n",
              "      <td>110</td>\n",
              "      <td>10.30</td>\n",
              "      <td>162.6</td>\n",
              "      <td>104</td>\n",
              "      <td>7.32</td>\n",
              "      <td>12.2</td>\n",
              "      <td>5</td>\n",
              "      <td>3.29</td>\n",
              "      <td>0</td>\n",
              "      <td>False</td>\n",
              "    </tr>\n",
              "    <tr>\n",
              "      <th>3</th>\n",
              "      <td>OH</td>\n",
              "      <td>84</td>\n",
              "      <td>408</td>\n",
              "      <td>Yes</td>\n",
              "      <td>No</td>\n",
              "      <td>0</td>\n",
              "      <td>299.4</td>\n",
              "      <td>71</td>\n",
              "      <td>50.90</td>\n",
              "      <td>61.9</td>\n",
              "      <td>88</td>\n",
              "      <td>5.26</td>\n",
              "      <td>196.9</td>\n",
              "      <td>89</td>\n",
              "      <td>8.86</td>\n",
              "      <td>6.6</td>\n",
              "      <td>7</td>\n",
              "      <td>1.78</td>\n",
              "      <td>2</td>\n",
              "      <td>False</td>\n",
              "    </tr>\n",
              "    <tr>\n",
              "      <th>4</th>\n",
              "      <td>OK</td>\n",
              "      <td>75</td>\n",
              "      <td>415</td>\n",
              "      <td>Yes</td>\n",
              "      <td>No</td>\n",
              "      <td>0</td>\n",
              "      <td>166.7</td>\n",
              "      <td>113</td>\n",
              "      <td>28.34</td>\n",
              "      <td>148.3</td>\n",
              "      <td>122</td>\n",
              "      <td>12.61</td>\n",
              "      <td>186.9</td>\n",
              "      <td>121</td>\n",
              "      <td>8.41</td>\n",
              "      <td>10.1</td>\n",
              "      <td>3</td>\n",
              "      <td>2.73</td>\n",
              "      <td>3</td>\n",
              "      <td>False</td>\n",
              "    </tr>\n",
              "  </tbody>\n",
              "</table>\n",
              "</div>"
            ],
            "text/plain": [
              "  State  Account length  ...  Customer service calls  Churn\n",
              "0    KS             128  ...                       1  False\n",
              "1    OH             107  ...                       1  False\n",
              "2    NJ             137  ...                       0  False\n",
              "3    OH              84  ...                       2  False\n",
              "4    OK              75  ...                       3  False\n",
              "\n",
              "[5 rows x 20 columns]"
            ]
          },
          "metadata": {
            "tags": []
          },
          "execution_count": 7
        }
      ]
    },
    {
      "cell_type": "markdown",
      "metadata": {
        "id": "ImM1b9LlT7Fr"
      },
      "source": [
        "# Analyzing and plotting overall churn distribution as this is our main\n",
        "# factor in relation to which we have to do our analysis:"
      ]
    },
    {
      "cell_type": "markdown",
      "metadata": {
        "id": "mnEi4edfUYkt"
      },
      "source": [
        "**What is Customer Churn Analysis?**"
      ]
    },
    {
      "cell_type": "markdown",
      "metadata": {
        "id": "Ht8-1pTkWCen"
      },
      "source": [
        "AN EDA over a specific dataset which provide insight over 3 important aspects:\n",
        "\n",
        "1.Why are customers churning?\n",
        "\n",
        "2.How do you identify which customers are going to churn in the coming time?\n",
        "\n",
        "3.What should you do to minimize churn?"
      ]
    },
    {
      "cell_type": "markdown",
      "metadata": {
        "id": "OdeVP_ioVt3m"
      },
      "source": [
        "Churn analysis helps in determining the trend of customer attrition"
      ]
    },
    {
      "cell_type": "markdown",
      "metadata": {
        "id": "pNal5sZrXq9Q"
      },
      "source": [
        "# PLOT 1\n",
        "\n",
        "There are several factors that are similar like the charges and minutes\n",
        "\n",
        "for different category.\n",
        "\n",
        "So to understand the relation among them i plotted a \n",
        "Correlation Heatmap.\n",
        "\n"
      ]
    },
    {
      "cell_type": "code",
      "metadata": {
        "colab": {
          "base_uri": "https://localhost:8080/",
          "height": 669
        },
        "id": "asBsMXFFfi1U",
        "outputId": "c048e221-3572-4340-a4a7-a5ed0ce7b870"
      },
      "source": [
        "#Get Correlation of \"Churn\" with other variables:\n",
        "corr = df.corr()\n",
        "\n",
        "\n",
        "mask = np.triu(np.ones_like(corr, dtype=bool))\n",
        "\n",
        "f, ax = plt.subplots(figsize=(11, 9))\n",
        "\n",
        "cmap = sns.diverging_palette(230, 20, as_cmap=True)\n",
        "\n",
        "sns.heatmap(corr, mask=mask, cmap=cmap, vmax=.3, center=0,\n",
        "            square=True, linewidths=.5, cbar_kws={\"shrink\": .5})"
      ],
      "execution_count": null,
      "outputs": [
        {
          "output_type": "execute_result",
          "data": {
            "text/plain": [
              "<matplotlib.axes._subplots.AxesSubplot at 0x7f0607879590>"
            ]
          },
          "metadata": {
            "tags": []
          },
          "execution_count": 18
        },
        {
          "output_type": "display_data",
          "data": {
            "image/png": "[encoded data removed]",
            "text/plain": [
              "<Figure size 792x648 with 2 Axes>"
            ]
          },
          "metadata": {
            "tags": []
          }
        }
      ]
    },
    {
      "cell_type": "markdown",
      "metadata": {
        "id": "9XHH-J2uC_en"
      },
      "source": [
        "From the heat map we can see charge and minutes length are highly correlated .\n",
        "\n",
        "That means they are linearly moving in same direction so \n",
        "\n",
        "in such scenarios not all of them will contribute highly to the \n",
        "\n",
        "problem we have . \n",
        "\n",
        "The single parameter that is higher will do the same work."
      ]
    },
    {
      "cell_type": "markdown",
      "metadata": {
        "id": "V3MZn9hwLUdu"
      },
      "source": [
        "# PLOT 2 :A \n",
        "CHURN VS DAY_MIN\n",
        "\n",
        "CHURN VS ACCOUNT LENGTH"
      ]
    },
    {
      "cell_type": "code",
      "metadata": {
        "colab": {
          "base_uri": "https://localhost:8080/",
          "height": 297
        },
        "id": "Y_R1hZajUEdu",
        "outputId": "a2e94eba-0319-4a21-c2fc-a977e7a5b924"
      },
      "source": [
        "sns.boxplot(x='Churn', y='Account length', data=df)"
      ],
      "execution_count": null,
      "outputs": [
        {
          "output_type": "execute_result",
          "data": {
            "text/plain": [
              "<matplotlib.axes._subplots.AxesSubplot at 0x7f111e3912d0>"
            ]
          },
          "metadata": {
            "tags": []
          },
          "execution_count": 26
        },
        {
          "output_type": "display_data",
          "data": {
            "image/png": "[encoded data removed]",
            "text/plain": [
              "<Figure size 432x288 with 1 Axes>"
            ]
          },
          "metadata": {
            "tags": []
          }
        }
      ]
    },
    {
      "cell_type": "markdown",
      "metadata": {
        "id": "fXkl5GifUxYO"
      },
      "source": [
        "# Almost same distribution in churn and non-churn customers,thus \n",
        "\n",
        "# indicating that account length is not a driving factor here in this \n",
        "\n",
        "# dataset."
      ]
    },
    {
      "cell_type": "code",
      "metadata": {
        "colab": {
          "base_uri": "https://localhost:8080/",
          "height": 297
        },
        "id": "x12sLxqxEkIr",
        "outputId": "cf04362c-d4c6-428c-a34d-a9552c7e3728"
      },
      "source": [
        "sns.boxplot(x='Churn', y='Total day minutes', data=df)"
      ],
      "execution_count": null,
      "outputs": [
        {
          "output_type": "execute_result",
          "data": {
            "text/plain": [
              "<matplotlib.axes._subplots.AxesSubplot at 0x7f111e7d9410>"
            ]
          },
          "metadata": {
            "tags": []
          },
          "execution_count": 17
        },
        {
          "output_type": "display_data",
          "data": {
            "image/png": "[encoded data removed]",
            "text/plain": [
              "<Figure size 432x288 with 1 Axes>"
            ]
          },
          "metadata": {
            "tags": []
          }
        }
      ]
    },
    {
      "cell_type": "markdown",
      "metadata": {
        "id": "9qs0uOW8LeQD"
      },
      "source": [
        "# PLOT 2:B\n",
        "CHURN VS EVE_MIN"
      ]
    },
    {
      "cell_type": "code",
      "metadata": {
        "colab": {
          "base_uri": "https://localhost:8080/",
          "height": 297
        },
        "id": "g52OfxJzLBW4",
        "outputId": "d701ff9d-48d0-4f79-b768-8a4b2eb2a3f2"
      },
      "source": [
        "sns.boxplot(x='Churn', y='Total eve minutes', data=df)"
      ],
      "execution_count": null,
      "outputs": [
        {
          "output_type": "execute_result",
          "data": {
            "text/plain": [
              "<matplotlib.axes._subplots.AxesSubplot at 0x7f111ea56e90>"
            ]
          },
          "metadata": {
            "tags": []
          },
          "execution_count": 18
        },
        {
          "output_type": "display_data",
          "data": {
            "image/png": "[encoded data removed]",
            "text/plain": [
              "<Figure size 432x288 with 1 Axes>"
            ]
          },
          "metadata": {
            "tags": []
          }
        }
      ]
    },
    {
      "cell_type": "markdown",
      "metadata": {
        "id": "nex6QtugLmxt"
      },
      "source": [
        "# PLOT 2:C\n",
        "CHURN VS NIG_MIN"
      ]
    },
    {
      "cell_type": "code",
      "metadata": {
        "colab": {
          "base_uri": "https://localhost:8080/",
          "height": 297
        },
        "id": "E8nLt25nLCN3",
        "outputId": "925cb326-5398-496c-dbd5-1ca9c6312bd9"
      },
      "source": [
        "sns.boxplot(x='Churn', y='Total night minutes', data=df)"
      ],
      "execution_count": null,
      "outputs": [
        {
          "output_type": "execute_result",
          "data": {
            "text/plain": [
              "<matplotlib.axes._subplots.AxesSubplot at 0x7f111e6dcb50>"
            ]
          },
          "metadata": {
            "tags": []
          },
          "execution_count": 19
        },
        {
          "output_type": "display_data",
          "data": {
            "image/png": "[encoded data removed]",
            "text/plain": [
              "<Figure size 432x288 with 1 Axes>"
            ]
          },
          "metadata": {
            "tags": []
          }
        }
      ]
    },
    {
      "cell_type": "markdown",
      "metadata": {
        "id": "1s4m7I56LuOR"
      },
      "source": [
        "# PLOT 2:D\n",
        "CHURN VS INTL_MIN"
      ]
    },
    {
      "cell_type": "code",
      "metadata": {
        "colab": {
          "base_uri": "https://localhost:8080/",
          "height": 297
        },
        "id": "mjR9PdV3LEQn",
        "outputId": "34509a25-9ad4-4e56-adc8-73e8c5e2477a"
      },
      "source": [
        "sns.boxplot(x='Churn', y='Total intl minutes', data=df)"
      ],
      "execution_count": null,
      "outputs": [
        {
          "output_type": "execute_result",
          "data": {
            "text/plain": [
              "<matplotlib.axes._subplots.AxesSubplot at 0x7f111e5eb410>"
            ]
          },
          "metadata": {
            "tags": []
          },
          "execution_count": 20
        },
        {
          "output_type": "display_data",
          "data": {
            "image/png": "[encoded data removed]",
            "text/plain": [
              "<Figure size 432x288 with 1 Axes>"
            ]
          },
          "metadata": {
            "tags": []
          }
        }
      ]
    },
    {
      "cell_type": "markdown",
      "metadata": {
        "id": "pORoC4IML2iR"
      },
      "source": [
        "# OBSERVATION:\n",
        "Only plot 2 A has significant variation when compared to rest of call timing.\n",
        "\n",
        "And also from heatmap its clear that call length and charges are highly \n",
        "\n",
        "positive coorelated so same degree of growth or impact will be there \n",
        "\n",
        "and thus any more significant feature alone will represent or drive \n",
        "\n",
        "the churn factor.\n"
      ]
    },
    {
      "cell_type": "markdown",
      "metadata": {
        "id": "K8utaoyPNRcz"
      },
      "source": [
        "#The heatmap does not clear any relation between Total day calls,\n",
        "\n",
        "# Total evening calls, etc with respect to the churn so , its important to\n",
        "\n",
        "# clearly see how these are distributed and how they are driving churn rate."
      ]
    },
    {
      "cell_type": "markdown",
      "metadata": {
        "id": "Ca8IFaqkOOWY"
      },
      "source": [
        "# PLOT 3:A\n",
        "\n",
        "CHURN VS TOTAL DAY CALLS"
      ]
    },
    {
      "cell_type": "code",
      "metadata": {
        "colab": {
          "base_uri": "https://localhost:8080/",
          "height": 297
        },
        "id": "8YDhtkpmOUcx",
        "outputId": "c3c83625-5d2a-44b5-8f92-e354bf3e4353"
      },
      "source": [
        "sns.boxplot(x='Churn', y='Total day calls', data=df)"
      ],
      "execution_count": null,
      "outputs": [
        {
          "output_type": "execute_result",
          "data": {
            "text/plain": [
              "<matplotlib.axes._subplots.AxesSubplot at 0x7f111e565810>"
            ]
          },
          "metadata": {
            "tags": []
          },
          "execution_count": 22
        },
        {
          "output_type": "display_data",
          "data": {
            "image/png": "[encoded data removed]",
            "text/plain": [
              "<Figure size 432x288 with 1 Axes>"
            ]
          },
          "metadata": {
            "tags": []
          }
        }
      ]
    },
    {
      "cell_type": "markdown",
      "metadata": {
        "id": "5H6YYmgIOx9l"
      },
      "source": [
        "# PLOT 3:B\n",
        "CHURN VS TOTAL EVE CALLS"
      ]
    },
    {
      "cell_type": "code",
      "metadata": {
        "colab": {
          "base_uri": "https://localhost:8080/",
          "height": 297
        },
        "id": "GHeuhjsXOgLd",
        "outputId": "ead97fb2-1411-4922-9fcd-66b51bb695ea"
      },
      "source": [
        "sns.boxplot(x='Churn', y='Total eve calls', data=df)"
      ],
      "execution_count": null,
      "outputs": [
        {
          "output_type": "execute_result",
          "data": {
            "text/plain": [
              "<matplotlib.axes._subplots.AxesSubplot at 0x7f111e4f3f50>"
            ]
          },
          "metadata": {
            "tags": []
          },
          "execution_count": 23
        },
        {
          "output_type": "display_data",
          "data": {
            "image/png": "[encoded data removed]",
            "text/plain": [
              "<Figure size 432x288 with 1 Axes>"
            ]
          },
          "metadata": {
            "tags": []
          }
        }
      ]
    },
    {
      "cell_type": "markdown",
      "metadata": {
        "id": "20ArP1soO4ID"
      },
      "source": [
        "# PLOT 3:C\n",
        "CHURN VS TOTAL NIGHT MIN"
      ]
    },
    {
      "cell_type": "code",
      "metadata": {
        "colab": {
          "base_uri": "https://localhost:8080/",
          "height": 298
        },
        "id": "XoEw7B-rOlRG",
        "outputId": "2ab40357-0192-43c9-aa50-e84b0e3a53f1"
      },
      "source": [
        "sns.boxplot(x='Churn', y='Total night calls', data=df)"
      ],
      "execution_count": null,
      "outputs": [
        {
          "output_type": "execute_result",
          "data": {
            "text/plain": [
              "<matplotlib.axes._subplots.AxesSubplot at 0x7f111e4fe510>"
            ]
          },
          "metadata": {
            "tags": []
          },
          "execution_count": 24
        },
        {
          "output_type": "display_data",
          "data": {
            "image/png": "[encoded data removed]",
            "text/plain": [
              "<Figure size 432x288 with 1 Axes>"
            ]
          },
          "metadata": {
            "tags": []
          }
        }
      ]
    },
    {
      "cell_type": "markdown",
      "metadata": {
        "id": "hYR_C3_ZO-Xo"
      },
      "source": [
        "# PLOT 3:D\n",
        "\n",
        "CHURN VS TOTAL INTL CALLS"
      ]
    },
    {
      "cell_type": "code",
      "metadata": {
        "colab": {
          "base_uri": "https://localhost:8080/",
          "height": 297
        },
        "id": "TQS8qAWdOpl7",
        "outputId": "41e0c611-8c2e-4a0d-8470-f67ab2ef5a09"
      },
      "source": [
        "sns.boxplot(x='Churn', y='Total intl calls', data=df)"
      ],
      "execution_count": null,
      "outputs": [
        {
          "output_type": "execute_result",
          "data": {
            "text/plain": [
              "<matplotlib.axes._subplots.AxesSubplot at 0x7f111e3ff050>"
            ]
          },
          "metadata": {
            "tags": []
          },
          "execution_count": 25
        },
        {
          "output_type": "display_data",
          "data": {
            "image/png": "[encoded data removed]",
            "text/plain": [
              "<Figure size 432x288 with 1 Axes>"
            ]
          },
          "metadata": {
            "tags": []
          }
        }
      ]
    },
    {
      "cell_type": "markdown",
      "metadata": {
        "id": "qJLoWz7NPEdh"
      },
      "source": [
        "# OBSERVATION:\n",
        "\n",
        "The total number of calls is roughly the same across churn and non-churn population.\n",
        "\n",
        "Thus the 4 factors viz:\n",
        "1. Total day calls\n",
        "2.Total eve calls\n",
        "3.Total night calls\n",
        "4.Total intl calls\n",
        "\n",
        "doen't play a driving role when it comes to solve our problem that\n",
        "\n",
        "is our churn rate responsible factors."
      ]
    },
    {
      "cell_type": "markdown",
      "metadata": {
        "id": "rfX4v5KKFnDw"
      },
      "source": [
        "# PLOT 4\n",
        "\n",
        "CHURN DISTRIBUTION"
      ]
    },
    {
      "cell_type": "code",
      "metadata": {
        "colab": {
          "base_uri": "https://localhost:8080/",
          "height": 295
        },
        "id": "IksjS8p0fvz3",
        "outputId": "ad56b70c-565c-475f-d71d-910248efeaba"
      },
      "source": [
        "colors = ['green','red']\n",
        "ax = (df['Churn'].value_counts()*100.0 /len(df)).plot(kind='bar', stacked = True,rot = 0,color = colors)\n",
        "ax.yaxis.set_major_formatter(mtick.PercentFormatter())\n",
        "ax.set_ylabel('% Customers in states')\n",
        "ax.set_xlabel('Churn')\n",
        "ax.set_ylabel('% Customers in states')\n",
        "ax.set_title('Churn Distribution')\n",
        "\n",
        "# create a list to collect the plt.patches data\n",
        "totals = []\n",
        "\n",
        "# find the values and append to list\n",
        "for i in ax.patches:\n",
        "    totals.append(i.get_width())\n",
        "# set individual bar lables using above list\n",
        "total = sum(totals)\n",
        "\n",
        "for i in ax.patches:\n",
        "# get_width pulls left or right; get_y pushes up or down\n",
        "    ax.text(i.get_x()+.15, i.get_height()-3.5, \\\n",
        "            str(round((i.get_height()/total), 1))+'%',\n",
        "            fontsize=12,\n",
        "            color='white',\n",
        "           weight = 'bold')"
      ],
      "execution_count": null,
      "outputs": [
        {
          "output_type": "display_data",
          "data": {
            "image/png": "[encoded data removed]",
            "text/plain": [
              "<Figure size 432x288 with 1 Axes>"
            ]
          },
          "metadata": {
            "tags": []
          }
        }
      ]
    },
    {
      "cell_type": "markdown",
      "metadata": {
        "id": "vIvUwx1EURDX"
      },
      "source": [
        "From above graph we can see (Red=Churn ) \n",
        "Almost 14% customers churn over the given dataset."
      ]
    },
    {
      "cell_type": "markdown",
      "metadata": {
        "id": "mw5mbIBxW1Qa"
      },
      "source": [
        "# Plotting to understand distribution of several factors:"
      ]
    },
    {
      "cell_type": "markdown",
      "metadata": {
        "id": "a5Ba0KnMXuDR"
      },
      "source": [
        "# PLOT 5"
      ]
    },
    {
      "cell_type": "code",
      "metadata": {
        "colab": {
          "base_uri": "https://localhost:8080/",
          "height": 295
        },
        "id": "Lu7u9m4pg3IB",
        "outputId": "8dfca46b-390e-443a-9a3c-440346a636e2"
      },
      "source": [
        "colors = ['green','red']\n",
        "ax = (df['International plan'].value_counts()*100.0 /len(df)).plot(kind='bar', stacked = True,rot = 0,color = colors)\n",
        "ax.yaxis.set_major_formatter(mtick.PercentFormatter())\n",
        "ax.set_ylabel('% Customers in states')\n",
        "ax.set_xlabel('International plan')\n",
        "ax.set_ylabel('% Customers in states')\n",
        "ax.set_title('International plan distribution')\n",
        "\n",
        "# create a list to collect the plt.patches data\n",
        "totals = []\n",
        "\n",
        "# find the values and append to list\n",
        "for i in ax.patches:\n",
        "    totals.append(i.get_width())\n",
        "# set individual bar lables using above list\n",
        "total = sum(totals)\n",
        "\n",
        "for i in ax.patches:\n",
        "# get_width pulls left or right; get_y pushes up or down\n",
        "    ax.text(i.get_x()+.15, i.get_height()-3.5, \\\n",
        "            str(round((i.get_height()/total), 1))+'%',\n",
        "            fontsize=12,\n",
        "            color='white',\n",
        "           weight = 'bold')"
      ],
      "execution_count": null,
      "outputs": [
        {
          "output_type": "display_data",
          "data": {
            "image/png": "[encoded data removed]",
            "text/plain": [
              "<Figure size 432x288 with 1 Axes>"
            ]
          },
          "metadata": {
            "tags": []
          }
        }
      ]
    },
    {
      "cell_type": "markdown",
      "metadata": {
        "id": "1HApZblhXPAa"
      },
      "source": [
        "# Plotting Churn vs International Plan to understand how significant this\n",
        "# factor is:"
      ]
    },
    {
      "cell_type": "markdown",
      "metadata": {
        "id": "yPJp6_1FVvAL"
      },
      "source": [
        "# Churn Vs International plan"
      ]
    },
    {
      "cell_type": "markdown",
      "metadata": {
        "id": "JUJK94C8XxoV"
      },
      "source": [
        "# PLOT 6"
      ]
    },
    {
      "cell_type": "code",
      "metadata": {
        "colab": {
          "base_uri": "https://localhost:8080/",
          "height": 405
        },
        "id": "RvMAz_8rmbxM",
        "outputId": "9563a0e5-f171-4904-834a-44a5b88d5f15"
      },
      "source": [
        "colors = ['green','red']\n",
        "seniority_churn = df.groupby(['International plan','Churn']).size().unstack()\n",
        "\n",
        "ax = (seniority_churn.T*100.0 / seniority_churn.T.sum()).T.plot(kind='bar',width = 0.2,stacked = True,\n",
        "rot = 0, figsize = (8,6),color = colors)\n",
        "ax.yaxis.set_major_formatter(mtick.PercentFormatter())\n",
        "ax.legend(loc='center',prop={'size':14},title = 'Churn')\n",
        "ax.set_ylabel('% Customers')\n",
        "ax.set_title('Churn by International plan',size = 14)\n",
        "\n",
        "# Code to add the data labels on the stacked bar chart\n",
        "for p in ax.patches:\n",
        "    width, height = p.get_width(), p.get_height()\n",
        "    x, y = p.get_xy() \n",
        "    ax.annotate('{:.0f}%'.format(height), (p.get_x()+.25*width, p.get_y()+.4*height),\n",
        "                color = 'white',\n",
        "               weight = 'bold',size =14)"
      ],
      "execution_count": null,
      "outputs": [
        {
          "output_type": "display_data",
          "data": {
            "image/png": "[encoded data removed]",
            "text/plain": [
              "<Figure size 576x432 with 1 Axes>"
            ]
          },
          "metadata": {
            "tags": []
          }
        }
      ]
    },
    {
      "cell_type": "markdown",
      "metadata": {
        "id": "HWC9s8lCnQBH"
      },
      "source": [
        "The figure above shows the % of churn across(red = churned) those who have intl plan and those who don't.\n",
        "\n",
        " churn % on the International plan is 4(approx) times the those who are not on international plan. \n"
      ]
    },
    {
      "cell_type": "markdown",
      "metadata": {
        "id": "7j7j1y7wYAB2"
      },
      "source": [
        "# Understanding Churn vs Customer service calls:"
      ]
    },
    {
      "cell_type": "markdown",
      "metadata": {
        "id": "jU4oPF1LYIrN"
      },
      "source": [
        "# PLOT 7"
      ]
    },
    {
      "cell_type": "code",
      "metadata": {
        "colab": {
          "base_uri": "https://localhost:8080/",
          "height": 514
        },
        "id": "-Qv-zd4znReR",
        "outputId": "5cc3f306-d9bb-4247-a527-7eea015cb027"
      },
      "source": [
        "colors = ['green','red']\n",
        "contract_churn = df.groupby(['Customer service calls','Churn']).size().unstack()\n",
        "\n",
        "ax = (contract_churn.T*100.0 / contract_churn.T.sum()).T.plot(kind='bar',\n",
        "width = 0.5, stacked = True, rot = 0, figsize = (10,8),color = colors)\n",
        "ax.yaxis.set_major_formatter(mtick.PercentFormatter())\n",
        "ax.legend(loc='best',prop={'size':14},title = 'Churn')\n",
        "ax.set_ylabel('% Customers',size = 14)\n",
        "ax.set_title('Churn by Customer service calls',size = 14)\n",
        "\n",
        "# Code to add the data labels on the stacked bar chart\n",
        "for p in ax.patches:\n",
        "    width, height = p.get_width(), p.get_height()\n",
        "    x, y = p.get_xy() \n",
        "    ax.annotate('{:.0f}%'.format(height), (p.get_x()+.25*width, p.get_y()+.4*height),\n",
        "                color = 'white',\n",
        "               weight = 'bold',\n",
        "               size = 10)"
      ],
      "execution_count": null,
      "outputs": [
        {
          "output_type": "display_data",
          "data": {
            "image/png": "[encoded data removed]",
            "text/plain": [
              "<Figure size 720x576 with 1 Axes>"
            ]
          },
          "metadata": {
            "tags": []
          }
        }
      ]
    },
    {
      "cell_type": "markdown",
      "metadata": {
        "id": "ST6tmrfuo7Ss"
      },
      "source": [
        "A significant spike in churn can be seen from above figure  as customer calls increases beyond 4 customer calls.\n",
        "\n",
        "After 3 service calls its rises to range greater than 50%.\n"
      ]
    },
    {
      "cell_type": "markdown",
      "metadata": {
        "id": "SbIQE4WgYQkk"
      },
      "source": [
        "# Understanding churn vs voice mail plan:"
      ]
    },
    {
      "cell_type": "markdown",
      "metadata": {
        "id": "ee3KcJaGYaCp"
      },
      "source": [
        "# PLOT 8"
      ]
    },
    {
      "cell_type": "code",
      "metadata": {
        "colab": {
          "base_uri": "https://localhost:8080/",
          "height": 514
        },
        "id": "cavxkzGupK8o",
        "outputId": "ea7e4c50-9791-4d94-d20b-7c350e8b86a0"
      },
      "source": [
        "colors = ['green','red']\n",
        "contract_churn = df.groupby(['Voice mail plan','Churn']).size().unstack()\n",
        "\n",
        "ax = (contract_churn.T*100.0 / contract_churn.T.sum()).T.plot(kind='bar', width = 0.5,stacked = True, rot = 0, figsize = (10,8),color = colors)\n",
        "ax.yaxis.set_major_formatter(mtick.PercentFormatter())\n",
        "ax.legend(loc='best',prop={'size':14},title = 'Churn')\n",
        "ax.set_ylabel('% Customers',size = 14)\n",
        "ax.set_title('Churn by Voice mail plan',size = 14)\n",
        "\n",
        "# Code to add the data labels on the stacked bar chart\n",
        "for p in ax.patches:\n",
        "    width, height = p.get_width(), p.get_height()\n",
        "    x, y = p.get_xy() \n",
        "    ax.annotate('{:.0f}%'.format(height), (p.get_x()+.25*width, p.get_y()+.4*height),\n",
        "                color = 'white',\n",
        "               weight = 'bold',\n",
        "               size = 10)"
      ],
      "execution_count": null,
      "outputs": [
        {
          "output_type": "display_data",
          "data": {
            "image/png": "[encoded data removed]",
            "text/plain": [
              "<Figure size 720x576 with 1 Axes>"
            ]
          },
          "metadata": {
            "tags": []
          }
        }
      ]
    },
    {
      "cell_type": "markdown",
      "metadata": {
        "id": "98737tLCTg-F"
      },
      "source": [
        "From the above plot we can observe that voice mail plan almost has same \n",
        "\n",
        "distribution range in both churn and non-churn \n",
        "\n",
        "customers.\n",
        "\n",
        "Thus a low impact feature when it comes to driving churn rate."
      ]
    },
    {
      "cell_type": "markdown",
      "metadata": {
        "id": "mqeDZxWiP5zM"
      },
      "source": [
        "# My Learnings:\n",
        "\n",
        "**1. The mathematical concepts of understanding how different features work in a given datsets greatly helped pointing towards correlation**.\n",
        "\n",
        "**2. Some of the features which are directly playing a significant role in churn rate are**\n",
        "\n",
        "A. Customer service calls\n",
        "\n",
        "B. International Plans\n",
        "\n",
        "C. Total day minutes"
      ]
    },
    {
      "cell_type": "markdown",
      "metadata": {
        "id": "pi5qJkejRNXC"
      },
      "source": [
        "# MY CONCLUSION:\n",
        "\n",
        "1.THE FOCUS ON SERVICE RESOLUTION CAN BE IMPROVED BY ALLOTING MULTIPLE AND ACTIVE SERVICE INFORMATION REGARDING WHICH THE COMPLAINT WAS REGISTRED.\n",
        "\n",
        "2.SERVICE PROVIDERS MUST REGULARIZE THE INTERNATIONAL CONNECTIVITY AND SEVERAL OTHER METHODS LIKE :\n",
        "\n",
        "A. OFFERING ELUSIVE SCHEMES\n",
        "\n",
        "B. EXPANDING SERVICE AREA IN FOREIGN LANDS FOR BETTER COVERAGE .\n",
        "\n",
        "C. BANDS UPGARDATION.\n",
        "\n"
      ]
    },
    {
      "cell_type": "code",
      "metadata": {
        "id": "7jTMwdk0HQHP"
      },
      "source": [
        "new_df=df[['Churn','Customer service calls']]"
      ],
      "execution_count": null,
      "outputs": []
    },
    {
      "cell_type": "code",
      "metadata": {
        "colab": {
          "base_uri": "https://localhost:8080/",
          "height": 424
        },
        "id": "phIIZFXGH3jR",
        "outputId": "6b7586e5-1729-4e5b-c858-5b2649119180"
      },
      "source": [
        "new_df"
      ],
      "execution_count": null,
      "outputs": [
        {
          "output_type": "execute_result",
          "data": {
            "text/html": [
              "<div>\n",
              "<style scoped>\n",
              "    .dataframe tbody tr th:only-of-type {\n",
              "        vertical-align: middle;\n",
              "    }\n",
              "\n",
              "    .dataframe tbody tr th {\n",
              "        vertical-align: top;\n",
              "    }\n",
              "\n",
              "    .dataframe thead th {\n",
              "        text-align: right;\n",
              "    }\n",
              "</style>\n",
              "<table border=\"1\" class=\"dataframe\">\n",
              "  <thead>\n",
              "    <tr style=\"text-align: right;\">\n",
              "      <th></th>\n",
              "      <th>Churn</th>\n",
              "      <th>Customer service calls</th>\n",
              "    </tr>\n",
              "  </thead>\n",
              "  <tbody>\n",
              "    <tr>\n",
              "      <th>0</th>\n",
              "      <td>False</td>\n",
              "      <td>1</td>\n",
              "    </tr>\n",
              "    <tr>\n",
              "      <th>1</th>\n",
              "      <td>False</td>\n",
              "      <td>1</td>\n",
              "    </tr>\n",
              "    <tr>\n",
              "      <th>2</th>\n",
              "      <td>False</td>\n",
              "      <td>0</td>\n",
              "    </tr>\n",
              "    <tr>\n",
              "      <th>3</th>\n",
              "      <td>False</td>\n",
              "      <td>2</td>\n",
              "    </tr>\n",
              "    <tr>\n",
              "      <th>4</th>\n",
              "      <td>False</td>\n",
              "      <td>3</td>\n",
              "    </tr>\n",
              "    <tr>\n",
              "      <th>...</th>\n",
              "      <td>...</td>\n",
              "      <td>...</td>\n",
              "    </tr>\n",
              "    <tr>\n",
              "      <th>3328</th>\n",
              "      <td>False</td>\n",
              "      <td>2</td>\n",
              "    </tr>\n",
              "    <tr>\n",
              "      <th>3329</th>\n",
              "      <td>False</td>\n",
              "      <td>3</td>\n",
              "    </tr>\n",
              "    <tr>\n",
              "      <th>3330</th>\n",
              "      <td>False</td>\n",
              "      <td>2</td>\n",
              "    </tr>\n",
              "    <tr>\n",
              "      <th>3331</th>\n",
              "      <td>False</td>\n",
              "      <td>2</td>\n",
              "    </tr>\n",
              "    <tr>\n",
              "      <th>3332</th>\n",
              "      <td>False</td>\n",
              "      <td>0</td>\n",
              "    </tr>\n",
              "  </tbody>\n",
              "</table>\n",
              "<p>3333 rows × 2 columns</p>\n",
              "</div>"
            ],
            "text/plain": [
              "      Churn  Customer service calls\n",
              "0     False                       1\n",
              "1     False                       1\n",
              "2     False                       0\n",
              "3     False                       2\n",
              "4     False                       3\n",
              "...     ...                     ...\n",
              "3328  False                       2\n",
              "3329  False                       3\n",
              "3330  False                       2\n",
              "3331  False                       2\n",
              "3332  False                       0\n",
              "\n",
              "[3333 rows x 2 columns]"
            ]
          },
          "metadata": {
            "tags": []
          },
          "execution_count": 7
        }
      ]
    },
    {
      "cell_type": "code",
      "metadata": {
        "colab": {
          "background_save": true
        },
        "id": "NC15wUIyH_P4",
        "outputId": "a7780b06-55a6-4339-8089-11560dc4b8a0"
      },
      "source": [
        "#Get Correlation of \"Churn\" with other variables:\n",
        "corr = df.corr()\n",
        "\n",
        "\n",
        "mask = np.triu(np.ones_like(corr, dtype=bool))\n",
        "\n",
        "f, ax = plt.subplots(figsize=(11, 9))\n",
        "\n",
        "cmap = sns.diverging_palette(230, 20, as_cmap=True)\n",
        "\n",
        "sns.heatmap(corr, mask=mask, cmap=cmap, vmax=.3, center=0,\n",
        "            square=True, linewidths=.5, cbar_kws={\"shrink\": .5})"
      ],
      "execution_count": null,
      "outputs": [
        {
          "output_type": "execute_result",
          "data": {
            "text/plain": [
              "<matplotlib.axes._subplots.AxesSubplot at 0x7f419ade04d0>"
            ]
          },
          "metadata": {
            "tags": []
          },
          "execution_count": 0
        },
        {
          "output_type": "display_data",
          "data": {
            "image/png": "[encoded data removed]",
            "text/plain": [
              "<Figure size 792x648 with 2 Axes>"
            ]
          },
          "metadata": {
            "tags": []
          }
        }
      ]
    }
  ]
}